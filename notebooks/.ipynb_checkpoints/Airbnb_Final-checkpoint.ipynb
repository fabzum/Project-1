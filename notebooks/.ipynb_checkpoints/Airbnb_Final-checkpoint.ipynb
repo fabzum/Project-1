{
 "cells": [
  {
   "cell_type": "code",
   "execution_count": 1,
   "metadata": {},
   "outputs": [],
   "source": [
    "# Dependencies and Setup\n",
    "import matplotlib.pyplot as plt\n",
    "import pandas as pd\n",
    "import numpy as np\n",
    "import requests\n",
    "import time\n",
    "from scipy.stats import linregress\n",
    "from pprint import pprint\n",
    "import os\n",
    "import csv\n",
    "import gmaps\n",
    "import gmaps.datasets\n",
    "import seaborn as sns\n",
    "\n",
    "from api_keys import g_key"
   ]
  },
  {
   "cell_type": "code",
   "execution_count": 2,
   "metadata": {},
   "outputs": [],
   "source": [
    "#Import the four CSV from each year\n",
    "mar_2020_work = \"../work_csv/mar_2020_work.csv\"\n",
    "mar_2019_work = \"../work_csv/mar_2019_work.csv\"\n",
    "mar_2018_work = \"../work_csv/mar_2018_work.csv\"\n",
    "mar_2017_work = \"../work_csv/mar_2017_work.csv\""
   ]
  },
  {
   "cell_type": "code",
   "execution_count": 3,
   "metadata": {},
   "outputs": [],
   "source": [
    "#Read the imported CVS's\n",
    "march_2020 = pd.read_csv(mar_2020_work, low_memory=False)\n",
    "march_2019 = pd.read_csv(mar_2019_work, low_memory=False)\n",
    "march_2018 = pd.read_csv(mar_2018_work, low_memory=False)\n",
    "march_2017 = pd.read_csv(mar_2017_work, low_memory=False)\n"
   ]
  },
  {
   "cell_type": "code",
   "execution_count": 4,
   "metadata": {},
   "outputs": [],
   "source": [
    "#Size the Dataframe down the the Columns of Interest\n",
    "march_2017_small = march_2017[[\"id\", \"host_is_superhost\", \"neighbourhood_group_cleansed\", \"latitude\", \"longitude\", \"property_type\", \"room_type\", \"price\"]]\n",
    "march_2018_small = march_2018[[\"id\", \"host_is_superhost\", \"neighbourhood_group_cleansed\", \"latitude\", \"longitude\", \"property_type\", \"room_type\", \"price\"]]\n",
    "march_2019_small = march_2019[[\"id\", \"host_is_superhost\", \"neighbourhood_group_cleansed\", \"latitude\", \"longitude\", \"property_type\", \"room_type\", \"price\"]]\n",
    "march_2020_small = march_2020[[\"id\", \"host_is_superhost\", \"neighbourhood_group_cleansed\", \"latitude\", \"longitude\", \"property_type\", \"room_type\", \"price\"]]\n"
   ]
  },
  {
   "cell_type": "code",
   "execution_count": 5,
   "metadata": {},
   "outputs": [],
   "source": [
    "#Merging of 2017 and 2018\n",
    "merged_data1 = pd.merge(march_2017_small, march_2018_small, on = \"id\")\n",
    "merged_data1 = merged_data1.rename(columns={\"host_is_superhost_x\": \"2017\", \n",
    "                                            \"host_is_superhost_y\": \"2018\", \n",
    "                                            \"price_x\": \"Price_17\", \n",
    "                                            \"price_y\": \"Price_18\",\n",
    "                                            \"neighbourhood_group_cleansed_x\": \"Hood_17\",\n",
    "                                            \"neighbourhood_group_cleansed_y\": \"Hood_18\",\n",
    "                                            \"latitude_x\": \"Lat_17\",\n",
    "                                            \"longitude_x\": \"Lon_17\",\n",
    "                                            \"latitude_y\": \"Lat_18\",\n",
    "                                            \"longitude_y\": \"Lon_18\",\n",
    "                                            \"property_type_x\": \"Prop_17\",\n",
    "                                            \"property_type_y\": \"Prop_18\",\n",
    "                                            \"room_type_x\": \"Type_17\",\n",
    "                                            \"room_type_y\": \"Type_18\"})"
   ]
  },
  {
   "cell_type": "code",
   "execution_count": 6,
   "metadata": {},
   "outputs": [],
   "source": [
    "#Renaming the Columns\n",
    "march_2019_small = march_2019_small.rename(columns={\"host_is_superhost\": \"2019\", \n",
    "                                            \"price\": \"Price_19\",\n",
    "                                            \"neighbourhood_group_cleansed\": \"Hood_19\",\n",
    "                                            \"latitude\": \"Lat_19\",\n",
    "                                            \"longitude\": \"Lon_19\",\n",
    "                                            \"property_type\": \"Prop_19\",\n",
    "                                            \"room_type\": \"Type_19\"})"
   ]
  },
  {
   "cell_type": "code",
   "execution_count": 7,
   "metadata": {},
   "outputs": [],
   "source": [
    "#Merging the previously merged Dataframe with 2019\n",
    "merged_data2 = pd.merge(merged_data1, march_2019_small, on = \"id\")"
   ]
  },
  {
   "cell_type": "code",
   "execution_count": 8,
   "metadata": {},
   "outputs": [],
   "source": [
    "#Renaming the Columns\n",
    "march_2020_small = march_2020_small.rename(columns={\"host_is_superhost\": \"2020\", \n",
    "                                            \"price\": \"Price_20\",\n",
    "                                            \"neighbourhood_group_cleansed\": \"Hood_20\",\n",
    "                                            \"latitude\": \"Lat_20\",\n",
    "                                            \"longitude\": \"Lon_20\",\n",
    "                                            \"property_type\": \"Prop_20\",\n",
    "                                            \"room_type\": \"Type_20\"})"
   ]
  },
  {
   "cell_type": "code",
   "execution_count": 9,
   "metadata": {},
   "outputs": [
    {
     "data": {
      "text/html": [
       "<div>\n",
       "<style scoped>\n",
       "    .dataframe tbody tr th:only-of-type {\n",
       "        vertical-align: middle;\n",
       "    }\n",
       "\n",
       "    .dataframe tbody tr th {\n",
       "        vertical-align: top;\n",
       "    }\n",
       "\n",
       "    .dataframe thead th {\n",
       "        text-align: right;\n",
       "    }\n",
       "</style>\n",
       "<table border=\"1\" class=\"dataframe\">\n",
       "  <thead>\n",
       "    <tr style=\"text-align: right;\">\n",
       "      <th></th>\n",
       "      <th>id</th>\n",
       "      <th>2017</th>\n",
       "      <th>Hood_17</th>\n",
       "      <th>Lat_17</th>\n",
       "      <th>Lon_17</th>\n",
       "      <th>Prop_17</th>\n",
       "      <th>Type_17</th>\n",
       "      <th>Price_17</th>\n",
       "      <th>2018</th>\n",
       "      <th>Hood_18</th>\n",
       "      <th>...</th>\n",
       "      <th>Prop_19</th>\n",
       "      <th>Type_19</th>\n",
       "      <th>Price_19</th>\n",
       "      <th>2020</th>\n",
       "      <th>Hood_20</th>\n",
       "      <th>Lat_20</th>\n",
       "      <th>Lon_20</th>\n",
       "      <th>Prop_20</th>\n",
       "      <th>Type_20</th>\n",
       "      <th>Price_20</th>\n",
       "    </tr>\n",
       "  </thead>\n",
       "  <tbody>\n",
       "    <tr>\n",
       "      <td>0</td>\n",
       "      <td>7949480</td>\n",
       "      <td>t</td>\n",
       "      <td>Bronx</td>\n",
       "      <td>40.852054</td>\n",
       "      <td>-73.788680</td>\n",
       "      <td>House</td>\n",
       "      <td>Private room</td>\n",
       "      <td>$99.00</td>\n",
       "      <td>t</td>\n",
       "      <td>Bronx</td>\n",
       "      <td>...</td>\n",
       "      <td>House</td>\n",
       "      <td>Private room</td>\n",
       "      <td>$107.00</td>\n",
       "      <td>t</td>\n",
       "      <td>Bronx</td>\n",
       "      <td>40.85205</td>\n",
       "      <td>-73.78868</td>\n",
       "      <td>House</td>\n",
       "      <td>Private room</td>\n",
       "      <td>$109.00</td>\n",
       "    </tr>\n",
       "    <tr>\n",
       "      <td>1</td>\n",
       "      <td>715270</td>\n",
       "      <td>f</td>\n",
       "      <td>Bronx</td>\n",
       "      <td>40.859559</td>\n",
       "      <td>-73.870669</td>\n",
       "      <td>Apartment</td>\n",
       "      <td>Private room</td>\n",
       "      <td>$39.00</td>\n",
       "      <td>f</td>\n",
       "      <td>Bronx</td>\n",
       "      <td>...</td>\n",
       "      <td>Apartment</td>\n",
       "      <td>Private room</td>\n",
       "      <td>$39.00</td>\n",
       "      <td>f</td>\n",
       "      <td>Bronx</td>\n",
       "      <td>40.85956</td>\n",
       "      <td>-73.87067</td>\n",
       "      <td>Apartment</td>\n",
       "      <td>Private room</td>\n",
       "      <td>$39.00</td>\n",
       "    </tr>\n",
       "    <tr>\n",
       "      <td>2</td>\n",
       "      <td>4462008</td>\n",
       "      <td>f</td>\n",
       "      <td>Bronx</td>\n",
       "      <td>40.868144</td>\n",
       "      <td>-73.858745</td>\n",
       "      <td>House</td>\n",
       "      <td>Private room</td>\n",
       "      <td>$48.00</td>\n",
       "      <td>t</td>\n",
       "      <td>Bronx</td>\n",
       "      <td>...</td>\n",
       "      <td>House</td>\n",
       "      <td>Private room</td>\n",
       "      <td>$44.00</td>\n",
       "      <td>t</td>\n",
       "      <td>Bronx</td>\n",
       "      <td>40.86814</td>\n",
       "      <td>-73.85874</td>\n",
       "      <td>House</td>\n",
       "      <td>Private room</td>\n",
       "      <td>$45.00</td>\n",
       "    </tr>\n",
       "    <tr>\n",
       "      <td>3</td>\n",
       "      <td>5046189</td>\n",
       "      <td>t</td>\n",
       "      <td>Bronx</td>\n",
       "      <td>40.870541</td>\n",
       "      <td>-73.846807</td>\n",
       "      <td>House</td>\n",
       "      <td>Entire home/apt</td>\n",
       "      <td>$99.00</td>\n",
       "      <td>t</td>\n",
       "      <td>Bronx</td>\n",
       "      <td>...</td>\n",
       "      <td>House</td>\n",
       "      <td>Entire home/apt</td>\n",
       "      <td>$150.00</td>\n",
       "      <td>f</td>\n",
       "      <td>Bronx</td>\n",
       "      <td>40.87054</td>\n",
       "      <td>-73.84681</td>\n",
       "      <td>House</td>\n",
       "      <td>Entire home/apt</td>\n",
       "      <td>$550.00</td>\n",
       "    </tr>\n",
       "    <tr>\n",
       "      <td>4</td>\n",
       "      <td>182177</td>\n",
       "      <td>f</td>\n",
       "      <td>Bronx</td>\n",
       "      <td>40.864658</td>\n",
       "      <td>-73.857087</td>\n",
       "      <td>Apartment</td>\n",
       "      <td>Entire home/apt</td>\n",
       "      <td>$125.00</td>\n",
       "      <td>f</td>\n",
       "      <td>Bronx</td>\n",
       "      <td>...</td>\n",
       "      <td>Townhouse</td>\n",
       "      <td>Entire home/apt</td>\n",
       "      <td>$125.00</td>\n",
       "      <td>f</td>\n",
       "      <td>Bronx</td>\n",
       "      <td>40.86466</td>\n",
       "      <td>-73.85709</td>\n",
       "      <td>Guest suite</td>\n",
       "      <td>Entire home/apt</td>\n",
       "      <td>$125.00</td>\n",
       "    </tr>\n",
       "    <tr>\n",
       "      <td>...</td>\n",
       "      <td>...</td>\n",
       "      <td>...</td>\n",
       "      <td>...</td>\n",
       "      <td>...</td>\n",
       "      <td>...</td>\n",
       "      <td>...</td>\n",
       "      <td>...</td>\n",
       "      <td>...</td>\n",
       "      <td>...</td>\n",
       "      <td>...</td>\n",
       "      <td>...</td>\n",
       "      <td>...</td>\n",
       "      <td>...</td>\n",
       "      <td>...</td>\n",
       "      <td>...</td>\n",
       "      <td>...</td>\n",
       "      <td>...</td>\n",
       "      <td>...</td>\n",
       "      <td>...</td>\n",
       "      <td>...</td>\n",
       "      <td>...</td>\n",
       "    </tr>\n",
       "    <tr>\n",
       "      <td>7608</td>\n",
       "      <td>7800079</td>\n",
       "      <td>f</td>\n",
       "      <td>Brooklyn</td>\n",
       "      <td>40.706943</td>\n",
       "      <td>-73.932461</td>\n",
       "      <td>Apartment</td>\n",
       "      <td>Entire home/apt</td>\n",
       "      <td>$100.00</td>\n",
       "      <td>f</td>\n",
       "      <td>Brooklyn</td>\n",
       "      <td>...</td>\n",
       "      <td>Apartment</td>\n",
       "      <td>Entire home/apt</td>\n",
       "      <td>$100.00</td>\n",
       "      <td>f</td>\n",
       "      <td>Brooklyn</td>\n",
       "      <td>40.70694</td>\n",
       "      <td>-73.93246</td>\n",
       "      <td>Apartment</td>\n",
       "      <td>Entire home/apt</td>\n",
       "      <td>$100.00</td>\n",
       "    </tr>\n",
       "    <tr>\n",
       "      <td>7609</td>\n",
       "      <td>13389756</td>\n",
       "      <td>f</td>\n",
       "      <td>Brooklyn</td>\n",
       "      <td>40.717691</td>\n",
       "      <td>-73.952748</td>\n",
       "      <td>Apartment</td>\n",
       "      <td>Private room</td>\n",
       "      <td>$95.00</td>\n",
       "      <td>f</td>\n",
       "      <td>Brooklyn</td>\n",
       "      <td>...</td>\n",
       "      <td>Apartment</td>\n",
       "      <td>Private room</td>\n",
       "      <td>$95.00</td>\n",
       "      <td>f</td>\n",
       "      <td>Brooklyn</td>\n",
       "      <td>40.71769</td>\n",
       "      <td>-73.95275</td>\n",
       "      <td>Apartment</td>\n",
       "      <td>Private room</td>\n",
       "      <td>$95.00</td>\n",
       "    </tr>\n",
       "    <tr>\n",
       "      <td>7610</td>\n",
       "      <td>413504</td>\n",
       "      <td>t</td>\n",
       "      <td>Brooklyn</td>\n",
       "      <td>40.713480</td>\n",
       "      <td>-73.944471</td>\n",
       "      <td>Apartment</td>\n",
       "      <td>Private room</td>\n",
       "      <td>$109.00</td>\n",
       "      <td>f</td>\n",
       "      <td>Brooklyn</td>\n",
       "      <td>...</td>\n",
       "      <td>Apartment</td>\n",
       "      <td>Private room</td>\n",
       "      <td>$119.00</td>\n",
       "      <td>f</td>\n",
       "      <td>Brooklyn</td>\n",
       "      <td>40.71348</td>\n",
       "      <td>-73.94447</td>\n",
       "      <td>Apartment</td>\n",
       "      <td>Private room</td>\n",
       "      <td>$119.00</td>\n",
       "    </tr>\n",
       "    <tr>\n",
       "      <td>7611</td>\n",
       "      <td>8408853</td>\n",
       "      <td>f</td>\n",
       "      <td>Brooklyn</td>\n",
       "      <td>40.711157</td>\n",
       "      <td>-73.940135</td>\n",
       "      <td>Apartment</td>\n",
       "      <td>Private room</td>\n",
       "      <td>$100.00</td>\n",
       "      <td>f</td>\n",
       "      <td>Brooklyn</td>\n",
       "      <td>...</td>\n",
       "      <td>Apartment</td>\n",
       "      <td>Private room</td>\n",
       "      <td>$100.00</td>\n",
       "      <td>f</td>\n",
       "      <td>Brooklyn</td>\n",
       "      <td>40.71116</td>\n",
       "      <td>-73.94014</td>\n",
       "      <td>Apartment</td>\n",
       "      <td>Private room</td>\n",
       "      <td>$100.00</td>\n",
       "    </tr>\n",
       "    <tr>\n",
       "      <td>7612</td>\n",
       "      <td>16273058</td>\n",
       "      <td>f</td>\n",
       "      <td>Brooklyn</td>\n",
       "      <td>40.718208</td>\n",
       "      <td>-73.953853</td>\n",
       "      <td>Apartment</td>\n",
       "      <td>Entire home/apt</td>\n",
       "      <td>$107.00</td>\n",
       "      <td>f</td>\n",
       "      <td>Brooklyn</td>\n",
       "      <td>...</td>\n",
       "      <td>Apartment</td>\n",
       "      <td>Entire home/apt</td>\n",
       "      <td>$100.00</td>\n",
       "      <td>f</td>\n",
       "      <td>Brooklyn</td>\n",
       "      <td>40.71821</td>\n",
       "      <td>-73.95385</td>\n",
       "      <td>Apartment</td>\n",
       "      <td>Entire home/apt</td>\n",
       "      <td>$100.00</td>\n",
       "    </tr>\n",
       "  </tbody>\n",
       "</table>\n",
       "<p>7613 rows × 29 columns</p>\n",
       "</div>"
      ],
      "text/plain": [
       "            id 2017   Hood_17     Lat_17     Lon_17    Prop_17  \\\n",
       "0      7949480    t     Bronx  40.852054 -73.788680      House   \n",
       "1       715270    f     Bronx  40.859559 -73.870669  Apartment   \n",
       "2      4462008    f     Bronx  40.868144 -73.858745      House   \n",
       "3      5046189    t     Bronx  40.870541 -73.846807      House   \n",
       "4       182177    f     Bronx  40.864658 -73.857087  Apartment   \n",
       "...        ...  ...       ...        ...        ...        ...   \n",
       "7608   7800079    f  Brooklyn  40.706943 -73.932461  Apartment   \n",
       "7609  13389756    f  Brooklyn  40.717691 -73.952748  Apartment   \n",
       "7610    413504    t  Brooklyn  40.713480 -73.944471  Apartment   \n",
       "7611   8408853    f  Brooklyn  40.711157 -73.940135  Apartment   \n",
       "7612  16273058    f  Brooklyn  40.718208 -73.953853  Apartment   \n",
       "\n",
       "              Type_17 Price_17 2018   Hood_18  ...    Prop_19  \\\n",
       "0        Private room   $99.00    t     Bronx  ...      House   \n",
       "1        Private room   $39.00    f     Bronx  ...  Apartment   \n",
       "2        Private room   $48.00    t     Bronx  ...      House   \n",
       "3     Entire home/apt   $99.00    t     Bronx  ...      House   \n",
       "4     Entire home/apt  $125.00    f     Bronx  ...  Townhouse   \n",
       "...               ...      ...  ...       ...  ...        ...   \n",
       "7608  Entire home/apt  $100.00    f  Brooklyn  ...  Apartment   \n",
       "7609     Private room   $95.00    f  Brooklyn  ...  Apartment   \n",
       "7610     Private room  $109.00    f  Brooklyn  ...  Apartment   \n",
       "7611     Private room  $100.00    f  Brooklyn  ...  Apartment   \n",
       "7612  Entire home/apt  $107.00    f  Brooklyn  ...  Apartment   \n",
       "\n",
       "              Type_19 Price_19 2020   Hood_20    Lat_20    Lon_20  \\\n",
       "0        Private room  $107.00    t     Bronx  40.85205 -73.78868   \n",
       "1        Private room   $39.00    f     Bronx  40.85956 -73.87067   \n",
       "2        Private room   $44.00    t     Bronx  40.86814 -73.85874   \n",
       "3     Entire home/apt  $150.00    f     Bronx  40.87054 -73.84681   \n",
       "4     Entire home/apt  $125.00    f     Bronx  40.86466 -73.85709   \n",
       "...               ...      ...  ...       ...       ...       ...   \n",
       "7608  Entire home/apt  $100.00    f  Brooklyn  40.70694 -73.93246   \n",
       "7609     Private room   $95.00    f  Brooklyn  40.71769 -73.95275   \n",
       "7610     Private room  $119.00    f  Brooklyn  40.71348 -73.94447   \n",
       "7611     Private room  $100.00    f  Brooklyn  40.71116 -73.94014   \n",
       "7612  Entire home/apt  $100.00    f  Brooklyn  40.71821 -73.95385   \n",
       "\n",
       "          Prop_20          Type_20 Price_20  \n",
       "0           House     Private room  $109.00  \n",
       "1       Apartment     Private room   $39.00  \n",
       "2           House     Private room   $45.00  \n",
       "3           House  Entire home/apt  $550.00  \n",
       "4     Guest suite  Entire home/apt  $125.00  \n",
       "...           ...              ...      ...  \n",
       "7608    Apartment  Entire home/apt  $100.00  \n",
       "7609    Apartment     Private room   $95.00  \n",
       "7610    Apartment     Private room  $119.00  \n",
       "7611    Apartment     Private room  $100.00  \n",
       "7612    Apartment  Entire home/apt  $100.00  \n",
       "\n",
       "[7613 rows x 29 columns]"
      ]
     },
     "execution_count": 9,
     "metadata": {},
     "output_type": "execute_result"
    }
   ],
   "source": [
    "#Merging the previously merged Dataframe with 2020\n",
    "merged_data3 = pd.merge(merged_data2, march_2020_small, on = \"id\")\n",
    "#Drop all the null values\n",
    "merged_data3.dropna()"
   ]
  },
  {
   "cell_type": "code",
   "execution_count": 10,
   "metadata": {},
   "outputs": [],
   "source": [
    "#Sizing down the merged Dataframe to listings that fullfill the conditions of being Hosts in 2017 and Superhosts in 2020\n",
    "change_superhost = merged_data3.loc[(merged_data3[\"2017\"]  == \"f\") \n",
    "                                    & (merged_data3[\"2020\"]  == \"t\")]   "
   ]
  },
  {
   "cell_type": "code",
   "execution_count": 11,
   "metadata": {},
   "outputs": [
    {
     "name": "stderr",
     "output_type": "stream",
     "text": [
      "/Users/stefan_blagojevic/opt/anaconda3/lib/python3.7/site-packages/ipykernel_launcher.py:2: SettingWithCopyWarning: \n",
      "A value is trying to be set on a copy of a slice from a DataFrame.\n",
      "Try using .loc[row_indexer,col_indexer] = value instead\n",
      "\n",
      "See the caveats in the documentation: http://pandas.pydata.org/pandas-docs/stable/user_guide/indexing.html#returning-a-view-versus-a-copy\n",
      "  \n",
      "/Users/stefan_blagojevic/opt/anaconda3/lib/python3.7/site-packages/ipykernel_launcher.py:3: SettingWithCopyWarning: \n",
      "A value is trying to be set on a copy of a slice from a DataFrame.\n",
      "Try using .loc[row_indexer,col_indexer] = value instead\n",
      "\n",
      "See the caveats in the documentation: http://pandas.pydata.org/pandas-docs/stable/user_guide/indexing.html#returning-a-view-versus-a-copy\n",
      "  This is separate from the ipykernel package so we can avoid doing imports until\n",
      "/Users/stefan_blagojevic/opt/anaconda3/lib/python3.7/site-packages/ipykernel_launcher.py:5: SettingWithCopyWarning: \n",
      "A value is trying to be set on a copy of a slice from a DataFrame.\n",
      "Try using .loc[row_indexer,col_indexer] = value instead\n",
      "\n",
      "See the caveats in the documentation: http://pandas.pydata.org/pandas-docs/stable/user_guide/indexing.html#returning-a-view-versus-a-copy\n",
      "  \"\"\"\n",
      "/Users/stefan_blagojevic/opt/anaconda3/lib/python3.7/site-packages/ipykernel_launcher.py:6: SettingWithCopyWarning: \n",
      "A value is trying to be set on a copy of a slice from a DataFrame.\n",
      "Try using .loc[row_indexer,col_indexer] = value instead\n",
      "\n",
      "See the caveats in the documentation: http://pandas.pydata.org/pandas-docs/stable/user_guide/indexing.html#returning-a-view-versus-a-copy\n",
      "  \n",
      "/Users/stefan_blagojevic/opt/anaconda3/lib/python3.7/site-packages/ipykernel_launcher.py:8: SettingWithCopyWarning: \n",
      "A value is trying to be set on a copy of a slice from a DataFrame.\n",
      "Try using .loc[row_indexer,col_indexer] = value instead\n",
      "\n",
      "See the caveats in the documentation: http://pandas.pydata.org/pandas-docs/stable/user_guide/indexing.html#returning-a-view-versus-a-copy\n",
      "  \n",
      "/Users/stefan_blagojevic/opt/anaconda3/lib/python3.7/site-packages/ipykernel_launcher.py:9: SettingWithCopyWarning: \n",
      "A value is trying to be set on a copy of a slice from a DataFrame.\n",
      "Try using .loc[row_indexer,col_indexer] = value instead\n",
      "\n",
      "See the caveats in the documentation: http://pandas.pydata.org/pandas-docs/stable/user_guide/indexing.html#returning-a-view-versus-a-copy\n",
      "  if __name__ == '__main__':\n",
      "/Users/stefan_blagojevic/opt/anaconda3/lib/python3.7/site-packages/ipykernel_launcher.py:11: SettingWithCopyWarning: \n",
      "A value is trying to be set on a copy of a slice from a DataFrame.\n",
      "Try using .loc[row_indexer,col_indexer] = value instead\n",
      "\n",
      "See the caveats in the documentation: http://pandas.pydata.org/pandas-docs/stable/user_guide/indexing.html#returning-a-view-versus-a-copy\n",
      "  # This is added back by InteractiveShellApp.init_path()\n",
      "/Users/stefan_blagojevic/opt/anaconda3/lib/python3.7/site-packages/ipykernel_launcher.py:12: SettingWithCopyWarning: \n",
      "A value is trying to be set on a copy of a slice from a DataFrame.\n",
      "Try using .loc[row_indexer,col_indexer] = value instead\n",
      "\n",
      "See the caveats in the documentation: http://pandas.pydata.org/pandas-docs/stable/user_guide/indexing.html#returning-a-view-versus-a-copy\n",
      "  if sys.path[0] == '':\n",
      "/Users/stefan_blagojevic/opt/anaconda3/lib/python3.7/site-packages/ipykernel_launcher.py:14: SettingWithCopyWarning: \n",
      "A value is trying to be set on a copy of a slice from a DataFrame.\n",
      "Try using .loc[row_indexer,col_indexer] = value instead\n",
      "\n",
      "See the caveats in the documentation: http://pandas.pydata.org/pandas-docs/stable/user_guide/indexing.html#returning-a-view-versus-a-copy\n",
      "  \n",
      "/Users/stefan_blagojevic/opt/anaconda3/lib/python3.7/site-packages/ipykernel_launcher.py:15: SettingWithCopyWarning: \n",
      "A value is trying to be set on a copy of a slice from a DataFrame.\n",
      "Try using .loc[row_indexer,col_indexer] = value instead\n",
      "\n",
      "See the caveats in the documentation: http://pandas.pydata.org/pandas-docs/stable/user_guide/indexing.html#returning-a-view-versus-a-copy\n",
      "  from ipykernel import kernelapp as app\n",
      "/Users/stefan_blagojevic/opt/anaconda3/lib/python3.7/site-packages/ipykernel_launcher.py:16: SettingWithCopyWarning: \n",
      "A value is trying to be set on a copy of a slice from a DataFrame.\n",
      "Try using .loc[row_indexer,col_indexer] = value instead\n",
      "\n",
      "See the caveats in the documentation: http://pandas.pydata.org/pandas-docs/stable/user_guide/indexing.html#returning-a-view-versus-a-copy\n",
      "  app.launch_new_instance()\n",
      "/Users/stefan_blagojevic/opt/anaconda3/lib/python3.7/site-packages/ipykernel_launcher.py:17: SettingWithCopyWarning: \n",
      "A value is trying to be set on a copy of a slice from a DataFrame.\n",
      "Try using .loc[row_indexer,col_indexer] = value instead\n",
      "\n",
      "See the caveats in the documentation: http://pandas.pydata.org/pandas-docs/stable/user_guide/indexing.html#returning-a-view-versus-a-copy\n"
     ]
    }
   ],
   "source": [
    "#Removing commas, $ sign and casting the prices for all the years as floats\n",
    "change_superhost[\"Price_17\"]= change_superhost[\"Price_17\"].str.replace(',', '')\n",
    "change_superhost[\"Price_17\"] = change_superhost[\"Price_17\"].str.replace('$', '')\n",
    "\n",
    "change_superhost[\"Price_18\"]  = change_superhost[\"Price_18\"] .str.replace(',', '')\n",
    "change_superhost[\"Price_18\"] = change_superhost[\"Price_18\"].str.replace('$', '')\n",
    "\n",
    "change_superhost[\"Price_19\"]= change_superhost[\"Price_19\"].str.replace(',', '')\n",
    "change_superhost[\"Price_19\"] = change_superhost[\"Price_19\"].str.replace('$', '')\n",
    "\n",
    "change_superhost[\"Price_20\"]= change_superhost[\"Price_20\"].str.replace(',', '')\n",
    "change_superhost[\"Price_20\"] = change_superhost[\"Price_20\"].str.replace('$', '')\n",
    "\n",
    "change_superhost[\"Price_17\"] = change_superhost[\"Price_17\"].astype(float)\n",
    "change_superhost[\"Price_18\"] = change_superhost[\"Price_18\"].astype(float)\n",
    "change_superhost[\"Price_19\"] = change_superhost[\"Price_19\"].astype(float)\n",
    "change_superhost[\"Price_20\"] = change_superhost[\"Price_20\"].astype(float)"
   ]
  },
  {
   "cell_type": "code",
   "execution_count": 12,
   "metadata": {},
   "outputs": [
    {
     "data": {
      "text/html": [
       "<div>\n",
       "<style scoped>\n",
       "    .dataframe tbody tr th:only-of-type {\n",
       "        vertical-align: middle;\n",
       "    }\n",
       "\n",
       "    .dataframe tbody tr th {\n",
       "        vertical-align: top;\n",
       "    }\n",
       "\n",
       "    .dataframe thead th {\n",
       "        text-align: right;\n",
       "    }\n",
       "</style>\n",
       "<table border=\"1\" class=\"dataframe\">\n",
       "  <thead>\n",
       "    <tr style=\"text-align: right;\">\n",
       "      <th></th>\n",
       "      <th>id</th>\n",
       "      <th>2017</th>\n",
       "      <th>Hood_17</th>\n",
       "      <th>Lat_17</th>\n",
       "      <th>Lon_17</th>\n",
       "      <th>Prop_17</th>\n",
       "      <th>Type_17</th>\n",
       "      <th>Price_17</th>\n",
       "      <th>2018</th>\n",
       "      <th>Hood_18</th>\n",
       "      <th>...</th>\n",
       "      <th>Prop_19</th>\n",
       "      <th>Type_19</th>\n",
       "      <th>Price_19</th>\n",
       "      <th>2020</th>\n",
       "      <th>Hood_20</th>\n",
       "      <th>Lat_20</th>\n",
       "      <th>Lon_20</th>\n",
       "      <th>Prop_20</th>\n",
       "      <th>Type_20</th>\n",
       "      <th>Price_20</th>\n",
       "    </tr>\n",
       "  </thead>\n",
       "  <tbody>\n",
       "    <tr>\n",
       "      <td>2</td>\n",
       "      <td>4462008</td>\n",
       "      <td>f</td>\n",
       "      <td>Bronx</td>\n",
       "      <td>40.868144</td>\n",
       "      <td>-73.858745</td>\n",
       "      <td>House</td>\n",
       "      <td>Private room</td>\n",
       "      <td>48.0</td>\n",
       "      <td>t</td>\n",
       "      <td>Bronx</td>\n",
       "      <td>...</td>\n",
       "      <td>House</td>\n",
       "      <td>Private room</td>\n",
       "      <td>44.0</td>\n",
       "      <td>t</td>\n",
       "      <td>Bronx</td>\n",
       "      <td>40.86814</td>\n",
       "      <td>-73.85874</td>\n",
       "      <td>House</td>\n",
       "      <td>Private room</td>\n",
       "      <td>45.0</td>\n",
       "    </tr>\n",
       "    <tr>\n",
       "      <td>6</td>\n",
       "      <td>3400359</td>\n",
       "      <td>f</td>\n",
       "      <td>Bronx</td>\n",
       "      <td>40.866770</td>\n",
       "      <td>-73.859378</td>\n",
       "      <td>House</td>\n",
       "      <td>Private room</td>\n",
       "      <td>48.0</td>\n",
       "      <td>t</td>\n",
       "      <td>Bronx</td>\n",
       "      <td>...</td>\n",
       "      <td>House</td>\n",
       "      <td>Private room</td>\n",
       "      <td>45.0</td>\n",
       "      <td>t</td>\n",
       "      <td>Bronx</td>\n",
       "      <td>40.86677</td>\n",
       "      <td>-73.85938</td>\n",
       "      <td>House</td>\n",
       "      <td>Private room</td>\n",
       "      <td>45.0</td>\n",
       "    </tr>\n",
       "    <tr>\n",
       "      <td>8</td>\n",
       "      <td>3429765</td>\n",
       "      <td>f</td>\n",
       "      <td>Bronx</td>\n",
       "      <td>40.866889</td>\n",
       "      <td>-73.857756</td>\n",
       "      <td>House</td>\n",
       "      <td>Private room</td>\n",
       "      <td>45.0</td>\n",
       "      <td>t</td>\n",
       "      <td>Bronx</td>\n",
       "      <td>...</td>\n",
       "      <td>House</td>\n",
       "      <td>Private room</td>\n",
       "      <td>43.0</td>\n",
       "      <td>t</td>\n",
       "      <td>Bronx</td>\n",
       "      <td>40.86689</td>\n",
       "      <td>-73.85776</td>\n",
       "      <td>House</td>\n",
       "      <td>Private room</td>\n",
       "      <td>45.0</td>\n",
       "    </tr>\n",
       "    <tr>\n",
       "      <td>9</td>\n",
       "      <td>14788009</td>\n",
       "      <td>f</td>\n",
       "      <td>Queens</td>\n",
       "      <td>40.780306</td>\n",
       "      <td>-73.910030</td>\n",
       "      <td>Apartment</td>\n",
       "      <td>Entire home/apt</td>\n",
       "      <td>85.0</td>\n",
       "      <td>t</td>\n",
       "      <td>Queens</td>\n",
       "      <td>...</td>\n",
       "      <td>Guest suite</td>\n",
       "      <td>Entire home/apt</td>\n",
       "      <td>95.0</td>\n",
       "      <td>t</td>\n",
       "      <td>Queens</td>\n",
       "      <td>40.78031</td>\n",
       "      <td>-73.91003</td>\n",
       "      <td>Guest suite</td>\n",
       "      <td>Entire home/apt</td>\n",
       "      <td>95.0</td>\n",
       "    </tr>\n",
       "    <tr>\n",
       "      <td>11</td>\n",
       "      <td>1578776</td>\n",
       "      <td>f</td>\n",
       "      <td>Queens</td>\n",
       "      <td>40.774350</td>\n",
       "      <td>-73.912175</td>\n",
       "      <td>Apartment</td>\n",
       "      <td>Private room</td>\n",
       "      <td>59.0</td>\n",
       "      <td>t</td>\n",
       "      <td>Queens</td>\n",
       "      <td>...</td>\n",
       "      <td>House</td>\n",
       "      <td>Private room</td>\n",
       "      <td>51.0</td>\n",
       "      <td>t</td>\n",
       "      <td>Queens</td>\n",
       "      <td>40.75909</td>\n",
       "      <td>-73.93217</td>\n",
       "      <td>House</td>\n",
       "      <td>Private room</td>\n",
       "      <td>51.0</td>\n",
       "    </tr>\n",
       "    <tr>\n",
       "      <td>...</td>\n",
       "      <td>...</td>\n",
       "      <td>...</td>\n",
       "      <td>...</td>\n",
       "      <td>...</td>\n",
       "      <td>...</td>\n",
       "      <td>...</td>\n",
       "      <td>...</td>\n",
       "      <td>...</td>\n",
       "      <td>...</td>\n",
       "      <td>...</td>\n",
       "      <td>...</td>\n",
       "      <td>...</td>\n",
       "      <td>...</td>\n",
       "      <td>...</td>\n",
       "      <td>...</td>\n",
       "      <td>...</td>\n",
       "      <td>...</td>\n",
       "      <td>...</td>\n",
       "      <td>...</td>\n",
       "      <td>...</td>\n",
       "      <td>...</td>\n",
       "    </tr>\n",
       "    <tr>\n",
       "      <td>7579</td>\n",
       "      <td>4832126</td>\n",
       "      <td>f</td>\n",
       "      <td>Brooklyn</td>\n",
       "      <td>40.718949</td>\n",
       "      <td>-73.956041</td>\n",
       "      <td>Apartment</td>\n",
       "      <td>Private room</td>\n",
       "      <td>65.0</td>\n",
       "      <td>f</td>\n",
       "      <td>Brooklyn</td>\n",
       "      <td>...</td>\n",
       "      <td>Apartment</td>\n",
       "      <td>Private room</td>\n",
       "      <td>73.0</td>\n",
       "      <td>t</td>\n",
       "      <td>Brooklyn</td>\n",
       "      <td>40.71895</td>\n",
       "      <td>-73.95604</td>\n",
       "      <td>Apartment</td>\n",
       "      <td>Private room</td>\n",
       "      <td>85.0</td>\n",
       "    </tr>\n",
       "    <tr>\n",
       "      <td>7584</td>\n",
       "      <td>6185426</td>\n",
       "      <td>f</td>\n",
       "      <td>Brooklyn</td>\n",
       "      <td>40.711783</td>\n",
       "      <td>-73.956843</td>\n",
       "      <td>Apartment</td>\n",
       "      <td>Private room</td>\n",
       "      <td>110.0</td>\n",
       "      <td>f</td>\n",
       "      <td>Brooklyn</td>\n",
       "      <td>...</td>\n",
       "      <td>Apartment</td>\n",
       "      <td>Private room</td>\n",
       "      <td>90.0</td>\n",
       "      <td>t</td>\n",
       "      <td>Brooklyn</td>\n",
       "      <td>40.71178</td>\n",
       "      <td>-73.95684</td>\n",
       "      <td>Apartment</td>\n",
       "      <td>Entire home/apt</td>\n",
       "      <td>90.0</td>\n",
       "    </tr>\n",
       "    <tr>\n",
       "      <td>7593</td>\n",
       "      <td>10246056</td>\n",
       "      <td>f</td>\n",
       "      <td>Brooklyn</td>\n",
       "      <td>40.712601</td>\n",
       "      <td>-73.946683</td>\n",
       "      <td>Apartment</td>\n",
       "      <td>Entire home/apt</td>\n",
       "      <td>255.0</td>\n",
       "      <td>t</td>\n",
       "      <td>Brooklyn</td>\n",
       "      <td>...</td>\n",
       "      <td>Apartment</td>\n",
       "      <td>Entire home/apt</td>\n",
       "      <td>255.0</td>\n",
       "      <td>t</td>\n",
       "      <td>Brooklyn</td>\n",
       "      <td>40.71260</td>\n",
       "      <td>-73.94668</td>\n",
       "      <td>Apartment</td>\n",
       "      <td>Entire home/apt</td>\n",
       "      <td>255.0</td>\n",
       "    </tr>\n",
       "    <tr>\n",
       "      <td>7601</td>\n",
       "      <td>3695725</td>\n",
       "      <td>f</td>\n",
       "      <td>Brooklyn</td>\n",
       "      <td>40.716209</td>\n",
       "      <td>-73.956416</td>\n",
       "      <td>Apartment</td>\n",
       "      <td>Entire home/apt</td>\n",
       "      <td>325.0</td>\n",
       "      <td>t</td>\n",
       "      <td>Brooklyn</td>\n",
       "      <td>...</td>\n",
       "      <td>Loft</td>\n",
       "      <td>Entire home/apt</td>\n",
       "      <td>375.0</td>\n",
       "      <td>t</td>\n",
       "      <td>Brooklyn</td>\n",
       "      <td>40.71621</td>\n",
       "      <td>-73.95642</td>\n",
       "      <td>Loft</td>\n",
       "      <td>Entire home/apt</td>\n",
       "      <td>375.0</td>\n",
       "    </tr>\n",
       "    <tr>\n",
       "      <td>7606</td>\n",
       "      <td>938022</td>\n",
       "      <td>f</td>\n",
       "      <td>Brooklyn</td>\n",
       "      <td>40.707799</td>\n",
       "      <td>-73.948273</td>\n",
       "      <td>Apartment</td>\n",
       "      <td>Private room</td>\n",
       "      <td>98.0</td>\n",
       "      <td>t</td>\n",
       "      <td>Brooklyn</td>\n",
       "      <td>...</td>\n",
       "      <td>Apartment</td>\n",
       "      <td>Private room</td>\n",
       "      <td>99.0</td>\n",
       "      <td>t</td>\n",
       "      <td>Brooklyn</td>\n",
       "      <td>40.70780</td>\n",
       "      <td>-73.94827</td>\n",
       "      <td>Apartment</td>\n",
       "      <td>Private room</td>\n",
       "      <td>99.0</td>\n",
       "    </tr>\n",
       "  </tbody>\n",
       "</table>\n",
       "<p>943 rows × 29 columns</p>\n",
       "</div>"
      ],
      "text/plain": [
       "            id 2017   Hood_17     Lat_17     Lon_17    Prop_17  \\\n",
       "2      4462008    f     Bronx  40.868144 -73.858745      House   \n",
       "6      3400359    f     Bronx  40.866770 -73.859378      House   \n",
       "8      3429765    f     Bronx  40.866889 -73.857756      House   \n",
       "9     14788009    f    Queens  40.780306 -73.910030  Apartment   \n",
       "11     1578776    f    Queens  40.774350 -73.912175  Apartment   \n",
       "...        ...  ...       ...        ...        ...        ...   \n",
       "7579   4832126    f  Brooklyn  40.718949 -73.956041  Apartment   \n",
       "7584   6185426    f  Brooklyn  40.711783 -73.956843  Apartment   \n",
       "7593  10246056    f  Brooklyn  40.712601 -73.946683  Apartment   \n",
       "7601   3695725    f  Brooklyn  40.716209 -73.956416  Apartment   \n",
       "7606    938022    f  Brooklyn  40.707799 -73.948273  Apartment   \n",
       "\n",
       "              Type_17  Price_17 2018   Hood_18  ...      Prop_19  \\\n",
       "2        Private room      48.0    t     Bronx  ...        House   \n",
       "6        Private room      48.0    t     Bronx  ...        House   \n",
       "8        Private room      45.0    t     Bronx  ...        House   \n",
       "9     Entire home/apt      85.0    t    Queens  ...  Guest suite   \n",
       "11       Private room      59.0    t    Queens  ...        House   \n",
       "...               ...       ...  ...       ...  ...          ...   \n",
       "7579     Private room      65.0    f  Brooklyn  ...    Apartment   \n",
       "7584     Private room     110.0    f  Brooklyn  ...    Apartment   \n",
       "7593  Entire home/apt     255.0    t  Brooklyn  ...    Apartment   \n",
       "7601  Entire home/apt     325.0    t  Brooklyn  ...         Loft   \n",
       "7606     Private room      98.0    t  Brooklyn  ...    Apartment   \n",
       "\n",
       "              Type_19 Price_19 2020   Hood_20    Lat_20    Lon_20  \\\n",
       "2        Private room     44.0    t     Bronx  40.86814 -73.85874   \n",
       "6        Private room     45.0    t     Bronx  40.86677 -73.85938   \n",
       "8        Private room     43.0    t     Bronx  40.86689 -73.85776   \n",
       "9     Entire home/apt     95.0    t    Queens  40.78031 -73.91003   \n",
       "11       Private room     51.0    t    Queens  40.75909 -73.93217   \n",
       "...               ...      ...  ...       ...       ...       ...   \n",
       "7579     Private room     73.0    t  Brooklyn  40.71895 -73.95604   \n",
       "7584     Private room     90.0    t  Brooklyn  40.71178 -73.95684   \n",
       "7593  Entire home/apt    255.0    t  Brooklyn  40.71260 -73.94668   \n",
       "7601  Entire home/apt    375.0    t  Brooklyn  40.71621 -73.95642   \n",
       "7606     Private room     99.0    t  Brooklyn  40.70780 -73.94827   \n",
       "\n",
       "          Prop_20          Type_20 Price_20  \n",
       "2           House     Private room     45.0  \n",
       "6           House     Private room     45.0  \n",
       "8           House     Private room     45.0  \n",
       "9     Guest suite  Entire home/apt     95.0  \n",
       "11          House     Private room     51.0  \n",
       "...           ...              ...      ...  \n",
       "7579    Apartment     Private room     85.0  \n",
       "7584    Apartment  Entire home/apt     90.0  \n",
       "7593    Apartment  Entire home/apt    255.0  \n",
       "7601         Loft  Entire home/apt    375.0  \n",
       "7606    Apartment     Private room     99.0  \n",
       "\n",
       "[943 rows x 29 columns]"
      ]
     },
     "execution_count": 12,
     "metadata": {},
     "output_type": "execute_result"
    }
   ],
   "source": [
    "#Printing out the new Dataframe\n",
    "change_superhost"
   ]
  },
  {
   "cell_type": "code",
   "execution_count": 13,
   "metadata": {},
   "outputs": [],
   "source": [
    "#Dropping Columns that are not needed\n",
    "dropped_col = change_superhost.drop(columns=['Lat_18','Lat_19', 'Lat_20',\n",
    "                                             'Lon_18', 'Lon_19', 'Lon_20',\n",
    "                                             'Prop_18', 'Prop_19', 'Prop_20',\n",
    "                                             'Type_18', 'Type_19', 'Type_20',\n",
    "                                              'Hood_18','Hood_19', 'Hood_20', ])"
   ]
  },
  {
   "cell_type": "code",
   "execution_count": 14,
   "metadata": {},
   "outputs": [],
   "source": [
    "#Adding three new Columns to the Dataframe\n",
    "dropped_col[\"Price_Diff_17_18\"] = 0\n",
    "dropped_col[\"Price_Diff_18_19\"] = 0\n",
    "dropped_col[\"Price_Diff_19_20\"] = 0"
   ]
  },
  {
   "cell_type": "code",
   "execution_count": 15,
   "metadata": {},
   "outputs": [
    {
     "data": {
      "text/html": [
       "<div>\n",
       "<style scoped>\n",
       "    .dataframe tbody tr th:only-of-type {\n",
       "        vertical-align: middle;\n",
       "    }\n",
       "\n",
       "    .dataframe tbody tr th {\n",
       "        vertical-align: top;\n",
       "    }\n",
       "\n",
       "    .dataframe thead th {\n",
       "        text-align: right;\n",
       "    }\n",
       "</style>\n",
       "<table border=\"1\" class=\"dataframe\">\n",
       "  <thead>\n",
       "    <tr style=\"text-align: right;\">\n",
       "      <th></th>\n",
       "      <th>id</th>\n",
       "      <th>2017</th>\n",
       "      <th>Hood_17</th>\n",
       "      <th>Lat_17</th>\n",
       "      <th>Lon_17</th>\n",
       "      <th>Prop_17</th>\n",
       "      <th>Type_17</th>\n",
       "      <th>Price_17</th>\n",
       "      <th>2018</th>\n",
       "      <th>Price_18</th>\n",
       "      <th>2019</th>\n",
       "      <th>Price_19</th>\n",
       "      <th>2020</th>\n",
       "      <th>Price_20</th>\n",
       "      <th>Price_Diff_17_18</th>\n",
       "      <th>Price_Diff_18_19</th>\n",
       "      <th>Price_Diff_19_20</th>\n",
       "    </tr>\n",
       "  </thead>\n",
       "  <tbody>\n",
       "    <tr>\n",
       "      <td>2</td>\n",
       "      <td>4462008</td>\n",
       "      <td>f</td>\n",
       "      <td>Bronx</td>\n",
       "      <td>40.868144</td>\n",
       "      <td>-73.858745</td>\n",
       "      <td>House</td>\n",
       "      <td>Private room</td>\n",
       "      <td>48.0</td>\n",
       "      <td>t</td>\n",
       "      <td>40.0</td>\n",
       "      <td>t</td>\n",
       "      <td>44.0</td>\n",
       "      <td>t</td>\n",
       "      <td>45.0</td>\n",
       "      <td>-8.0</td>\n",
       "      <td>4.0</td>\n",
       "      <td>1.0</td>\n",
       "    </tr>\n",
       "    <tr>\n",
       "      <td>6</td>\n",
       "      <td>3400359</td>\n",
       "      <td>f</td>\n",
       "      <td>Bronx</td>\n",
       "      <td>40.866770</td>\n",
       "      <td>-73.859378</td>\n",
       "      <td>House</td>\n",
       "      <td>Private room</td>\n",
       "      <td>48.0</td>\n",
       "      <td>t</td>\n",
       "      <td>43.0</td>\n",
       "      <td>t</td>\n",
       "      <td>45.0</td>\n",
       "      <td>t</td>\n",
       "      <td>45.0</td>\n",
       "      <td>-5.0</td>\n",
       "      <td>2.0</td>\n",
       "      <td>0.0</td>\n",
       "    </tr>\n",
       "    <tr>\n",
       "      <td>8</td>\n",
       "      <td>3429765</td>\n",
       "      <td>f</td>\n",
       "      <td>Bronx</td>\n",
       "      <td>40.866889</td>\n",
       "      <td>-73.857756</td>\n",
       "      <td>House</td>\n",
       "      <td>Private room</td>\n",
       "      <td>45.0</td>\n",
       "      <td>t</td>\n",
       "      <td>43.0</td>\n",
       "      <td>t</td>\n",
       "      <td>43.0</td>\n",
       "      <td>t</td>\n",
       "      <td>45.0</td>\n",
       "      <td>-2.0</td>\n",
       "      <td>0.0</td>\n",
       "      <td>2.0</td>\n",
       "    </tr>\n",
       "    <tr>\n",
       "      <td>9</td>\n",
       "      <td>14788009</td>\n",
       "      <td>f</td>\n",
       "      <td>Queens</td>\n",
       "      <td>40.780306</td>\n",
       "      <td>-73.910030</td>\n",
       "      <td>Apartment</td>\n",
       "      <td>Entire home/apt</td>\n",
       "      <td>85.0</td>\n",
       "      <td>t</td>\n",
       "      <td>95.0</td>\n",
       "      <td>t</td>\n",
       "      <td>95.0</td>\n",
       "      <td>t</td>\n",
       "      <td>95.0</td>\n",
       "      <td>10.0</td>\n",
       "      <td>0.0</td>\n",
       "      <td>0.0</td>\n",
       "    </tr>\n",
       "    <tr>\n",
       "      <td>11</td>\n",
       "      <td>1578776</td>\n",
       "      <td>f</td>\n",
       "      <td>Queens</td>\n",
       "      <td>40.774350</td>\n",
       "      <td>-73.912175</td>\n",
       "      <td>Apartment</td>\n",
       "      <td>Private room</td>\n",
       "      <td>59.0</td>\n",
       "      <td>t</td>\n",
       "      <td>51.0</td>\n",
       "      <td>f</td>\n",
       "      <td>51.0</td>\n",
       "      <td>t</td>\n",
       "      <td>51.0</td>\n",
       "      <td>-8.0</td>\n",
       "      <td>0.0</td>\n",
       "      <td>0.0</td>\n",
       "    </tr>\n",
       "    <tr>\n",
       "      <td>...</td>\n",
       "      <td>...</td>\n",
       "      <td>...</td>\n",
       "      <td>...</td>\n",
       "      <td>...</td>\n",
       "      <td>...</td>\n",
       "      <td>...</td>\n",
       "      <td>...</td>\n",
       "      <td>...</td>\n",
       "      <td>...</td>\n",
       "      <td>...</td>\n",
       "      <td>...</td>\n",
       "      <td>...</td>\n",
       "      <td>...</td>\n",
       "      <td>...</td>\n",
       "      <td>...</td>\n",
       "      <td>...</td>\n",
       "      <td>...</td>\n",
       "    </tr>\n",
       "    <tr>\n",
       "      <td>7579</td>\n",
       "      <td>4832126</td>\n",
       "      <td>f</td>\n",
       "      <td>Brooklyn</td>\n",
       "      <td>40.718949</td>\n",
       "      <td>-73.956041</td>\n",
       "      <td>Apartment</td>\n",
       "      <td>Private room</td>\n",
       "      <td>65.0</td>\n",
       "      <td>f</td>\n",
       "      <td>65.0</td>\n",
       "      <td>f</td>\n",
       "      <td>73.0</td>\n",
       "      <td>t</td>\n",
       "      <td>85.0</td>\n",
       "      <td>0.0</td>\n",
       "      <td>8.0</td>\n",
       "      <td>12.0</td>\n",
       "    </tr>\n",
       "    <tr>\n",
       "      <td>7584</td>\n",
       "      <td>6185426</td>\n",
       "      <td>f</td>\n",
       "      <td>Brooklyn</td>\n",
       "      <td>40.711783</td>\n",
       "      <td>-73.956843</td>\n",
       "      <td>Apartment</td>\n",
       "      <td>Private room</td>\n",
       "      <td>110.0</td>\n",
       "      <td>f</td>\n",
       "      <td>115.0</td>\n",
       "      <td>f</td>\n",
       "      <td>90.0</td>\n",
       "      <td>t</td>\n",
       "      <td>90.0</td>\n",
       "      <td>5.0</td>\n",
       "      <td>-25.0</td>\n",
       "      <td>0.0</td>\n",
       "    </tr>\n",
       "    <tr>\n",
       "      <td>7593</td>\n",
       "      <td>10246056</td>\n",
       "      <td>f</td>\n",
       "      <td>Brooklyn</td>\n",
       "      <td>40.712601</td>\n",
       "      <td>-73.946683</td>\n",
       "      <td>Apartment</td>\n",
       "      <td>Entire home/apt</td>\n",
       "      <td>255.0</td>\n",
       "      <td>t</td>\n",
       "      <td>255.0</td>\n",
       "      <td>t</td>\n",
       "      <td>255.0</td>\n",
       "      <td>t</td>\n",
       "      <td>255.0</td>\n",
       "      <td>0.0</td>\n",
       "      <td>0.0</td>\n",
       "      <td>0.0</td>\n",
       "    </tr>\n",
       "    <tr>\n",
       "      <td>7601</td>\n",
       "      <td>3695725</td>\n",
       "      <td>f</td>\n",
       "      <td>Brooklyn</td>\n",
       "      <td>40.716209</td>\n",
       "      <td>-73.956416</td>\n",
       "      <td>Apartment</td>\n",
       "      <td>Entire home/apt</td>\n",
       "      <td>325.0</td>\n",
       "      <td>t</td>\n",
       "      <td>325.0</td>\n",
       "      <td>f</td>\n",
       "      <td>375.0</td>\n",
       "      <td>t</td>\n",
       "      <td>375.0</td>\n",
       "      <td>0.0</td>\n",
       "      <td>50.0</td>\n",
       "      <td>0.0</td>\n",
       "    </tr>\n",
       "    <tr>\n",
       "      <td>7606</td>\n",
       "      <td>938022</td>\n",
       "      <td>f</td>\n",
       "      <td>Brooklyn</td>\n",
       "      <td>40.707799</td>\n",
       "      <td>-73.948273</td>\n",
       "      <td>Apartment</td>\n",
       "      <td>Private room</td>\n",
       "      <td>98.0</td>\n",
       "      <td>t</td>\n",
       "      <td>98.0</td>\n",
       "      <td>t</td>\n",
       "      <td>99.0</td>\n",
       "      <td>t</td>\n",
       "      <td>99.0</td>\n",
       "      <td>0.0</td>\n",
       "      <td>1.0</td>\n",
       "      <td>0.0</td>\n",
       "    </tr>\n",
       "  </tbody>\n",
       "</table>\n",
       "<p>943 rows × 17 columns</p>\n",
       "</div>"
      ],
      "text/plain": [
       "            id 2017   Hood_17     Lat_17     Lon_17    Prop_17  \\\n",
       "2      4462008    f     Bronx  40.868144 -73.858745      House   \n",
       "6      3400359    f     Bronx  40.866770 -73.859378      House   \n",
       "8      3429765    f     Bronx  40.866889 -73.857756      House   \n",
       "9     14788009    f    Queens  40.780306 -73.910030  Apartment   \n",
       "11     1578776    f    Queens  40.774350 -73.912175  Apartment   \n",
       "...        ...  ...       ...        ...        ...        ...   \n",
       "7579   4832126    f  Brooklyn  40.718949 -73.956041  Apartment   \n",
       "7584   6185426    f  Brooklyn  40.711783 -73.956843  Apartment   \n",
       "7593  10246056    f  Brooklyn  40.712601 -73.946683  Apartment   \n",
       "7601   3695725    f  Brooklyn  40.716209 -73.956416  Apartment   \n",
       "7606    938022    f  Brooklyn  40.707799 -73.948273  Apartment   \n",
       "\n",
       "              Type_17  Price_17 2018  Price_18 2019  Price_19 2020  Price_20  \\\n",
       "2        Private room      48.0    t      40.0    t      44.0    t      45.0   \n",
       "6        Private room      48.0    t      43.0    t      45.0    t      45.0   \n",
       "8        Private room      45.0    t      43.0    t      43.0    t      45.0   \n",
       "9     Entire home/apt      85.0    t      95.0    t      95.0    t      95.0   \n",
       "11       Private room      59.0    t      51.0    f      51.0    t      51.0   \n",
       "...               ...       ...  ...       ...  ...       ...  ...       ...   \n",
       "7579     Private room      65.0    f      65.0    f      73.0    t      85.0   \n",
       "7584     Private room     110.0    f     115.0    f      90.0    t      90.0   \n",
       "7593  Entire home/apt     255.0    t     255.0    t     255.0    t     255.0   \n",
       "7601  Entire home/apt     325.0    t     325.0    f     375.0    t     375.0   \n",
       "7606     Private room      98.0    t      98.0    t      99.0    t      99.0   \n",
       "\n",
       "      Price_Diff_17_18  Price_Diff_18_19  Price_Diff_19_20  \n",
       "2                 -8.0               4.0               1.0  \n",
       "6                 -5.0               2.0               0.0  \n",
       "8                 -2.0               0.0               2.0  \n",
       "9                 10.0               0.0               0.0  \n",
       "11                -8.0               0.0               0.0  \n",
       "...                ...               ...               ...  \n",
       "7579               0.0               8.0              12.0  \n",
       "7584               5.0             -25.0               0.0  \n",
       "7593               0.0               0.0               0.0  \n",
       "7601               0.0              50.0               0.0  \n",
       "7606               0.0               1.0               0.0  \n",
       "\n",
       "[943 rows x 17 columns]"
      ]
     },
     "execution_count": 15,
     "metadata": {},
     "output_type": "execute_result"
    }
   ],
   "source": [
    "#Iterate through all the prices from one year to another to calculate the price difference from n to n-1.\n",
    "for index, row in dropped_col.iterrows():\n",
    "    no_host = row[\"Price_17\"]\n",
    "    host = row[\"Price_18\"]\n",
    "    dropped_col.loc[index, \"Price_Diff_17_18\"] = host - no_host\n",
    "    \n",
    "for index, row in dropped_col.iterrows():\n",
    "    no_host = row[\"Price_18\"]\n",
    "    host = row[\"Price_19\"]\n",
    "    dropped_col.loc[index, \"Price_Diff_18_19\"] = host - no_host\n",
    "    \n",
    "for index, row in dropped_col.iterrows():\n",
    "    no_host = row[\"Price_19\"]\n",
    "    host = row[\"Price_20\"]\n",
    "    dropped_col.loc[index, \"Price_Diff_19_20\"] = host - no_host\n",
    "\n",
    "#renaming the new base Dataframe as price_df   \n",
    "price_df = dropped_col\n",
    "price_df"
   ]
  },
  {
   "cell_type": "code",
   "execution_count": 16,
   "metadata": {},
   "outputs": [
    {
     "data": {
      "text/plain": [
       "0"
      ]
     },
     "execution_count": 16,
     "metadata": {},
     "output_type": "execute_result"
    }
   ],
   "source": [
    "# Superhost count in 2017 is 0 because this is the starting point of our snapshot. So we only want to look at regular hosts that became superhosts\n",
    "sh_count_2017 = price_df.loc[(price_df[\"2017\"]) == \"t\"]\n",
    "sh_count_2017 = sh_count_2017[\"2017\"].count()\n",
    "sh_count_2017"
   ]
  },
  {
   "cell_type": "code",
   "execution_count": 17,
   "metadata": {},
   "outputs": [
    {
     "data": {
      "text/plain": [
       "468"
      ]
     },
     "execution_count": 17,
     "metadata": {},
     "output_type": "execute_result"
    }
   ],
   "source": [
    "## The 0 Superhosts from 2017 increased to 468 Superhosts in 2018\n",
    "sh_2018 = price_df.loc[(price_df[\"2018\"]) == \"t\"]\n",
    "sh_count_2018 = sh_2018[\"2018\"].count()\n",
    "sh_count_2018"
   ]
  },
  {
   "cell_type": "code",
   "execution_count": 18,
   "metadata": {},
   "outputs": [
    {
     "data": {
      "text/html": [
       "<div>\n",
       "<style scoped>\n",
       "    .dataframe tbody tr th:only-of-type {\n",
       "        vertical-align: middle;\n",
       "    }\n",
       "\n",
       "    .dataframe tbody tr th {\n",
       "        vertical-align: top;\n",
       "    }\n",
       "\n",
       "    .dataframe thead th {\n",
       "        text-align: right;\n",
       "    }\n",
       "</style>\n",
       "<table border=\"1\" class=\"dataframe\">\n",
       "  <thead>\n",
       "    <tr style=\"text-align: right;\">\n",
       "      <th></th>\n",
       "      <th>id</th>\n",
       "      <th>Hood_17</th>\n",
       "      <th>Lat_17</th>\n",
       "      <th>Lon_17</th>\n",
       "      <th>Prop_17</th>\n",
       "      <th>Type_17</th>\n",
       "      <th>2017</th>\n",
       "      <th>Price_17</th>\n",
       "      <th>2018</th>\n",
       "      <th>Price_18</th>\n",
       "      <th>Price_Diff_17_18</th>\n",
       "    </tr>\n",
       "  </thead>\n",
       "  <tbody>\n",
       "    <tr>\n",
       "      <td>2</td>\n",
       "      <td>4462008</td>\n",
       "      <td>Bronx</td>\n",
       "      <td>40.868144</td>\n",
       "      <td>-73.858745</td>\n",
       "      <td>House</td>\n",
       "      <td>Private room</td>\n",
       "      <td>f</td>\n",
       "      <td>48.0</td>\n",
       "      <td>t</td>\n",
       "      <td>40.0</td>\n",
       "      <td>-8.0</td>\n",
       "    </tr>\n",
       "    <tr>\n",
       "      <td>6</td>\n",
       "      <td>3400359</td>\n",
       "      <td>Bronx</td>\n",
       "      <td>40.866770</td>\n",
       "      <td>-73.859378</td>\n",
       "      <td>House</td>\n",
       "      <td>Private room</td>\n",
       "      <td>f</td>\n",
       "      <td>48.0</td>\n",
       "      <td>t</td>\n",
       "      <td>43.0</td>\n",
       "      <td>-5.0</td>\n",
       "    </tr>\n",
       "    <tr>\n",
       "      <td>8</td>\n",
       "      <td>3429765</td>\n",
       "      <td>Bronx</td>\n",
       "      <td>40.866889</td>\n",
       "      <td>-73.857756</td>\n",
       "      <td>House</td>\n",
       "      <td>Private room</td>\n",
       "      <td>f</td>\n",
       "      <td>45.0</td>\n",
       "      <td>t</td>\n",
       "      <td>43.0</td>\n",
       "      <td>-2.0</td>\n",
       "    </tr>\n",
       "    <tr>\n",
       "      <td>9</td>\n",
       "      <td>14788009</td>\n",
       "      <td>Queens</td>\n",
       "      <td>40.780306</td>\n",
       "      <td>-73.910030</td>\n",
       "      <td>Apartment</td>\n",
       "      <td>Entire home/apt</td>\n",
       "      <td>f</td>\n",
       "      <td>85.0</td>\n",
       "      <td>t</td>\n",
       "      <td>95.0</td>\n",
       "      <td>10.0</td>\n",
       "    </tr>\n",
       "    <tr>\n",
       "      <td>11</td>\n",
       "      <td>1578776</td>\n",
       "      <td>Queens</td>\n",
       "      <td>40.774350</td>\n",
       "      <td>-73.912175</td>\n",
       "      <td>Apartment</td>\n",
       "      <td>Private room</td>\n",
       "      <td>f</td>\n",
       "      <td>59.0</td>\n",
       "      <td>t</td>\n",
       "      <td>51.0</td>\n",
       "      <td>-8.0</td>\n",
       "    </tr>\n",
       "    <tr>\n",
       "      <td>...</td>\n",
       "      <td>...</td>\n",
       "      <td>...</td>\n",
       "      <td>...</td>\n",
       "      <td>...</td>\n",
       "      <td>...</td>\n",
       "      <td>...</td>\n",
       "      <td>...</td>\n",
       "      <td>...</td>\n",
       "      <td>...</td>\n",
       "      <td>...</td>\n",
       "      <td>...</td>\n",
       "    </tr>\n",
       "    <tr>\n",
       "      <td>7537</td>\n",
       "      <td>16810023</td>\n",
       "      <td>Brooklyn</td>\n",
       "      <td>40.718421</td>\n",
       "      <td>-73.944668</td>\n",
       "      <td>Apartment</td>\n",
       "      <td>Private room</td>\n",
       "      <td>f</td>\n",
       "      <td>78.0</td>\n",
       "      <td>t</td>\n",
       "      <td>65.0</td>\n",
       "      <td>-13.0</td>\n",
       "    </tr>\n",
       "    <tr>\n",
       "      <td>7576</td>\n",
       "      <td>12869662</td>\n",
       "      <td>Brooklyn</td>\n",
       "      <td>40.717009</td>\n",
       "      <td>-73.956847</td>\n",
       "      <td>Apartment</td>\n",
       "      <td>Entire home/apt</td>\n",
       "      <td>f</td>\n",
       "      <td>140.0</td>\n",
       "      <td>t</td>\n",
       "      <td>250.0</td>\n",
       "      <td>110.0</td>\n",
       "    </tr>\n",
       "    <tr>\n",
       "      <td>7593</td>\n",
       "      <td>10246056</td>\n",
       "      <td>Brooklyn</td>\n",
       "      <td>40.712601</td>\n",
       "      <td>-73.946683</td>\n",
       "      <td>Apartment</td>\n",
       "      <td>Entire home/apt</td>\n",
       "      <td>f</td>\n",
       "      <td>255.0</td>\n",
       "      <td>t</td>\n",
       "      <td>255.0</td>\n",
       "      <td>0.0</td>\n",
       "    </tr>\n",
       "    <tr>\n",
       "      <td>7601</td>\n",
       "      <td>3695725</td>\n",
       "      <td>Brooklyn</td>\n",
       "      <td>40.716209</td>\n",
       "      <td>-73.956416</td>\n",
       "      <td>Apartment</td>\n",
       "      <td>Entire home/apt</td>\n",
       "      <td>f</td>\n",
       "      <td>325.0</td>\n",
       "      <td>t</td>\n",
       "      <td>325.0</td>\n",
       "      <td>0.0</td>\n",
       "    </tr>\n",
       "    <tr>\n",
       "      <td>7606</td>\n",
       "      <td>938022</td>\n",
       "      <td>Brooklyn</td>\n",
       "      <td>40.707799</td>\n",
       "      <td>-73.948273</td>\n",
       "      <td>Apartment</td>\n",
       "      <td>Private room</td>\n",
       "      <td>f</td>\n",
       "      <td>98.0</td>\n",
       "      <td>t</td>\n",
       "      <td>98.0</td>\n",
       "      <td>0.0</td>\n",
       "    </tr>\n",
       "  </tbody>\n",
       "</table>\n",
       "<p>468 rows × 11 columns</p>\n",
       "</div>"
      ],
      "text/plain": [
       "            id   Hood_17     Lat_17     Lon_17    Prop_17          Type_17  \\\n",
       "2      4462008     Bronx  40.868144 -73.858745      House     Private room   \n",
       "6      3400359     Bronx  40.866770 -73.859378      House     Private room   \n",
       "8      3429765     Bronx  40.866889 -73.857756      House     Private room   \n",
       "9     14788009    Queens  40.780306 -73.910030  Apartment  Entire home/apt   \n",
       "11     1578776    Queens  40.774350 -73.912175  Apartment     Private room   \n",
       "...        ...       ...        ...        ...        ...              ...   \n",
       "7537  16810023  Brooklyn  40.718421 -73.944668  Apartment     Private room   \n",
       "7576  12869662  Brooklyn  40.717009 -73.956847  Apartment  Entire home/apt   \n",
       "7593  10246056  Brooklyn  40.712601 -73.946683  Apartment  Entire home/apt   \n",
       "7601   3695725  Brooklyn  40.716209 -73.956416  Apartment  Entire home/apt   \n",
       "7606    938022  Brooklyn  40.707799 -73.948273  Apartment     Private room   \n",
       "\n",
       "     2017  Price_17 2018  Price_18  Price_Diff_17_18  \n",
       "2       f      48.0    t      40.0              -8.0  \n",
       "6       f      48.0    t      43.0              -5.0  \n",
       "8       f      45.0    t      43.0              -2.0  \n",
       "9       f      85.0    t      95.0              10.0  \n",
       "11      f      59.0    t      51.0              -8.0  \n",
       "...   ...       ...  ...       ...               ...  \n",
       "7537    f      78.0    t      65.0             -13.0  \n",
       "7576    f     140.0    t     250.0             110.0  \n",
       "7593    f     255.0    t     255.0               0.0  \n",
       "7601    f     325.0    t     325.0               0.0  \n",
       "7606    f      98.0    t      98.0               0.0  \n",
       "\n",
       "[468 rows x 11 columns]"
      ]
     },
     "execution_count": 18,
     "metadata": {},
     "output_type": "execute_result"
    }
   ],
   "source": [
    "#Change 2017 to 2018, snapshot 2018\n",
    "sh_2018_final = sh_2018[[\"id\", \"Hood_17\", \"Lat_17\", \"Lon_17\", \"Prop_17\", \"Type_17\",\n",
    "                         \"2017\", \"Price_17\", \"2018\", \"Price_18\", \"Price_Diff_17_18\"]]\n",
    "\n",
    "\n",
    "\n",
    "sh_2018_final"
   ]
  },
  {
   "cell_type": "code",
   "execution_count": 19,
   "metadata": {},
   "outputs": [
    {
     "data": {
      "text/html": [
       "<div>\n",
       "<style scoped>\n",
       "    .dataframe tbody tr th:only-of-type {\n",
       "        vertical-align: middle;\n",
       "    }\n",
       "\n",
       "    .dataframe tbody tr th {\n",
       "        vertical-align: top;\n",
       "    }\n",
       "\n",
       "    .dataframe thead th {\n",
       "        text-align: right;\n",
       "    }\n",
       "</style>\n",
       "<table border=\"1\" class=\"dataframe\">\n",
       "  <thead>\n",
       "    <tr style=\"text-align: right;\">\n",
       "      <th></th>\n",
       "      <th>id</th>\n",
       "      <th>Hood_17</th>\n",
       "      <th>Lat_17</th>\n",
       "      <th>Lon_17</th>\n",
       "      <th>Prop_17</th>\n",
       "      <th>Type_17</th>\n",
       "      <th>2017</th>\n",
       "      <th>Price_17</th>\n",
       "      <th>2018</th>\n",
       "      <th>Price_18</th>\n",
       "      <th>Price_Diff_17_18</th>\n",
       "    </tr>\n",
       "  </thead>\n",
       "  <tbody>\n",
       "    <tr>\n",
       "      <td>3038</td>\n",
       "      <td>16807028</td>\n",
       "      <td>Brooklyn</td>\n",
       "      <td>40.643349</td>\n",
       "      <td>-73.96745</td>\n",
       "      <td>Guesthouse</td>\n",
       "      <td>Entire home/apt</td>\n",
       "      <td>f</td>\n",
       "      <td>1000.0</td>\n",
       "      <td>t</td>\n",
       "      <td>1000.0</td>\n",
       "      <td>0.0</td>\n",
       "    </tr>\n",
       "  </tbody>\n",
       "</table>\n",
       "</div>"
      ],
      "text/plain": [
       "            id   Hood_17     Lat_17    Lon_17     Prop_17          Type_17  \\\n",
       "3038  16807028  Brooklyn  40.643349 -73.96745  Guesthouse  Entire home/apt   \n",
       "\n",
       "     2017  Price_17 2018  Price_18  Price_Diff_17_18  \n",
       "3038    f    1000.0    t    1000.0               0.0  "
      ]
     },
     "execution_count": 19,
     "metadata": {},
     "output_type": "execute_result"
    }
   ],
   "source": [
    "#Filtering the Superhost Listings of 2018 according to object type\n",
    "sh_2018_final_Apart_Priv = sh_2018_final.loc[(sh_2018_final[\"Prop_17\"]  == \"Apartment\") & \n",
    "                           (sh_2018_final[\"Type_17\"]  == \"Private room\")]\n",
    "\n",
    "sh_2018_final_Apart_Entire = sh_2018_final.loc[(sh_2018_final[\"Prop_17\"]  == \"Apartment\") & \n",
    "                           (sh_2018_final[\"Type_17\"]  == \"Entire home/apt\")]\n",
    "\n",
    "\n",
    "sh_2018_final_House_Priv = sh_2018_final.loc[(sh_2018_final[\"Prop_17\"]  == \"House\") & \n",
    "                           (sh_2018_final[\"Type_17\"]  == \"Private room\")]\n",
    "\n",
    "sh_2018_final_House_Entire = sh_2018_final.loc[(sh_2018_final[\"Prop_17\"]  == \"House\") & \n",
    "                           (sh_2018_final[\"Type_17\"]  == \"Entire home/apt\")]\n",
    "\n",
    "sh_2018_final_Guesthouse = sh_2018_final.loc[(sh_2018_final[\"Prop_17\"]  == \"Guesthouse\")]\n",
    "sh_2018_final_Guesthouse"
   ]
  },
  {
   "cell_type": "code",
   "execution_count": 20,
   "metadata": {},
   "outputs": [
    {
     "data": {
      "text/plain": [
       "88"
      ]
     },
     "execution_count": 20,
     "metadata": {},
     "output_type": "execute_result"
    }
   ],
   "source": [
    "#From the 468 Superhosts in 2018, 88 residned as superhosts\n",
    "sh_2019k = price_df.loc[(price_df[\"2018\"]  == \"t\") & (price_df[\"2019\"]  == \"f\")] \n",
    "sh_count_2019k = sh_2019k[\"2019\"].count()\n",
    "sh_count_2019k"
   ]
  },
  {
   "cell_type": "code",
   "execution_count": 21,
   "metadata": {},
   "outputs": [
    {
     "data": {
      "text/html": [
       "<div>\n",
       "<style scoped>\n",
       "    .dataframe tbody tr th:only-of-type {\n",
       "        vertical-align: middle;\n",
       "    }\n",
       "\n",
       "    .dataframe tbody tr th {\n",
       "        vertical-align: top;\n",
       "    }\n",
       "\n",
       "    .dataframe thead th {\n",
       "        text-align: right;\n",
       "    }\n",
       "</style>\n",
       "<table border=\"1\" class=\"dataframe\">\n",
       "  <thead>\n",
       "    <tr style=\"text-align: right;\">\n",
       "      <th></th>\n",
       "      <th>id</th>\n",
       "      <th>Hood_17</th>\n",
       "      <th>Lat_17</th>\n",
       "      <th>Lon_17</th>\n",
       "      <th>Prop_17</th>\n",
       "      <th>Type_17</th>\n",
       "      <th>2018</th>\n",
       "      <th>Price_18</th>\n",
       "      <th>2019</th>\n",
       "      <th>Price_19</th>\n",
       "      <th>Price_Diff_18_19</th>\n",
       "    </tr>\n",
       "  </thead>\n",
       "  <tbody>\n",
       "    <tr>\n",
       "      <td>11</td>\n",
       "      <td>1578776</td>\n",
       "      <td>Queens</td>\n",
       "      <td>40.774350</td>\n",
       "      <td>-73.912175</td>\n",
       "      <td>Apartment</td>\n",
       "      <td>Private room</td>\n",
       "      <td>t</td>\n",
       "      <td>51.0</td>\n",
       "      <td>f</td>\n",
       "      <td>51.0</td>\n",
       "      <td>0.0</td>\n",
       "    </tr>\n",
       "    <tr>\n",
       "      <td>150</td>\n",
       "      <td>4270499</td>\n",
       "      <td>Queens</td>\n",
       "      <td>40.763687</td>\n",
       "      <td>-73.922907</td>\n",
       "      <td>Apartment</td>\n",
       "      <td>Entire home/apt</td>\n",
       "      <td>t</td>\n",
       "      <td>125.0</td>\n",
       "      <td>f</td>\n",
       "      <td>125.0</td>\n",
       "      <td>0.0</td>\n",
       "    </tr>\n",
       "    <tr>\n",
       "      <td>271</td>\n",
       "      <td>7783855</td>\n",
       "      <td>Brooklyn</td>\n",
       "      <td>40.685280</td>\n",
       "      <td>-73.915726</td>\n",
       "      <td>Apartment</td>\n",
       "      <td>Entire home/apt</td>\n",
       "      <td>t</td>\n",
       "      <td>155.0</td>\n",
       "      <td>f</td>\n",
       "      <td>175.0</td>\n",
       "      <td>20.0</td>\n",
       "    </tr>\n",
       "    <tr>\n",
       "      <td>273</td>\n",
       "      <td>12325036</td>\n",
       "      <td>Brooklyn</td>\n",
       "      <td>40.693240</td>\n",
       "      <td>-73.946563</td>\n",
       "      <td>Apartment</td>\n",
       "      <td>Private room</td>\n",
       "      <td>t</td>\n",
       "      <td>45.0</td>\n",
       "      <td>f</td>\n",
       "      <td>45.0</td>\n",
       "      <td>0.0</td>\n",
       "    </tr>\n",
       "    <tr>\n",
       "      <td>589</td>\n",
       "      <td>257097</td>\n",
       "      <td>Brooklyn</td>\n",
       "      <td>40.682256</td>\n",
       "      <td>-73.954733</td>\n",
       "      <td>Apartment</td>\n",
       "      <td>Entire home/apt</td>\n",
       "      <td>t</td>\n",
       "      <td>200.0</td>\n",
       "      <td>f</td>\n",
       "      <td>100.0</td>\n",
       "      <td>-100.0</td>\n",
       "    </tr>\n",
       "    <tr>\n",
       "      <td>...</td>\n",
       "      <td>...</td>\n",
       "      <td>...</td>\n",
       "      <td>...</td>\n",
       "      <td>...</td>\n",
       "      <td>...</td>\n",
       "      <td>...</td>\n",
       "      <td>...</td>\n",
       "      <td>...</td>\n",
       "      <td>...</td>\n",
       "      <td>...</td>\n",
       "      <td>...</td>\n",
       "    </tr>\n",
       "    <tr>\n",
       "      <td>7045</td>\n",
       "      <td>5058683</td>\n",
       "      <td>Brooklyn</td>\n",
       "      <td>40.713006</td>\n",
       "      <td>-73.953744</td>\n",
       "      <td>Apartment</td>\n",
       "      <td>Private room</td>\n",
       "      <td>t</td>\n",
       "      <td>72.0</td>\n",
       "      <td>f</td>\n",
       "      <td>96.0</td>\n",
       "      <td>24.0</td>\n",
       "    </tr>\n",
       "    <tr>\n",
       "      <td>7144</td>\n",
       "      <td>2410200</td>\n",
       "      <td>Brooklyn</td>\n",
       "      <td>40.710232</td>\n",
       "      <td>-73.946566</td>\n",
       "      <td>Apartment</td>\n",
       "      <td>Private room</td>\n",
       "      <td>t</td>\n",
       "      <td>89.0</td>\n",
       "      <td>f</td>\n",
       "      <td>89.0</td>\n",
       "      <td>0.0</td>\n",
       "    </tr>\n",
       "    <tr>\n",
       "      <td>7327</td>\n",
       "      <td>9925507</td>\n",
       "      <td>Brooklyn</td>\n",
       "      <td>40.712553</td>\n",
       "      <td>-73.948811</td>\n",
       "      <td>Apartment</td>\n",
       "      <td>Entire home/apt</td>\n",
       "      <td>t</td>\n",
       "      <td>147.0</td>\n",
       "      <td>f</td>\n",
       "      <td>130.0</td>\n",
       "      <td>-17.0</td>\n",
       "    </tr>\n",
       "    <tr>\n",
       "      <td>7419</td>\n",
       "      <td>12001650</td>\n",
       "      <td>Brooklyn</td>\n",
       "      <td>40.712136</td>\n",
       "      <td>-73.968663</td>\n",
       "      <td>Apartment</td>\n",
       "      <td>Entire home/apt</td>\n",
       "      <td>t</td>\n",
       "      <td>145.0</td>\n",
       "      <td>f</td>\n",
       "      <td>170.0</td>\n",
       "      <td>25.0</td>\n",
       "    </tr>\n",
       "    <tr>\n",
       "      <td>7601</td>\n",
       "      <td>3695725</td>\n",
       "      <td>Brooklyn</td>\n",
       "      <td>40.716209</td>\n",
       "      <td>-73.956416</td>\n",
       "      <td>Apartment</td>\n",
       "      <td>Entire home/apt</td>\n",
       "      <td>t</td>\n",
       "      <td>325.0</td>\n",
       "      <td>f</td>\n",
       "      <td>375.0</td>\n",
       "      <td>50.0</td>\n",
       "    </tr>\n",
       "  </tbody>\n",
       "</table>\n",
       "<p>88 rows × 11 columns</p>\n",
       "</div>"
      ],
      "text/plain": [
       "            id   Hood_17     Lat_17     Lon_17    Prop_17          Type_17  \\\n",
       "11     1578776    Queens  40.774350 -73.912175  Apartment     Private room   \n",
       "150    4270499    Queens  40.763687 -73.922907  Apartment  Entire home/apt   \n",
       "271    7783855  Brooklyn  40.685280 -73.915726  Apartment  Entire home/apt   \n",
       "273   12325036  Brooklyn  40.693240 -73.946563  Apartment     Private room   \n",
       "589     257097  Brooklyn  40.682256 -73.954733  Apartment  Entire home/apt   \n",
       "...        ...       ...        ...        ...        ...              ...   \n",
       "7045   5058683  Brooklyn  40.713006 -73.953744  Apartment     Private room   \n",
       "7144   2410200  Brooklyn  40.710232 -73.946566  Apartment     Private room   \n",
       "7327   9925507  Brooklyn  40.712553 -73.948811  Apartment  Entire home/apt   \n",
       "7419  12001650  Brooklyn  40.712136 -73.968663  Apartment  Entire home/apt   \n",
       "7601   3695725  Brooklyn  40.716209 -73.956416  Apartment  Entire home/apt   \n",
       "\n",
       "     2018  Price_18 2019  Price_19  Price_Diff_18_19  \n",
       "11      t      51.0    f      51.0               0.0  \n",
       "150     t     125.0    f     125.0               0.0  \n",
       "271     t     155.0    f     175.0              20.0  \n",
       "273     t      45.0    f      45.0               0.0  \n",
       "589     t     200.0    f     100.0            -100.0  \n",
       "...   ...       ...  ...       ...               ...  \n",
       "7045    t      72.0    f      96.0              24.0  \n",
       "7144    t      89.0    f      89.0               0.0  \n",
       "7327    t     147.0    f     130.0             -17.0  \n",
       "7419    t     145.0    f     170.0              25.0  \n",
       "7601    t     325.0    f     375.0              50.0  \n",
       "\n",
       "[88 rows x 11 columns]"
      ]
     },
     "execution_count": 21,
     "metadata": {},
     "output_type": "execute_result"
    }
   ],
   "source": [
    "#Printing out the Superhosts that resigned from 2018 to 2019\n",
    "drop_outs_18_to_19 = sh_2019k[[\"id\", \"Hood_17\", \"Lat_17\", \"Lon_17\", \"Prop_17\", \"Type_17\",\n",
    "                         \"2018\", \"Price_18\", \"2019\", \"Price_19\", \"Price_Diff_18_19\"]]\n",
    "drop_outs_18_to_19\n"
   ]
  },
  {
   "cell_type": "code",
   "execution_count": 22,
   "metadata": {},
   "outputs": [
    {
     "data": {
      "text/html": [
       "<div>\n",
       "<style scoped>\n",
       "    .dataframe tbody tr th:only-of-type {\n",
       "        vertical-align: middle;\n",
       "    }\n",
       "\n",
       "    .dataframe tbody tr th {\n",
       "        vertical-align: top;\n",
       "    }\n",
       "\n",
       "    .dataframe thead th {\n",
       "        text-align: right;\n",
       "    }\n",
       "</style>\n",
       "<table border=\"1\" class=\"dataframe\">\n",
       "  <thead>\n",
       "    <tr style=\"text-align: right;\">\n",
       "      <th></th>\n",
       "      <th>id</th>\n",
       "      <th>Hood_17</th>\n",
       "      <th>Lat_17</th>\n",
       "      <th>Lon_17</th>\n",
       "      <th>Prop_17</th>\n",
       "      <th>Type_17</th>\n",
       "      <th>2018</th>\n",
       "      <th>Price_18</th>\n",
       "      <th>2019</th>\n",
       "      <th>Price_19</th>\n",
       "      <th>Price_Diff_18_19</th>\n",
       "    </tr>\n",
       "  </thead>\n",
       "  <tbody>\n",
       "  </tbody>\n",
       "</table>\n",
       "</div>"
      ],
      "text/plain": [
       "Empty DataFrame\n",
       "Columns: [id, Hood_17, Lat_17, Lon_17, Prop_17, Type_17, 2018, Price_18, 2019, Price_19, Price_Diff_18_19]\n",
       "Index: []"
      ]
     },
     "execution_count": 22,
     "metadata": {},
     "output_type": "execute_result"
    }
   ],
   "source": [
    "#Filtering the Superhost Dropouts from 2018 to 2019 according to object type\n",
    "drop_outs_18_to_19_Apart_Priv = drop_outs_18_to_19.loc[(drop_outs_18_to_19[\"Prop_17\"]  == \"Apartment\") & \n",
    "                           (drop_outs_18_to_19[\"Type_17\"]  == \"Private room\")]\n",
    "\n",
    "drop_outs_18_to_19_Apart_Entire = drop_outs_18_to_19.loc[(drop_outs_18_to_19[\"Prop_17\"]  == \"Apartment\") & \n",
    "                           (drop_outs_18_to_19[\"Type_17\"]  == \"Entire home/apt\")]\n",
    "\n",
    "\n",
    "drop_outs_18_to_19_House_Priv = drop_outs_18_to_19.loc[(drop_outs_18_to_19[\"Prop_17\"]  == \"House\") & \n",
    "                           (drop_outs_18_to_19[\"Type_17\"]  == \"Private room\")]\n",
    "\n",
    "drop_outs_18_to_19_House_Entire = drop_outs_18_to_19.loc[(drop_outs_18_to_19[\"Prop_17\"]  == \"House\") & \n",
    "                           (drop_outs_18_to_19[\"Type_17\"]  == \"Entire home/apt\")]\n",
    "\n",
    "drop_outs_18_to_19_Guesthouse = drop_outs_18_to_19.loc[(drop_outs_18_to_19[\"Prop_17\"]  == \"Guesthouse\")]\n",
    "drop_outs_18_to_19_Guesthouse"
   ]
  },
  {
   "cell_type": "code",
   "execution_count": 23,
   "metadata": {},
   "outputs": [
    {
     "data": {
      "text/plain": [
       "380"
      ]
     },
     "execution_count": 23,
     "metadata": {},
     "output_type": "execute_result"
    }
   ],
   "source": [
    "##From the 468 Superhosts in 2018, 88 residned as superhosts\n",
    "sh_count_2019j = price_df.loc[(price_df[\"2018\"]  == \"t\") & (price_df[\"2019\"]  == \"t\")] \n",
    "sh_count_2019j = sh_count_2019j[\"2019\"].count()\n",
    "sh_count_2019j"
   ]
  },
  {
   "cell_type": "code",
   "execution_count": 24,
   "metadata": {},
   "outputs": [
    {
     "data": {
      "text/plain": [
       "216"
      ]
     },
     "execution_count": 24,
     "metadata": {},
     "output_type": "execute_result"
    }
   ],
   "source": [
    "#216 people joined new as superhosts in 2019\n",
    "sh_2019 = price_df.loc[(price_df[\"2018\"]  == \"f\") & (price_df[\"2019\"]  == \"t\")] \n",
    "sh_count_2019 = sh_2019[\"2019\"].count()\n",
    "sh_count_2019"
   ]
  },
  {
   "cell_type": "code",
   "execution_count": 25,
   "metadata": {},
   "outputs": [
    {
     "data": {
      "text/plain": [
       "347"
      ]
     },
     "execution_count": 25,
     "metadata": {},
     "output_type": "execute_result"
    }
   ],
   "source": [
    "#From 2019 to 2020, 347 upgraded as superhost\n",
    "sh_2020i = price_df.loc[(price_df[\"2019\"]  == \"f\") & (price_df[\"2020\"]  == \"t\")] \n",
    "sh_count_2020i = sh_2020i[\"2020\"].count()\n",
    "sh_count_2020i"
   ]
  },
  {
   "cell_type": "code",
   "execution_count": 26,
   "metadata": {},
   "outputs": [
    {
     "data": {
      "text/html": [
       "<div>\n",
       "<style scoped>\n",
       "    .dataframe tbody tr th:only-of-type {\n",
       "        vertical-align: middle;\n",
       "    }\n",
       "\n",
       "    .dataframe tbody tr th {\n",
       "        vertical-align: top;\n",
       "    }\n",
       "\n",
       "    .dataframe thead th {\n",
       "        text-align: right;\n",
       "    }\n",
       "</style>\n",
       "<table border=\"1\" class=\"dataframe\">\n",
       "  <thead>\n",
       "    <tr style=\"text-align: right;\">\n",
       "      <th></th>\n",
       "      <th>id</th>\n",
       "      <th>Hood_17</th>\n",
       "      <th>Lat_17</th>\n",
       "      <th>Lon_17</th>\n",
       "      <th>Prop_17</th>\n",
       "      <th>Type_17</th>\n",
       "      <th>2018</th>\n",
       "      <th>Price_18</th>\n",
       "      <th>2019</th>\n",
       "      <th>Price_19</th>\n",
       "      <th>Price_Diff_18_19</th>\n",
       "    </tr>\n",
       "  </thead>\n",
       "  <tbody>\n",
       "    <tr>\n",
       "      <td>37</td>\n",
       "      <td>1981410</td>\n",
       "      <td>Queens</td>\n",
       "      <td>40.779065</td>\n",
       "      <td>-73.912648</td>\n",
       "      <td>Apartment</td>\n",
       "      <td>Entire home/apt</td>\n",
       "      <td>f</td>\n",
       "      <td>135.0</td>\n",
       "      <td>t</td>\n",
       "      <td>135.0</td>\n",
       "      <td>0.0</td>\n",
       "    </tr>\n",
       "    <tr>\n",
       "      <td>42</td>\n",
       "      <td>16545876</td>\n",
       "      <td>Queens</td>\n",
       "      <td>40.775599</td>\n",
       "      <td>-73.908006</td>\n",
       "      <td>Apartment</td>\n",
       "      <td>Private room</td>\n",
       "      <td>f</td>\n",
       "      <td>70.0</td>\n",
       "      <td>t</td>\n",
       "      <td>45.0</td>\n",
       "      <td>-25.0</td>\n",
       "    </tr>\n",
       "    <tr>\n",
       "      <td>55</td>\n",
       "      <td>11496210</td>\n",
       "      <td>Queens</td>\n",
       "      <td>40.680839</td>\n",
       "      <td>-73.847654</td>\n",
       "      <td>Apartment</td>\n",
       "      <td>Entire home/apt</td>\n",
       "      <td>f</td>\n",
       "      <td>80.0</td>\n",
       "      <td>t</td>\n",
       "      <td>87.0</td>\n",
       "      <td>7.0</td>\n",
       "    </tr>\n",
       "    <tr>\n",
       "      <td>56</td>\n",
       "      <td>11474664</td>\n",
       "      <td>Queens</td>\n",
       "      <td>40.681650</td>\n",
       "      <td>-73.845577</td>\n",
       "      <td>Apartment</td>\n",
       "      <td>Entire home/apt</td>\n",
       "      <td>f</td>\n",
       "      <td>105.0</td>\n",
       "      <td>t</td>\n",
       "      <td>120.0</td>\n",
       "      <td>15.0</td>\n",
       "    </tr>\n",
       "    <tr>\n",
       "      <td>144</td>\n",
       "      <td>11010008</td>\n",
       "      <td>Queens</td>\n",
       "      <td>40.761009</td>\n",
       "      <td>-73.915729</td>\n",
       "      <td>Apartment</td>\n",
       "      <td>Private room</td>\n",
       "      <td>f</td>\n",
       "      <td>70.0</td>\n",
       "      <td>t</td>\n",
       "      <td>70.0</td>\n",
       "      <td>0.0</td>\n",
       "    </tr>\n",
       "    <tr>\n",
       "      <td>...</td>\n",
       "      <td>...</td>\n",
       "      <td>...</td>\n",
       "      <td>...</td>\n",
       "      <td>...</td>\n",
       "      <td>...</td>\n",
       "      <td>...</td>\n",
       "      <td>...</td>\n",
       "      <td>...</td>\n",
       "      <td>...</td>\n",
       "      <td>...</td>\n",
       "      <td>...</td>\n",
       "    </tr>\n",
       "    <tr>\n",
       "      <td>7413</td>\n",
       "      <td>3090922</td>\n",
       "      <td>Brooklyn</td>\n",
       "      <td>40.715202</td>\n",
       "      <td>-73.954450</td>\n",
       "      <td>Apartment</td>\n",
       "      <td>Private room</td>\n",
       "      <td>f</td>\n",
       "      <td>75.0</td>\n",
       "      <td>t</td>\n",
       "      <td>75.0</td>\n",
       "      <td>0.0</td>\n",
       "    </tr>\n",
       "    <tr>\n",
       "      <td>7483</td>\n",
       "      <td>3414885</td>\n",
       "      <td>Brooklyn</td>\n",
       "      <td>40.711220</td>\n",
       "      <td>-73.948928</td>\n",
       "      <td>Apartment</td>\n",
       "      <td>Entire home/apt</td>\n",
       "      <td>f</td>\n",
       "      <td>210.0</td>\n",
       "      <td>t</td>\n",
       "      <td>240.0</td>\n",
       "      <td>30.0</td>\n",
       "    </tr>\n",
       "    <tr>\n",
       "      <td>7523</td>\n",
       "      <td>6192999</td>\n",
       "      <td>Brooklyn</td>\n",
       "      <td>40.707762</td>\n",
       "      <td>-73.958864</td>\n",
       "      <td>Apartment</td>\n",
       "      <td>Entire home/apt</td>\n",
       "      <td>f</td>\n",
       "      <td>223.0</td>\n",
       "      <td>t</td>\n",
       "      <td>133.0</td>\n",
       "      <td>-90.0</td>\n",
       "    </tr>\n",
       "    <tr>\n",
       "      <td>7542</td>\n",
       "      <td>17331192</td>\n",
       "      <td>Brooklyn</td>\n",
       "      <td>40.713718</td>\n",
       "      <td>-73.963260</td>\n",
       "      <td>Apartment</td>\n",
       "      <td>Entire home/apt</td>\n",
       "      <td>f</td>\n",
       "      <td>190.0</td>\n",
       "      <td>t</td>\n",
       "      <td>179.0</td>\n",
       "      <td>-11.0</td>\n",
       "    </tr>\n",
       "    <tr>\n",
       "      <td>7562</td>\n",
       "      <td>158176</td>\n",
       "      <td>Brooklyn</td>\n",
       "      <td>40.715339</td>\n",
       "      <td>-73.959140</td>\n",
       "      <td>Apartment</td>\n",
       "      <td>Entire home/apt</td>\n",
       "      <td>f</td>\n",
       "      <td>125.0</td>\n",
       "      <td>t</td>\n",
       "      <td>120.0</td>\n",
       "      <td>-5.0</td>\n",
       "    </tr>\n",
       "  </tbody>\n",
       "</table>\n",
       "<p>216 rows × 11 columns</p>\n",
       "</div>"
      ],
      "text/plain": [
       "            id   Hood_17     Lat_17     Lon_17    Prop_17          Type_17  \\\n",
       "37     1981410    Queens  40.779065 -73.912648  Apartment  Entire home/apt   \n",
       "42    16545876    Queens  40.775599 -73.908006  Apartment     Private room   \n",
       "55    11496210    Queens  40.680839 -73.847654  Apartment  Entire home/apt   \n",
       "56    11474664    Queens  40.681650 -73.845577  Apartment  Entire home/apt   \n",
       "144   11010008    Queens  40.761009 -73.915729  Apartment     Private room   \n",
       "...        ...       ...        ...        ...        ...              ...   \n",
       "7413   3090922  Brooklyn  40.715202 -73.954450  Apartment     Private room   \n",
       "7483   3414885  Brooklyn  40.711220 -73.948928  Apartment  Entire home/apt   \n",
       "7523   6192999  Brooklyn  40.707762 -73.958864  Apartment  Entire home/apt   \n",
       "7542  17331192  Brooklyn  40.713718 -73.963260  Apartment  Entire home/apt   \n",
       "7562    158176  Brooklyn  40.715339 -73.959140  Apartment  Entire home/apt   \n",
       "\n",
       "     2018  Price_18 2019  Price_19  Price_Diff_18_19  \n",
       "37      f     135.0    t     135.0               0.0  \n",
       "42      f      70.0    t      45.0             -25.0  \n",
       "55      f      80.0    t      87.0               7.0  \n",
       "56      f     105.0    t     120.0              15.0  \n",
       "144     f      70.0    t      70.0               0.0  \n",
       "...   ...       ...  ...       ...               ...  \n",
       "7413    f      75.0    t      75.0               0.0  \n",
       "7483    f     210.0    t     240.0              30.0  \n",
       "7523    f     223.0    t     133.0             -90.0  \n",
       "7542    f     190.0    t     179.0             -11.0  \n",
       "7562    f     125.0    t     120.0              -5.0  \n",
       "\n",
       "[216 rows x 11 columns]"
      ]
     },
     "execution_count": 26,
     "metadata": {},
     "output_type": "execute_result"
    }
   ],
   "source": [
    "#Change 2018 to 2019, snapshot 2019\n",
    "sh_2019_final = sh_2019[[\"id\", \"Hood_17\", \"Lat_17\", \"Lon_17\", \"Prop_17\", \"Type_17\",\n",
    "                         \"2018\", \"Price_18\", \"2019\", \"Price_19\", \"Price_Diff_18_19\"]]\n",
    "sh_2019_final"
   ]
  },
  {
   "cell_type": "code",
   "execution_count": 27,
   "metadata": {},
   "outputs": [
    {
     "data": {
      "text/html": [
       "<div>\n",
       "<style scoped>\n",
       "    .dataframe tbody tr th:only-of-type {\n",
       "        vertical-align: middle;\n",
       "    }\n",
       "\n",
       "    .dataframe tbody tr th {\n",
       "        vertical-align: top;\n",
       "    }\n",
       "\n",
       "    .dataframe thead th {\n",
       "        text-align: right;\n",
       "    }\n",
       "</style>\n",
       "<table border=\"1\" class=\"dataframe\">\n",
       "  <thead>\n",
       "    <tr style=\"text-align: right;\">\n",
       "      <th></th>\n",
       "      <th>id</th>\n",
       "      <th>Hood_17</th>\n",
       "      <th>Lat_17</th>\n",
       "      <th>Lon_17</th>\n",
       "      <th>Prop_17</th>\n",
       "      <th>Type_17</th>\n",
       "      <th>2018</th>\n",
       "      <th>Price_18</th>\n",
       "      <th>2019</th>\n",
       "      <th>Price_19</th>\n",
       "      <th>Price_Diff_18_19</th>\n",
       "    </tr>\n",
       "  </thead>\n",
       "  <tbody>\n",
       "  </tbody>\n",
       "</table>\n",
       "</div>"
      ],
      "text/plain": [
       "Empty DataFrame\n",
       "Columns: [id, Hood_17, Lat_17, Lon_17, Prop_17, Type_17, 2018, Price_18, 2019, Price_19, Price_Diff_18_19]\n",
       "Index: []"
      ]
     },
     "execution_count": 27,
     "metadata": {},
     "output_type": "execute_result"
    }
   ],
   "source": [
    "#Filtering the Superhost Listings of 2019 according to object type\n",
    "sh_2019_final_Apart_Priv = sh_2019_final.loc[(sh_2019_final[\"Prop_17\"]  == \"Apartment\") & \n",
    "                           (sh_2019_final[\"Type_17\"]  == \"Private room\")]\n",
    "\n",
    "sh_2019_final_Apart_Entire = sh_2019_final.loc[(sh_2019_final[\"Prop_17\"]  == \"Apartment\") & \n",
    "                           (sh_2019_final[\"Type_17\"]  == \"Entire home/apt\")]\n",
    "\n",
    "\n",
    "sh_2019_final_House_Priv = sh_2019_final.loc[(sh_2019_final[\"Prop_17\"]  == \"House\") & \n",
    "                           (sh_2019_final[\"Type_17\"]  == \"Private room\")]\n",
    "\n",
    "sh_2019_final_House_Entire = sh_2019_final.loc[(sh_2019_final[\"Prop_17\"]  == \"House\") & \n",
    "                           (sh_2019_final[\"Type_17\"]  == \"Entire home/apt\")]\n",
    "\n",
    "#No Guesthouse\n",
    "sh_2019_final_Guesthouse = sh_2019_final.loc[(sh_2019_final[\"Prop_17\"]  == \"Guesthouse\")]\n",
    "sh_2019_final_Guesthouse"
   ]
  },
  {
   "cell_type": "code",
   "execution_count": 28,
   "metadata": {},
   "outputs": [
    {
     "data": {
      "text/plain": [
       "596"
      ]
     },
     "execution_count": 28,
     "metadata": {},
     "output_type": "execute_result"
    }
   ],
   "source": [
    "#From 2018 to 2019; From the 468 Superhosts, 380 Hosts stayed as Superhosts and 216 joined newly as superhosts. \n",
    "sh_count_2019i = price_df.loc[(price_df[\"2019\"]) == \"t\"]\n",
    "sh_count_2019i = sh_count_2019i[\"2019\"].count()\n",
    "sh_count_2019i\n"
   ]
  },
  {
   "cell_type": "code",
   "execution_count": 29,
   "metadata": {},
   "outputs": [
    {
     "data": {
      "text/plain": [
       "596"
      ]
     },
     "execution_count": 29,
     "metadata": {},
     "output_type": "execute_result"
    }
   ],
   "source": [
    "#From 2019 to 2020 the same amount staied Superhosts\n",
    "sh_count_2020j = price_df.loc[(price_df[\"2019\"]  == \"t\") & (price_df[\"2020\"]  == \"t\")] \n",
    "sh_count_2020j = sh_count_2020j[\"2020\"].count()\n",
    "sh_count_2020j\n"
   ]
  },
  {
   "cell_type": "code",
   "execution_count": 30,
   "metadata": {},
   "outputs": [
    {
     "data": {
      "text/plain": [
       "0"
      ]
     },
     "execution_count": 30,
     "metadata": {},
     "output_type": "execute_result"
    }
   ],
   "source": [
    "#From 2019 to 2020, nobody resigned as Superhost\n",
    "sh_count_2020k = price_df.loc[(price_df[\"2019\"]  == \"t\") & (price_df[\"2020\"]  == \"f\")] \n",
    "sh_count_2020k = sh_count_2020k[\"2020\"].count()\n",
    "sh_count_2020k"
   ]
  },
  {
   "cell_type": "code",
   "execution_count": 31,
   "metadata": {},
   "outputs": [
    {
     "data": {
      "text/plain": [
       "347"
      ]
     },
     "execution_count": 31,
     "metadata": {},
     "output_type": "execute_result"
    }
   ],
   "source": [
    "#From 2019 to 2020, 347 upgraded as superhost\n",
    "sh_2020i = price_df.loc[(price_df[\"2019\"]  == \"f\") & (price_df[\"2020\"]  == \"t\")] \n",
    "sh_count_2020i = sh_2020i[\"2020\"].count()\n",
    "sh_count_2020i"
   ]
  },
  {
   "cell_type": "code",
   "execution_count": 32,
   "metadata": {},
   "outputs": [
    {
     "data": {
      "text/html": [
       "<div>\n",
       "<style scoped>\n",
       "    .dataframe tbody tr th:only-of-type {\n",
       "        vertical-align: middle;\n",
       "    }\n",
       "\n",
       "    .dataframe tbody tr th {\n",
       "        vertical-align: top;\n",
       "    }\n",
       "\n",
       "    .dataframe thead th {\n",
       "        text-align: right;\n",
       "    }\n",
       "</style>\n",
       "<table border=\"1\" class=\"dataframe\">\n",
       "  <thead>\n",
       "    <tr style=\"text-align: right;\">\n",
       "      <th></th>\n",
       "      <th>id</th>\n",
       "      <th>Hood_17</th>\n",
       "      <th>Lat_17</th>\n",
       "      <th>Lon_17</th>\n",
       "      <th>Prop_17</th>\n",
       "      <th>Type_17</th>\n",
       "      <th>2019</th>\n",
       "      <th>Price_19</th>\n",
       "      <th>2020</th>\n",
       "      <th>Price_20</th>\n",
       "      <th>Price_Diff_19_20</th>\n",
       "    </tr>\n",
       "  </thead>\n",
       "  <tbody>\n",
       "    <tr>\n",
       "      <td>11</td>\n",
       "      <td>1578776</td>\n",
       "      <td>Queens</td>\n",
       "      <td>40.774350</td>\n",
       "      <td>-73.912175</td>\n",
       "      <td>Apartment</td>\n",
       "      <td>Private room</td>\n",
       "      <td>f</td>\n",
       "      <td>51.0</td>\n",
       "      <td>t</td>\n",
       "      <td>51.0</td>\n",
       "      <td>0.0</td>\n",
       "    </tr>\n",
       "    <tr>\n",
       "      <td>39</td>\n",
       "      <td>12851100</td>\n",
       "      <td>Queens</td>\n",
       "      <td>40.771414</td>\n",
       "      <td>-73.914154</td>\n",
       "      <td>Apartment</td>\n",
       "      <td>Entire home/apt</td>\n",
       "      <td>f</td>\n",
       "      <td>80.0</td>\n",
       "      <td>t</td>\n",
       "      <td>80.0</td>\n",
       "      <td>0.0</td>\n",
       "    </tr>\n",
       "    <tr>\n",
       "      <td>45</td>\n",
       "      <td>9859181</td>\n",
       "      <td>Queens</td>\n",
       "      <td>40.782744</td>\n",
       "      <td>-73.913179</td>\n",
       "      <td>House</td>\n",
       "      <td>Entire home/apt</td>\n",
       "      <td>f</td>\n",
       "      <td>88.0</td>\n",
       "      <td>t</td>\n",
       "      <td>193.0</td>\n",
       "      <td>105.0</td>\n",
       "    </tr>\n",
       "    <tr>\n",
       "      <td>74</td>\n",
       "      <td>12205604</td>\n",
       "      <td>Queens</td>\n",
       "      <td>40.587757</td>\n",
       "      <td>-73.793083</td>\n",
       "      <td>Guesthouse</td>\n",
       "      <td>Private room</td>\n",
       "      <td>f</td>\n",
       "      <td>95.0</td>\n",
       "      <td>t</td>\n",
       "      <td>95.0</td>\n",
       "      <td>0.0</td>\n",
       "    </tr>\n",
       "    <tr>\n",
       "      <td>93</td>\n",
       "      <td>74680</td>\n",
       "      <td>Queens</td>\n",
       "      <td>40.776350</td>\n",
       "      <td>-73.934261</td>\n",
       "      <td>Apartment</td>\n",
       "      <td>Entire home/apt</td>\n",
       "      <td>f</td>\n",
       "      <td>115.0</td>\n",
       "      <td>t</td>\n",
       "      <td>115.0</td>\n",
       "      <td>0.0</td>\n",
       "    </tr>\n",
       "    <tr>\n",
       "      <td>...</td>\n",
       "      <td>...</td>\n",
       "      <td>...</td>\n",
       "      <td>...</td>\n",
       "      <td>...</td>\n",
       "      <td>...</td>\n",
       "      <td>...</td>\n",
       "      <td>...</td>\n",
       "      <td>...</td>\n",
       "      <td>...</td>\n",
       "      <td>...</td>\n",
       "      <td>...</td>\n",
       "    </tr>\n",
       "    <tr>\n",
       "      <td>7557</td>\n",
       "      <td>13398348</td>\n",
       "      <td>Brooklyn</td>\n",
       "      <td>40.715697</td>\n",
       "      <td>-73.959828</td>\n",
       "      <td>Apartment</td>\n",
       "      <td>Entire home/apt</td>\n",
       "      <td>f</td>\n",
       "      <td>125.0</td>\n",
       "      <td>t</td>\n",
       "      <td>165.0</td>\n",
       "      <td>40.0</td>\n",
       "    </tr>\n",
       "    <tr>\n",
       "      <td>7560</td>\n",
       "      <td>15232776</td>\n",
       "      <td>Brooklyn</td>\n",
       "      <td>40.719579</td>\n",
       "      <td>-73.961232</td>\n",
       "      <td>Apartment</td>\n",
       "      <td>Entire home/apt</td>\n",
       "      <td>f</td>\n",
       "      <td>250.0</td>\n",
       "      <td>t</td>\n",
       "      <td>350.0</td>\n",
       "      <td>100.0</td>\n",
       "    </tr>\n",
       "    <tr>\n",
       "      <td>7579</td>\n",
       "      <td>4832126</td>\n",
       "      <td>Brooklyn</td>\n",
       "      <td>40.718949</td>\n",
       "      <td>-73.956041</td>\n",
       "      <td>Apartment</td>\n",
       "      <td>Private room</td>\n",
       "      <td>f</td>\n",
       "      <td>73.0</td>\n",
       "      <td>t</td>\n",
       "      <td>85.0</td>\n",
       "      <td>12.0</td>\n",
       "    </tr>\n",
       "    <tr>\n",
       "      <td>7584</td>\n",
       "      <td>6185426</td>\n",
       "      <td>Brooklyn</td>\n",
       "      <td>40.711783</td>\n",
       "      <td>-73.956843</td>\n",
       "      <td>Apartment</td>\n",
       "      <td>Private room</td>\n",
       "      <td>f</td>\n",
       "      <td>90.0</td>\n",
       "      <td>t</td>\n",
       "      <td>90.0</td>\n",
       "      <td>0.0</td>\n",
       "    </tr>\n",
       "    <tr>\n",
       "      <td>7601</td>\n",
       "      <td>3695725</td>\n",
       "      <td>Brooklyn</td>\n",
       "      <td>40.716209</td>\n",
       "      <td>-73.956416</td>\n",
       "      <td>Apartment</td>\n",
       "      <td>Entire home/apt</td>\n",
       "      <td>f</td>\n",
       "      <td>375.0</td>\n",
       "      <td>t</td>\n",
       "      <td>375.0</td>\n",
       "      <td>0.0</td>\n",
       "    </tr>\n",
       "  </tbody>\n",
       "</table>\n",
       "<p>347 rows × 11 columns</p>\n",
       "</div>"
      ],
      "text/plain": [
       "            id   Hood_17     Lat_17     Lon_17     Prop_17          Type_17  \\\n",
       "11     1578776    Queens  40.774350 -73.912175   Apartment     Private room   \n",
       "39    12851100    Queens  40.771414 -73.914154   Apartment  Entire home/apt   \n",
       "45     9859181    Queens  40.782744 -73.913179       House  Entire home/apt   \n",
       "74    12205604    Queens  40.587757 -73.793083  Guesthouse     Private room   \n",
       "93       74680    Queens  40.776350 -73.934261   Apartment  Entire home/apt   \n",
       "...        ...       ...        ...        ...         ...              ...   \n",
       "7557  13398348  Brooklyn  40.715697 -73.959828   Apartment  Entire home/apt   \n",
       "7560  15232776  Brooklyn  40.719579 -73.961232   Apartment  Entire home/apt   \n",
       "7579   4832126  Brooklyn  40.718949 -73.956041   Apartment     Private room   \n",
       "7584   6185426  Brooklyn  40.711783 -73.956843   Apartment     Private room   \n",
       "7601   3695725  Brooklyn  40.716209 -73.956416   Apartment  Entire home/apt   \n",
       "\n",
       "     2019  Price_19 2020  Price_20  Price_Diff_19_20  \n",
       "11      f      51.0    t      51.0               0.0  \n",
       "39      f      80.0    t      80.0               0.0  \n",
       "45      f      88.0    t     193.0             105.0  \n",
       "74      f      95.0    t      95.0               0.0  \n",
       "93      f     115.0    t     115.0               0.0  \n",
       "...   ...       ...  ...       ...               ...  \n",
       "7557    f     125.0    t     165.0              40.0  \n",
       "7560    f     250.0    t     350.0             100.0  \n",
       "7579    f      73.0    t      85.0              12.0  \n",
       "7584    f      90.0    t      90.0               0.0  \n",
       "7601    f     375.0    t     375.0               0.0  \n",
       "\n",
       "[347 rows x 11 columns]"
      ]
     },
     "execution_count": 32,
     "metadata": {},
     "output_type": "execute_result"
    }
   ],
   "source": [
    "#Change 2019 to 2020, snapshot 2020\n",
    "sh_2020_final = sh_2020i[[\"id\", \"Hood_17\", \"Lat_17\", \"Lon_17\", \"Prop_17\", \"Type_17\",\n",
    "                         \"2019\", \"Price_19\", \"2020\", \"Price_20\", \"Price_Diff_19_20\"]]\n",
    "sh_2020_final"
   ]
  },
  {
   "cell_type": "code",
   "execution_count": 33,
   "metadata": {},
   "outputs": [
    {
     "data": {
      "text/html": [
       "<div>\n",
       "<style scoped>\n",
       "    .dataframe tbody tr th:only-of-type {\n",
       "        vertical-align: middle;\n",
       "    }\n",
       "\n",
       "    .dataframe tbody tr th {\n",
       "        vertical-align: top;\n",
       "    }\n",
       "\n",
       "    .dataframe thead th {\n",
       "        text-align: right;\n",
       "    }\n",
       "</style>\n",
       "<table border=\"1\" class=\"dataframe\">\n",
       "  <thead>\n",
       "    <tr style=\"text-align: right;\">\n",
       "      <th></th>\n",
       "      <th>id</th>\n",
       "      <th>Hood_17</th>\n",
       "      <th>Lat_17</th>\n",
       "      <th>Lon_17</th>\n",
       "      <th>Prop_17</th>\n",
       "      <th>Type_17</th>\n",
       "      <th>2019</th>\n",
       "      <th>Price_19</th>\n",
       "      <th>2020</th>\n",
       "      <th>Price_20</th>\n",
       "      <th>Price_Diff_19_20</th>\n",
       "    </tr>\n",
       "  </thead>\n",
       "  <tbody>\n",
       "    <tr>\n",
       "      <td>74</td>\n",
       "      <td>12205604</td>\n",
       "      <td>Queens</td>\n",
       "      <td>40.587757</td>\n",
       "      <td>-73.793083</td>\n",
       "      <td>Guesthouse</td>\n",
       "      <td>Private room</td>\n",
       "      <td>f</td>\n",
       "      <td>95.0</td>\n",
       "      <td>t</td>\n",
       "      <td>95.0</td>\n",
       "      <td>0.0</td>\n",
       "    </tr>\n",
       "  </tbody>\n",
       "</table>\n",
       "</div>"
      ],
      "text/plain": [
       "          id Hood_17     Lat_17     Lon_17     Prop_17       Type_17 2019  \\\n",
       "74  12205604  Queens  40.587757 -73.793083  Guesthouse  Private room    f   \n",
       "\n",
       "    Price_19 2020  Price_20  Price_Diff_19_20  \n",
       "74      95.0    t      95.0               0.0  "
      ]
     },
     "execution_count": 33,
     "metadata": {},
     "output_type": "execute_result"
    }
   ],
   "source": [
    "#Filtering the Superhost Listings of 2020 according to object type\n",
    "sh_2020_final_Apart_Priv = sh_2020_final.loc[(sh_2020_final[\"Prop_17\"]  == \"Apartment\") & \n",
    "                           (sh_2020_final[\"Type_17\"]  == \"Private room\")]\n",
    "\n",
    "sh_2020_final_Apart_Entire = sh_2020_final.loc[(sh_2020_final[\"Prop_17\"]  == \"Apartment\") & \n",
    "                           (sh_2020_final[\"Type_17\"]  == \"Entire home/apt\")]\n",
    "\n",
    "\n",
    "sh_2020_final_House_Priv = sh_2020_final.loc[(sh_2020_final[\"Prop_17\"]  == \"House\") & \n",
    "                           (sh_2020_final[\"Type_17\"]  == \"Private room\")]\n",
    "\n",
    "sh_2020_final_House_Entire = sh_2020_final.loc[(sh_2020_final[\"Prop_17\"]  == \"House\") & \n",
    "                           (sh_2020_final[\"Type_17\"]  == \"Entire home/apt\")]\n",
    "\n",
    "sh_2020_final_Guesthouse = sh_2020_final.loc[(sh_2020_final[\"Prop_17\"]  == \"Guesthouse\")]\n",
    "sh_2020_final_Guesthouse"
   ]
  },
  {
   "cell_type": "code",
   "execution_count": 34,
   "metadata": {},
   "outputs": [],
   "source": [
    "#In 2020 we have 943 superhosts\n",
    "sh_count_2020 = price_df.loc[(price_df[\"2020\"]) == \"t\"]\n",
    "#sh_count_2020 = sh_count_2020[\"2020\"].count()"
   ]
  },
  {
   "cell_type": "code",
   "execution_count": 35,
   "metadata": {},
   "outputs": [
    {
     "data": {
      "application/vnd.jupyter.widget-view+json": {
       "model_id": "7be60f97a8d64d9b9366fed3ba6702b3",
       "version_major": 2,
       "version_minor": 0
      },
      "text/plain": [
       "Figure(layout=FigureLayout(height='420px'))"
      ]
     },
     "metadata": {},
     "output_type": "display_data"
    }
   ],
   "source": [
    "#2020 Superhosts Apartments Entire vs. Private\n",
    "gmaps.configure(api_key=g_key)\n",
    "\n",
    "sh_2020_final_Apart_Entire_loc = sh_2020_final_Apart_Entire[['Lat_17', 'Lon_17']]\n",
    "\n",
    "sh_2020_final_Apart_Priv_loc = sh_2020_final_Apart_Priv[['Lat_17', 'Lon_17']]\n",
    "\n",
    "#Green dots are Apartment with Entire Apartment\n",
    "sh_2020_layer_Apart_Entire = gmaps.symbol_layer(\n",
    "    sh_2020_final_Apart_Entire_loc, fill_color='rgba(0, 150, 0, 0.4)',\n",
    "    stroke_color='rgba(0, 150, 0, 0.4)', scale=2)\n",
    "\n",
    "#Red dots are Apartment with Private Room\n",
    "sh_2020_layer_Apart_Priv = gmaps.symbol_layer(\n",
    "    sh_2020_final_Apart_Priv_loc, fill_color='rgba(200, 0, 0, 0.4)',\n",
    "    stroke_color='rgba(200, 0, 0, 0.4)', scale=2)\n",
    "\n",
    "fig = gmaps.figure()   \n",
    "fig.add_layer(sh_2020_layer_Apart_Entire)\n",
    "fig.add_layer(sh_2020_layer_Apart_Priv)\n",
    "fig\n"
   ]
  },
  {
   "cell_type": "code",
   "execution_count": 36,
   "metadata": {},
   "outputs": [
    {
     "data": {
      "application/vnd.jupyter.widget-view+json": {
       "model_id": "a868ed398d6f448f8ad85e3e021af199",
       "version_major": 2,
       "version_minor": 0
      },
      "text/plain": [
       "Figure(layout=FigureLayout(height='420px'))"
      ]
     },
     "metadata": {},
     "output_type": "display_data"
    }
   ],
   "source": [
    "#2020 Superhosts House Entire vs. Private\n",
    "gmaps.configure(api_key=g_key)\n",
    "\n",
    "sh_2020_final_House_Entire_loc = sh_2020_final_House_Entire[['Lat_17', 'Lon_17']]\n",
    "\n",
    "sh_2020_final_House_Priv_loc = sh_2020_final_House_Priv[['Lat_17', 'Lon_17']]\n",
    "\n",
    "sh_2020_final_Guesthouse_loc = sh_2020_final_Guesthouse[['Lat_17', 'Lon_17']]\n",
    "\n",
    "#Blue dots are Apartment with Entire Apartment\n",
    "sh_2020_layer_House_Entire = gmaps.symbol_layer(\n",
    "    sh_2020_final_House_Entire_loc, fill_color='rgba(0, 140, 255, 0.4)',\n",
    "    stroke_color='rgba(0, 140, 255, 0.4)', scale=2)\n",
    "\n",
    "#Orange dots are Apartment with Private Room\n",
    "sh_2020_layer_House_Priv = gmaps.symbol_layer(\n",
    "    sh_2020_final_House_Priv_loc, fill_color='rgba(239, 108, 41, 0.93)',\n",
    "    stroke_color='rgba(239, 108, 41, 0.93)', scale=2)\n",
    "\n",
    "#Black is the only Guesthouse\n",
    "sh_2020_layer_Guesthouse = gmaps.symbol_layer(\n",
    "    sh_2020_final_Guesthouse_loc, fill_color='rgba(8, 8, 12, 0.93)',\n",
    "    stroke_color='rgba(8, 8, 12, 0.93)', scale=2)\n",
    "\n",
    "fig = gmaps.figure() \n",
    "fig.add_layer(sh_2020_layer_Guesthouse)\n",
    "fig.add_layer(sh_2020_layer_House_Entire)\n",
    "fig.add_layer(sh_2020_layer_House_Priv)\n",
    "fig\n"
   ]
  },
  {
   "cell_type": "code",
   "execution_count": 37,
   "metadata": {},
   "outputs": [
    {
     "data": {
      "application/vnd.jupyter.widget-view+json": {
       "model_id": "416a5fe66e2a415faf9b2e6ed7575b0f",
       "version_major": 2,
       "version_minor": 0
      },
      "text/plain": [
       "Figure(layout=FigureLayout(height='420px'))"
      ]
     },
     "metadata": {},
     "output_type": "display_data"
    }
   ],
   "source": [
    "#2019 Superhosts Apartments Entire vs. Private\n",
    "gmaps.configure(api_key=g_key)\n",
    "\n",
    "sh_2019_final_Apart_Entire_loc = sh_2019_final_Apart_Entire[['Lat_17', 'Lon_17']]\n",
    "\n",
    "sh_2019_final_Apart_Priv_loc = sh_2019_final_Apart_Priv[['Lat_17', 'Lon_17']]\n",
    "\n",
    "#Green dots are Apartment with Entire Apartment\n",
    "sh_2019_layer_Apart_Entire = gmaps.symbol_layer(\n",
    "    sh_2019_final_Apart_Entire_loc, fill_color='rgba(0, 150, 0, 0.4)',\n",
    "    stroke_color='rgba(0, 150, 0, 0.4)', scale=2)\n",
    "\n",
    "#Red dots are Apartment with Private Room\n",
    "sh_2019_layer_Apart_Priv = gmaps.symbol_layer(\n",
    "    sh_2019_final_Apart_Priv_loc, fill_color='rgba(200, 0, 0, 0.4)',\n",
    "    stroke_color='rgba(200, 0, 0, 0.4)', scale=2)\n",
    "\n",
    "fig = gmaps.figure()   \n",
    "fig.add_layer(sh_2019_layer_Apart_Entire)\n",
    "fig.add_layer(sh_2019_layer_Apart_Priv)\n",
    "fig"
   ]
  },
  {
   "cell_type": "code",
   "execution_count": 38,
   "metadata": {},
   "outputs": [
    {
     "data": {
      "application/vnd.jupyter.widget-view+json": {
       "model_id": "e39154d044204501ac44aaa8de3d7369",
       "version_major": 2,
       "version_minor": 0
      },
      "text/plain": [
       "Figure(layout=FigureLayout(height='420px'))"
      ]
     },
     "metadata": {},
     "output_type": "display_data"
    }
   ],
   "source": [
    "#2019 Superhosts House Entire vs. Private\n",
    "gmaps.configure(api_key=g_key)\n",
    "\n",
    "sh_2019_final_House_Entire_loc = sh_2019_final_House_Entire[['Lat_17', 'Lon_17']]\n",
    "\n",
    "sh_2019_final_House_Priv_loc = sh_2019_final_House_Priv[['Lat_17', 'Lon_17']]\n",
    "\n",
    "sh_2019_final_Guesthouse_loc = sh_2019_final_Guesthouse[['Lat_17', 'Lon_17']]\n",
    "\n",
    "#Blue dots are Apartment with Entire Apartment\n",
    "sh_2019_layer_House_Entire = gmaps.symbol_layer(\n",
    "    sh_2019_final_House_Entire_loc, fill_color='rgba(0, 140, 255, 0.4)',\n",
    "    stroke_color='rgba(0, 140, 255, 0.4)', scale=2)\n",
    "\n",
    "#Orange dots are Apartment with Private Room\n",
    "sh_2019_layer_House_Priv = gmaps.symbol_layer(\n",
    "    sh_2019_final_House_Priv_loc, fill_color='rgba(239, 108, 41, 0.93)',\n",
    "    stroke_color='rgba(239, 108, 41, 0.93)', scale=2)\n",
    "\n",
    "#Black is the only Guesthouse\n",
    "sh_2019_layer_Guesthouse = gmaps.symbol_layer(\n",
    "    sh_2019_final_Guesthouse_loc, fill_color='rgba(8, 8, 12, 0.93)',\n",
    "    stroke_color='rgba(8, 8, 12, 0.93)', scale=2)\n",
    "\n",
    "fig = gmaps.figure() \n",
    "fig.add_layer(sh_2019_layer_Guesthouse)\n",
    "fig.add_layer(sh_2019_layer_House_Entire)\n",
    "fig.add_layer(sh_2019_layer_House_Priv)\n",
    "fig"
   ]
  },
  {
   "cell_type": "code",
   "execution_count": 39,
   "metadata": {},
   "outputs": [
    {
     "data": {
      "application/vnd.jupyter.widget-view+json": {
       "model_id": "ebcb6d28b13848b09c6e00c4c5daf62b",
       "version_major": 2,
       "version_minor": 0
      },
      "text/plain": [
       "Figure(layout=FigureLayout(height='420px'))"
      ]
     },
     "metadata": {},
     "output_type": "display_data"
    }
   ],
   "source": [
    "#2018 Superhosts Apartments Entire vs. Private\n",
    "gmaps.configure(api_key=g_key)\n",
    "\n",
    "sh_2018_final_Apart_Entire_loc = sh_2018_final_Apart_Entire[['Lat_17', 'Lon_17']]\n",
    "\n",
    "sh_2018_final_Apart_Priv_loc = sh_2018_final_Apart_Priv[['Lat_17', 'Lon_17']]\n",
    "\n",
    "#Green dots are Apartment with Entire Apartment\n",
    "sh_2018_layer_Apart_Entire = gmaps.symbol_layer(\n",
    "    sh_2018_final_Apart_Entire_loc, fill_color='rgba(0, 150, 0, 0.4)',\n",
    "    stroke_color='rgba(0, 150, 0, 0.4)', scale=2)\n",
    "\n",
    "#Red dots are Apartment with Private Room\n",
    "sh_2018_layer_Apart_Priv = gmaps.symbol_layer(\n",
    "    sh_2018_final_Apart_Priv_loc, fill_color='rgba(200, 0, 0, 0.4)',\n",
    "    stroke_color='rgba(200, 0, 0, 0.4)', scale=2)\n",
    "\n",
    "fig = gmaps.figure()   \n",
    "fig.add_layer(sh_2018_layer_Apart_Entire)\n",
    "fig.add_layer(sh_2018_layer_Apart_Priv)\n",
    "fig"
   ]
  },
  {
   "cell_type": "code",
   "execution_count": 40,
   "metadata": {},
   "outputs": [
    {
     "data": {
      "application/vnd.jupyter.widget-view+json": {
       "model_id": "5f9f1ad5c7b54cf3a2e29243d01b67bc",
       "version_major": 2,
       "version_minor": 0
      },
      "text/plain": [
       "Figure(layout=FigureLayout(height='420px'))"
      ]
     },
     "metadata": {},
     "output_type": "display_data"
    }
   ],
   "source": [
    "#2018 Superhosts House Entire vs. Private\n",
    "gmaps.configure(api_key=g_key)\n",
    "\n",
    "sh_2018_final_House_Entire_loc = sh_2018_final_House_Entire[['Lat_17', 'Lon_17']]\n",
    "\n",
    "sh_2018_final_House_Priv_loc = sh_2018_final_House_Priv[['Lat_17', 'Lon_17']]\n",
    "\n",
    "sh_2018_final_Guesthouse_loc = sh_2018_final_Guesthouse[['Lat_17', 'Lon_17']]\n",
    "\n",
    "#Blue dots are Apartment with Entire Apartment\n",
    "sh_2018_layer_House_Entire = gmaps.symbol_layer(\n",
    "    sh_2018_final_House_Entire_loc, fill_color='rgba(0, 140, 255, 0.4)',\n",
    "    stroke_color='rgba(0, 140, 255, 0.4)', scale=2)\n",
    "\n",
    "#Yellow dots are Apartment with Private Room\n",
    "sh_2018_layer_House_Priv = gmaps.symbol_layer(\n",
    "    sh_2018_final_House_Priv_loc, fill_color='rgba(239, 108, 41, 0.93)',\n",
    "    stroke_color='rgba(239, 108, 41, 0.93)', scale=2)\n",
    "\n",
    "#Black is the only Guesthouse\n",
    "sh_2018_layer_Guesthouse = gmaps.symbol_layer(\n",
    "    sh_2018_final_Guesthouse_loc, fill_color='rgba(8, 8, 12, 0.93)',\n",
    "    stroke_color='rgba(8, 8, 12, 0.93)', scale=2)\n",
    "\n",
    "fig = gmaps.figure() \n",
    "fig.add_layer(sh_2018_layer_Guesthouse)\n",
    "fig.add_layer(sh_2018_layer_House_Entire)\n",
    "fig.add_layer(sh_2018_layer_House_Priv)\n",
    "fig"
   ]
  },
  {
   "cell_type": "code",
   "execution_count": 41,
   "metadata": {},
   "outputs": [
    {
     "data": {
      "application/vnd.jupyter.widget-view+json": {
       "model_id": "526b97f716e742f39da064ba31738cba",
       "version_major": 2,
       "version_minor": 0
      },
      "text/plain": [
       "Figure(layout=FigureLayout(height='420px'))"
      ]
     },
     "metadata": {},
     "output_type": "display_data"
    }
   ],
   "source": [
    "#2018 Superhosts Apartments Entire vs. Private\n",
    "gmaps.configure(api_key=g_key)\n",
    "\n",
    "drop_outs_18_to_19_Apart_Entire_loc = drop_outs_18_to_19_Apart_Entire[['Lat_17', 'Lon_17']]\n",
    "\n",
    "drop_outs_18_to_19_Apart_Priv_loc = drop_outs_18_to_19_Apart_Priv[['Lat_17', 'Lon_17']]\n",
    "\n",
    "#Pink dots are Apartment with Entire Apartment\n",
    "drop_outs_18_to_19_layer_Apart_Entire = gmaps.symbol_layer(\n",
    "    drop_outs_18_to_19_Apart_Entire_loc, fill_color='rgba(218, 109, 255, 1)',\n",
    "    stroke_color='rgba(218, 109, 255, 1)', scale=2)\n",
    "\n",
    "#Pink dots are Apartment with Private Room\n",
    "drop_outs_18_to_19_layer_Apart_Priv = gmaps.symbol_layer(\n",
    "    drop_outs_18_to_19_Apart_Priv_loc, fill_color='rgba(218, 109, 255, 1)',\n",
    "    stroke_color='rgba(218, 109, 255, 1)', scale=2)\n",
    "\n",
    "fig = gmaps.figure()   \n",
    "fig.add_layer(drop_outs_18_to_19_layer_Apart_Entire)\n",
    "fig.add_layer(drop_outs_18_to_19_layer_Apart_Priv)\n",
    "fig"
   ]
  },
  {
   "cell_type": "code",
   "execution_count": 42,
   "metadata": {},
   "outputs": [
    {
     "data": {
      "application/vnd.jupyter.widget-view+json": {
       "model_id": "32709ad5285a4d53b3c5c447dcde7a2f",
       "version_major": 2,
       "version_minor": 0
      },
      "text/plain": [
       "Figure(layout=FigureLayout(height='420px'))"
      ]
     },
     "metadata": {},
     "output_type": "display_data"
    }
   ],
   "source": [
    "#2018 Superhosts House Entire vs. Private\n",
    "gmaps.configure(api_key=g_key)\n",
    "\n",
    "drop_outs_18_to_19_House_Entire_loc = drop_outs_18_to_19_House_Entire[['Lat_17', 'Lon_17']]\n",
    "\n",
    "drop_outs_18_to_19_House_Priv_loc = drop_outs_18_to_19_House_Priv[['Lat_17', 'Lon_17']]\n",
    "\n",
    "drop_outs_18_to_19_Guesthouse_loc = drop_outs_18_to_19_Guesthouse[['Lat_17', 'Lon_17']]\n",
    "\n",
    "#Blue dots are Apartment with Entire Apartment\n",
    "drop_outs_18_to_19_layer_House_Entire = gmaps.symbol_layer(\n",
    "    drop_outs_18_to_19_House_Entire_loc, fill_color='rgba(218, 109, 255, 1)',\n",
    "    stroke_color='rgba(218, 109, 255, 1)', scale=2)\n",
    "\n",
    "#Orange dots are Apartment with Private Room\n",
    "drop_outs_18_to_19_layer_House_Priv = gmaps.symbol_layer(\n",
    "    drop_outs_18_to_19_House_Priv_loc, fill_color='rgba(218, 109, 255, 1)',\n",
    "    stroke_color='rgba(218, 109, 255, 1)', scale=2)\n",
    "\n",
    "#Black is the only Guesthouse\n",
    "drop_outs_18_to_19_layer_Guesthouse = gmaps.symbol_layer(\n",
    "    drop_outs_18_to_19_Guesthouse_loc, fill_color='rgba(218, 109, 255, 1)',\n",
    "    stroke_color='rgba(218, 109, 255, 1)', scale=2)\n",
    "\n",
    "fig = gmaps.figure() \n",
    "fig.add_layer(drop_outs_18_to_19_layer_Guesthouse)\n",
    "fig.add_layer(drop_outs_18_to_19_layer_House_Entire)\n",
    "fig.add_layer(drop_outs_18_to_19_layer_House_Priv)\n",
    "fig"
   ]
  },
  {
   "cell_type": "code",
   "execution_count": 43,
   "metadata": {},
   "outputs": [
    {
     "data": {
      "application/vnd.jupyter.widget-view+json": {
       "model_id": "f51bc2747c474e6486fe9835e7e4cd6c",
       "version_major": 2,
       "version_minor": 0
      },
      "text/plain": [
       "Figure(layout=FigureLayout(height='420px'))"
      ]
     },
     "metadata": {},
     "output_type": "display_data"
    }
   ],
   "source": [
    "#All of the layers combined\n",
    "gmaps.configure(api_key=g_key)\n",
    "\n",
    "\n",
    "fig = gmaps.figure() \n",
    "fig.add_layer(sh_2018_layer_Guesthouse)\n",
    "fig.add_layer(sh_2018_layer_House_Entire)\n",
    "fig.add_layer(sh_2018_layer_House_Priv)\n",
    "\n",
    "fig.add_layer(sh_2019_layer_Guesthouse)\n",
    "fig.add_layer(sh_2019_layer_House_Entire)\n",
    "fig.add_layer(sh_2019_layer_House_Priv)\n",
    "\n",
    "fig.add_layer(sh_2020_layer_Guesthouse)\n",
    "fig.add_layer(sh_2020_layer_House_Entire)\n",
    "fig.add_layer(sh_2020_layer_House_Priv)\n",
    "\n",
    "fig.add_layer(sh_2018_layer_Apart_Entire)\n",
    "fig.add_layer(sh_2018_layer_Apart_Priv)\n",
    "\n",
    "fig.add_layer(sh_2019_layer_Apart_Entire)\n",
    "fig.add_layer(sh_2019_layer_Apart_Priv)\n",
    "\n",
    "fig.add_layer(sh_2020_layer_Apart_Entire)\n",
    "fig.add_layer(sh_2020_layer_Apart_Priv)\n",
    "\n",
    "fig.add_layer(drop_outs_18_to_19_layer_Apart_Entire)\n",
    "fig.add_layer(drop_outs_18_to_19_layer_Apart_Priv)\n",
    "\n",
    "fig.add_layer(drop_outs_18_to_19_layer_Guesthouse)\n",
    "fig.add_layer(drop_outs_18_to_19_layer_House_Entire)\n",
    "fig.add_layer(drop_outs_18_to_19_layer_House_Priv)\n",
    "\n",
    "fig"
   ]
  },
  {
   "cell_type": "code",
   "execution_count": 44,
   "metadata": {},
   "outputs": [
    {
     "data": {
      "application/vnd.jupyter.widget-view+json": {
       "model_id": "96371a76477041f79ded2f8e2562fca1",
       "version_major": 2,
       "version_minor": 0
      },
      "text/plain": [
       "Figure(layout=FigureLayout(height='420px'))"
      ]
     },
     "metadata": {},
     "output_type": "display_data"
    }
   ],
   "source": [
    "#Heatmap displying price increase from host listings to superhost listings from 2017 to 2018\n",
    "gmaps.configure(api_key=g_key)\n",
    "\n",
    "\n",
    "sh_2018_final_greater0 = sh_2018_final.loc[(sh_2018_final[\"Price_Diff_17_18\"] >= 0 )]\n",
    "locations = sh_2018_final_greater0[[\"Lat_17\", \"Lon_17\"]]\n",
    "price_increase = sh_2018_final_greater0[\"Price_Diff_17_18\"]\n",
    "\n",
    "fig = gmaps.figure()\n",
    "heatlayer = gmaps.heatmap_layer(locations, weights=price_increase, dissipating=False, max_intensity=5, point_radius=0.005)\n",
    "fig.add_layer(heatlayer)\n",
    "fig"
   ]
  },
  {
   "cell_type": "code",
   "execution_count": 45,
   "metadata": {},
   "outputs": [
    {
     "data": {
      "application/vnd.jupyter.widget-view+json": {
       "model_id": "d2f2f4880b6041eb873d60a25a63d4f3",
       "version_major": 2,
       "version_minor": 0
      },
      "text/plain": [
       "Figure(layout=FigureLayout(height='420px'))"
      ]
     },
     "metadata": {},
     "output_type": "display_data"
    }
   ],
   "source": [
    "#Heatmap displying price increase from host listings to superhost listings from 2018 to 2019\n",
    "gmaps.configure(api_key=g_key)\n",
    "\n",
    "\n",
    "sh_2019_final_greater0 = sh_2019_final.loc[(sh_2019_final[\"Price_Diff_18_19\"] >= 0 )]\n",
    "locations = sh_2019_final_greater0[[\"Lat_17\", \"Lon_17\"]]\n",
    "price_increase = sh_2019_final_greater0[\"Price_Diff_18_19\"]\n",
    "\n",
    "fig = gmaps.figure()\n",
    "heatlayer = gmaps.heatmap_layer(locations, weights=price_increase, dissipating=False, max_intensity=5, point_radius=0.005)\n",
    "fig.add_layer(heatlayer)\n",
    "fig"
   ]
  },
  {
   "cell_type": "code",
   "execution_count": 46,
   "metadata": {},
   "outputs": [
    {
     "data": {
      "application/vnd.jupyter.widget-view+json": {
       "model_id": "e4d9e533383342d1894555e21c51e0af",
       "version_major": 2,
       "version_minor": 0
      },
      "text/plain": [
       "Figure(layout=FigureLayout(height='420px'))"
      ]
     },
     "metadata": {},
     "output_type": "display_data"
    }
   ],
   "source": [
    "#Heatmap displying price increase from host listings to superhost listings from 2019 to 2020\n",
    "gmaps.configure(api_key=g_key)\n",
    "\n",
    "\n",
    "sh_2020_final_greater0 = sh_2020_final.loc[(sh_2020_final[\"Price_Diff_19_20\"] >= 0 )]\n",
    "locations = sh_2020_final_greater0[[\"Lat_17\", \"Lon_17\"]]\n",
    "price_increase = sh_2020_final_greater0[\"Price_Diff_19_20\"]\n",
    "\n",
    "fig = gmaps.figure()\n",
    "heatlayer = gmaps.heatmap_layer(locations, weights=price_increase, dissipating=False, max_intensity=5, point_radius=0.005)\n",
    "fig.add_layer(heatlayer)\n",
    "fig"
   ]
  },
  {
   "cell_type": "code",
   "execution_count": 47,
   "metadata": {},
   "outputs": [
    {
     "data": {
      "text/plain": [
       "array([  0., 105.,   2.,  12.,  19.,  15.,   5.,  25., -23.,   4.,   6.,\n",
       "       -66.,  53.,  30.,  -1.,  10.,   7.,  20., -48., -10., -56., -88.,\n",
       "       -14., -40., -52.,  13., -35.,   3.,  -5., -20.,   1.,  50.,  -2.,\n",
       "       -15.,   9.,  40.,  -6., 366., -26.,  80.,  49., 100.,  16.,   8.,\n",
       "        -8.,  -4.,  32.,  39.])"
      ]
     },
     "execution_count": 47,
     "metadata": {},
     "output_type": "execute_result"
    }
   ],
   "source": [
    "#Looking at the price difference from 2019 to 2020 (only unique values)\n",
    "price_diff_2020 = sh_2020_final[\"Price_Diff_19_20\"].unique()\n",
    "price_diff_2020"
   ]
  },
  {
   "cell_type": "code",
   "execution_count": 48,
   "metadata": {},
   "outputs": [
    {
     "data": {
      "text/plain": [
       "Hood_17\n",
       "Bronx             0.0\n",
       "Brooklyn          0.0\n",
       "Manhattan         0.0\n",
       "Queens            0.0\n",
       "Staten Island   -10.0\n",
       "Name: Price_Diff_19_20, dtype: float64"
      ]
     },
     "execution_count": 48,
     "metadata": {},
     "output_type": "execute_result"
    }
   ],
   "source": [
    "#Finding out the median price change in 2020 per borough\n",
    "price_change_2020_median = sh_2020_final.groupby(\"Hood_17\").median()\n",
    "median_2020 = price_change_2020_median[\"Price_Diff_19_20\"]  \n",
    "median_2020\n"
   ]
  },
  {
   "cell_type": "code",
   "execution_count": 49,
   "metadata": {},
   "outputs": [
    {
     "data": {
      "text/plain": [
       "array([   0.,  -25.,    7.,   15.,   49.,   30.,   -3.,    6.,   12.,\n",
       "       -105.,   42.,   36.,  230.,   20.,   10.,  -20.,    2.,  -14.,\n",
       "          5.,   33.,   -1., -115.,   25.,    4.,   -6.,   -5.,   16.,\n",
       "         -4.,  105.,  -15.,  -60.,   14.,   21.,   75.,    3.,  -16.,\n",
       "          9.,  -10.,   26.,   45.,   18.,  -19.,   11.,  -40.,   -2.,\n",
       "         19.,  -18.,  -90.,  -11.])"
      ]
     },
     "execution_count": 49,
     "metadata": {},
     "output_type": "execute_result"
    }
   ],
   "source": [
    "#Unique Values in the price difference from 2018 to 2019\n",
    "price_diff_2019 = sh_2019_final[\"Price_Diff_18_19\"].unique()\n",
    "price_diff_2019\n"
   ]
  },
  {
   "cell_type": "code",
   "execution_count": 50,
   "metadata": {},
   "outputs": [
    {
     "data": {
      "text/plain": [
       "Hood_17\n",
       "Bronx             0.0\n",
       "Brooklyn          0.0\n",
       "Manhattan         0.0\n",
       "Queens            0.0\n",
       "Staten Island   -25.0\n",
       "Name: Price_Diff_18_19, dtype: float64"
      ]
     },
     "execution_count": 50,
     "metadata": {},
     "output_type": "execute_result"
    }
   ],
   "source": [
    "#Finding out the median price change in 2019 per borough\n",
    "price_change_2019_median = sh_2019_final.groupby(\"Hood_17\").median()                                \n",
    "median_2019 = price_change_2019_median[\"Price_Diff_18_19\"]  \n",
    "median_2019"
   ]
  },
  {
   "cell_type": "code",
   "execution_count": 51,
   "metadata": {},
   "outputs": [
    {
     "data": {
      "text/plain": [
       "array([-8.00e+00, -5.00e+00, -2.00e+00,  1.00e+01,  1.15e+02,  0.00e+00,\n",
       "        5.00e+00,  1.62e+03, -3.00e+01, -1.80e+01,  9.00e+00, -1.50e+01,\n",
       "       -2.50e+01,  4.00e+01,  2.00e+01,  1.00e+02,  1.10e+01,  2.20e+01,\n",
       "        2.00e+00,  2.10e+01, -3.10e+01,  7.00e+00,  2.90e+01, -7.00e+01,\n",
       "       -7.00e+00, -1.70e+01,  1.25e+02, -2.00e+01, -1.30e+01,  7.50e+01,\n",
       "        4.90e+01, -3.60e+01,  5.50e+01,  8.00e+01, -2.10e+01, -6.00e+00,\n",
       "       -1.00e+00, -9.00e+00,  3.00e+00,  2.70e+01, -3.00e+00, -4.00e+00,\n",
       "        1.50e+01, -2.20e+01,  1.09e+02,  1.80e+02,  1.30e+01,  2.50e+01,\n",
       "       -1.90e+01,  1.00e+00,  5.00e+01, -4.80e+01,  4.00e+00, -5.50e+01,\n",
       "        5.10e+01, -1.10e+01,  1.40e+01, -1.40e+02,  3.60e+01,  2.60e+01,\n",
       "       -1.60e+01, -1.20e+01,  1.20e+01, -5.00e+01,  3.00e+01, -2.80e+01,\n",
       "        1.90e+01,  6.00e+00, -1.00e+01,  8.90e+01,  8.50e+01,  1.80e+01,\n",
       "       -6.10e+01,  8.00e+00, -8.00e+01,  3.40e+01, -3.20e+01, -3.50e+01,\n",
       "        1.03e+02,  1.10e+02])"
      ]
     },
     "execution_count": 51,
     "metadata": {},
     "output_type": "execute_result"
    }
   ],
   "source": [
    "price_diff_2018 = sh_2018_final[\"Price_Diff_17_18\"].unique()\n",
    "price_diff_2018"
   ]
  },
  {
   "cell_type": "code",
   "execution_count": 52,
   "metadata": {},
   "outputs": [
    {
     "data": {
      "text/plain": [
       "Hood_17\n",
       "Bronx            -2.0\n",
       "Brooklyn          0.0\n",
       "Manhattan         0.0\n",
       "Queens            0.0\n",
       "Staten Island    27.5\n",
       "Name: Price_Diff_17_18, dtype: float64"
      ]
     },
     "execution_count": 52,
     "metadata": {},
     "output_type": "execute_result"
    }
   ],
   "source": [
    "#Finding out the median price change in 2018 per borough\n",
    "price_change_2018_median = sh_2018_final.groupby(\"Hood_17\").median()                                \n",
    "median_2018 = price_change_2018_median[\"Price_Diff_17_18\"]  \n",
    "median_2018\n"
   ]
  },
  {
   "cell_type": "code",
   "execution_count": 53,
   "metadata": {},
   "outputs": [
    {
     "data": {
      "text/plain": [
       "Text(0, 0.5, 'Price Change $')"
      ]
     },
     "execution_count": 53,
     "metadata": {},
     "output_type": "execute_result"
    },
    {
     "data": {
      "image/png": "[encoded data removed]",
      "text/plain": [
       "<Figure size 432x288 with 1 Axes>"
      ]
     },
     "metadata": {
      "needs_background": "light"
     },
     "output_type": "display_data"
    }
   ],
   "source": [
    "#Plotting the median price change in 2018 per borough\n",
    "boroughs = median_2018.keys()\n",
    "\n",
    "x_axis = np.arange(len(boroughs))\n",
    "plt.bar(x_axis, median_2018, color=\"b\", align=\"center\" )\n",
    "tick_locations = [value for value in x_axis]\n",
    "plt.xticks(tick_locations, boroughs, rotation=\"vertical\")\n",
    "plt.xlim(-0.75, len(x_axis)-0.25)\n",
    "plt.ylim(-30, max(median_2018)+5)\n",
    "plt.hlines(0, -0.75, 5, alpha=0.25)\n",
    "plt.title(\"Median Price Change after becoming a Superhost 17/18\")\n",
    "plt.xlabel(\"Borough\")\n",
    "plt.ylabel(\"Price Change $\")"
   ]
  },
  {
   "cell_type": "code",
   "execution_count": 54,
   "metadata": {},
   "outputs": [
    {
     "data": {
      "text/plain": [
       "Hood_17\n",
       "Bronx             0.0\n",
       "Brooklyn          0.0\n",
       "Manhattan         0.0\n",
       "Queens            0.0\n",
       "Staten Island   -25.0\n",
       "Name: Price_Diff_18_19, dtype: float64"
      ]
     },
     "execution_count": 54,
     "metadata": {},
     "output_type": "execute_result"
    }
   ],
   "source": [
    "price_change_2019_median = sh_2019_final.groupby(\"Hood_17\").median()                                \n",
    "median_2019 = price_change_2019_median[\"Price_Diff_18_19\"]  \n",
    "median_2019"
   ]
  },
  {
   "cell_type": "code",
   "execution_count": 55,
   "metadata": {},
   "outputs": [
    {
     "data": {
      "text/plain": [
       "Text(0, 0.5, 'Price Change $')"
      ]
     },
     "execution_count": 55,
     "metadata": {},
     "output_type": "execute_result"
    },
    {
     "data": {
      "image/png": "[encoded data removed]",
      "text/plain": [
       "<Figure size 432x288 with 1 Axes>"
      ]
     },
     "metadata": {
      "needs_background": "light"
     },
     "output_type": "display_data"
    }
   ],
   "source": [
    "#Plotting the median price change in 2019 per borough\n",
    "boroughs = median_2019.keys()\n",
    "\n",
    "x_axis = np.arange(len(boroughs))\n",
    "plt.bar(x_axis, median_2019, color=\"b\", align=\"center\" )\n",
    "tick_locations = [value for value in x_axis]\n",
    "plt.xticks(tick_locations, boroughs, rotation=\"vertical\")\n",
    "plt.xlim(-0.75, len(x_axis)-0.25)\n",
    "plt.ylim(-30, max(median_2019)+30)\n",
    "plt.hlines(0, -0.75, 5, alpha=0.25)\n",
    "plt.title(\"Median Price Change after becoming a Superhost 18/19\")\n",
    "plt.xlabel(\"Borough\")\n",
    "plt.ylabel(\"Price Change $\")"
   ]
  },
  {
   "cell_type": "code",
   "execution_count": 56,
   "metadata": {},
   "outputs": [
    {
     "data": {
      "text/plain": [
       "Hood_17\n",
       "Bronx             0.0\n",
       "Brooklyn          0.0\n",
       "Manhattan         0.0\n",
       "Queens            0.0\n",
       "Staten Island   -10.0\n",
       "Name: Price_Diff_19_20, dtype: float64"
      ]
     },
     "execution_count": 56,
     "metadata": {},
     "output_type": "execute_result"
    }
   ],
   "source": [
    "price_change_2020_median = sh_2020_final.groupby(\"Hood_17\").median()                                \n",
    "median_2020 = price_change_2020_median[\"Price_Diff_19_20\"]  \n",
    "median_2020"
   ]
  },
  {
   "cell_type": "code",
   "execution_count": 57,
   "metadata": {},
   "outputs": [
    {
     "data": {
      "text/plain": [
       "Text(0, 0.5, 'Price Change in $')"
      ]
     },
     "execution_count": 57,
     "metadata": {},
     "output_type": "execute_result"
    },
    {
     "data": {
      "image/png": "[encoded data removed]",
      "text/plain": [
       "<Figure size 432x288 with 1 Axes>"
      ]
     },
     "metadata": {
      "needs_background": "light"
     },
     "output_type": "display_data"
    }
   ],
   "source": [
    "#Plotting the median price change in 2020 per borough\n",
    "boroughs = median_2020.keys()\n",
    "\n",
    "x_axis = np.arange(len(boroughs))\n",
    "plt.bar(x_axis, median_2019, color=\"b\", align=\"center\" )\n",
    "tick_locations = [value for value in x_axis]\n",
    "plt.xticks(tick_locations, boroughs, rotation=\"vertical\")\n",
    "plt.xlim(-0.75, len(x_axis)-0.25)\n",
    "plt.ylim(-30, max(median_2019)+30)\n",
    "plt.hlines(0, -0.75, 5, alpha=0.25)\n",
    "plt.title(\"Median Price Change after becoming a Superhost 19/20\")\n",
    "plt.xlabel(\"Borough\")\n",
    "plt.ylabel(\"Price Change in $\")"
   ]
  },
  {
   "cell_type": "code",
   "execution_count": 58,
   "metadata": {},
   "outputs": [
    {
     "data": {
      "text/html": [
       "<div>\n",
       "<style scoped>\n",
       "    .dataframe tbody tr th:only-of-type {\n",
       "        vertical-align: middle;\n",
       "    }\n",
       "\n",
       "    .dataframe tbody tr th {\n",
       "        vertical-align: top;\n",
       "    }\n",
       "\n",
       "    .dataframe thead th {\n",
       "        text-align: right;\n",
       "    }\n",
       "</style>\n",
       "<table border=\"1\" class=\"dataframe\">\n",
       "  <thead>\n",
       "    <tr style=\"text-align: right;\">\n",
       "      <th></th>\n",
       "      <th>Hood_17</th>\n",
       "      <th>Price_17</th>\n",
       "      <th>Price_20</th>\n",
       "    </tr>\n",
       "  </thead>\n",
       "  <tbody>\n",
       "    <tr>\n",
       "      <td>2</td>\n",
       "      <td>Bronx</td>\n",
       "      <td>48.0</td>\n",
       "      <td>45.0</td>\n",
       "    </tr>\n",
       "    <tr>\n",
       "      <td>6</td>\n",
       "      <td>Bronx</td>\n",
       "      <td>48.0</td>\n",
       "      <td>45.0</td>\n",
       "    </tr>\n",
       "    <tr>\n",
       "      <td>8</td>\n",
       "      <td>Bronx</td>\n",
       "      <td>45.0</td>\n",
       "      <td>45.0</td>\n",
       "    </tr>\n",
       "    <tr>\n",
       "      <td>9</td>\n",
       "      <td>Queens</td>\n",
       "      <td>85.0</td>\n",
       "      <td>95.0</td>\n",
       "    </tr>\n",
       "    <tr>\n",
       "      <td>18</td>\n",
       "      <td>Queens</td>\n",
       "      <td>120.0</td>\n",
       "      <td>179.0</td>\n",
       "    </tr>\n",
       "    <tr>\n",
       "      <td>...</td>\n",
       "      <td>...</td>\n",
       "      <td>...</td>\n",
       "      <td>...</td>\n",
       "    </tr>\n",
       "    <tr>\n",
       "      <td>7501</td>\n",
       "      <td>Brooklyn</td>\n",
       "      <td>185.0</td>\n",
       "      <td>185.0</td>\n",
       "    </tr>\n",
       "    <tr>\n",
       "      <td>7537</td>\n",
       "      <td>Brooklyn</td>\n",
       "      <td>78.0</td>\n",
       "      <td>110.0</td>\n",
       "    </tr>\n",
       "    <tr>\n",
       "      <td>7576</td>\n",
       "      <td>Brooklyn</td>\n",
       "      <td>140.0</td>\n",
       "      <td>250.0</td>\n",
       "    </tr>\n",
       "    <tr>\n",
       "      <td>7593</td>\n",
       "      <td>Brooklyn</td>\n",
       "      <td>255.0</td>\n",
       "      <td>255.0</td>\n",
       "    </tr>\n",
       "    <tr>\n",
       "      <td>7606</td>\n",
       "      <td>Brooklyn</td>\n",
       "      <td>98.0</td>\n",
       "      <td>99.0</td>\n",
       "    </tr>\n",
       "  </tbody>\n",
       "</table>\n",
       "<p>380 rows × 3 columns</p>\n",
       "</div>"
      ],
      "text/plain": [
       "       Hood_17  Price_17  Price_20\n",
       "2        Bronx      48.0      45.0\n",
       "6        Bronx      48.0      45.0\n",
       "8        Bronx      45.0      45.0\n",
       "9       Queens      85.0      95.0\n",
       "18      Queens     120.0     179.0\n",
       "...        ...       ...       ...\n",
       "7501  Brooklyn     185.0     185.0\n",
       "7537  Brooklyn      78.0     110.0\n",
       "7576  Brooklyn     140.0     250.0\n",
       "7593  Brooklyn     255.0     255.0\n",
       "7606  Brooklyn      98.0      99.0\n",
       "\n",
       "[380 rows x 3 columns]"
      ]
     },
     "execution_count": 58,
     "metadata": {},
     "output_type": "execute_result"
    }
   ],
   "source": [
    "#Finding out the listings of Superhosts that remained superhosts from 2018 until 2020 (to check if they increase their price over the years)\n",
    "sh_2018until2020 = price_df.loc[(price_df[\"2018\"]  == \"t\") & (price_df[\"2019\"]  == \"t\") & (price_df[\"2020\"]  == \"t\")] \n",
    "sh_2017until2020_price = sh_2018until2020[[\"Hood_17\",\"Price_17\", \"Price_20\"]]\n",
    "sh_2017until2020_price"
   ]
  },
  {
   "cell_type": "code",
   "execution_count": 59,
   "metadata": {},
   "outputs": [
    {
     "name": "stderr",
     "output_type": "stream",
     "text": [
      "/Users/stefan_blagojevic/opt/anaconda3/lib/python3.7/site-packages/ipykernel_launcher.py:2: SettingWithCopyWarning: \n",
      "A value is trying to be set on a copy of a slice from a DataFrame.\n",
      "Try using .loc[row_indexer,col_indexer] = value instead\n",
      "\n",
      "See the caveats in the documentation: http://pandas.pydata.org/pandas-docs/stable/user_guide/indexing.html#returning-a-view-versus-a-copy\n",
      "  \n"
     ]
    }
   ],
   "source": [
    "#Add a Column with the Price Difference from 2017 to 2020 to the Dataframe\n",
    "sh_2017until2020_price[\"Price_Diff_17_20\"] = 0"
   ]
  },
  {
   "cell_type": "code",
   "execution_count": 60,
   "metadata": {},
   "outputs": [
    {
     "name": "stderr",
     "output_type": "stream",
     "text": [
      "/Users/stefan_blagojevic/opt/anaconda3/lib/python3.7/site-packages/pandas/core/indexing.py:494: SettingWithCopyWarning: \n",
      "A value is trying to be set on a copy of a slice from a DataFrame.\n",
      "Try using .loc[row_indexer,col_indexer] = value instead\n",
      "\n",
      "See the caveats in the documentation: http://pandas.pydata.org/pandas-docs/stable/user_guide/indexing.html#returning-a-view-versus-a-copy\n",
      "  self.obj[item] = s\n"
     ]
    }
   ],
   "source": [
    "#Filling in the Price Difference in the rows thorugh iterating through the rows\n",
    "for index, row in sh_2017until2020_price.iterrows():\n",
    "    no_host = row[\"Price_17\"]\n",
    "    host = row[\"Price_20\"]\n",
    "    sh_2017until2020_price.loc[index, \"Price_Diff_17_20\"] = host - no_host"
   ]
  },
  {
   "cell_type": "code",
   "execution_count": 61,
   "metadata": {},
   "outputs": [
    {
     "data": {
      "text/html": [
       "<div>\n",
       "<style scoped>\n",
       "    .dataframe tbody tr th:only-of-type {\n",
       "        vertical-align: middle;\n",
       "    }\n",
       "\n",
       "    .dataframe tbody tr th {\n",
       "        vertical-align: top;\n",
       "    }\n",
       "\n",
       "    .dataframe thead th {\n",
       "        text-align: right;\n",
       "    }\n",
       "</style>\n",
       "<table border=\"1\" class=\"dataframe\">\n",
       "  <thead>\n",
       "    <tr style=\"text-align: right;\">\n",
       "      <th></th>\n",
       "      <th>Hood_17</th>\n",
       "      <th>Price_17</th>\n",
       "      <th>Price_20</th>\n",
       "      <th>Price_Diff_17_20</th>\n",
       "    </tr>\n",
       "  </thead>\n",
       "  <tbody>\n",
       "    <tr>\n",
       "      <td>2</td>\n",
       "      <td>Bronx</td>\n",
       "      <td>48.0</td>\n",
       "      <td>45.0</td>\n",
       "      <td>-3.0</td>\n",
       "    </tr>\n",
       "    <tr>\n",
       "      <td>6</td>\n",
       "      <td>Bronx</td>\n",
       "      <td>48.0</td>\n",
       "      <td>45.0</td>\n",
       "      <td>-3.0</td>\n",
       "    </tr>\n",
       "    <tr>\n",
       "      <td>8</td>\n",
       "      <td>Bronx</td>\n",
       "      <td>45.0</td>\n",
       "      <td>45.0</td>\n",
       "      <td>0.0</td>\n",
       "    </tr>\n",
       "    <tr>\n",
       "      <td>9</td>\n",
       "      <td>Queens</td>\n",
       "      <td>85.0</td>\n",
       "      <td>95.0</td>\n",
       "      <td>10.0</td>\n",
       "    </tr>\n",
       "    <tr>\n",
       "      <td>18</td>\n",
       "      <td>Queens</td>\n",
       "      <td>120.0</td>\n",
       "      <td>179.0</td>\n",
       "      <td>59.0</td>\n",
       "    </tr>\n",
       "    <tr>\n",
       "      <td>...</td>\n",
       "      <td>...</td>\n",
       "      <td>...</td>\n",
       "      <td>...</td>\n",
       "      <td>...</td>\n",
       "    </tr>\n",
       "    <tr>\n",
       "      <td>7501</td>\n",
       "      <td>Brooklyn</td>\n",
       "      <td>185.0</td>\n",
       "      <td>185.0</td>\n",
       "      <td>0.0</td>\n",
       "    </tr>\n",
       "    <tr>\n",
       "      <td>7537</td>\n",
       "      <td>Brooklyn</td>\n",
       "      <td>78.0</td>\n",
       "      <td>110.0</td>\n",
       "      <td>32.0</td>\n",
       "    </tr>\n",
       "    <tr>\n",
       "      <td>7576</td>\n",
       "      <td>Brooklyn</td>\n",
       "      <td>140.0</td>\n",
       "      <td>250.0</td>\n",
       "      <td>110.0</td>\n",
       "    </tr>\n",
       "    <tr>\n",
       "      <td>7593</td>\n",
       "      <td>Brooklyn</td>\n",
       "      <td>255.0</td>\n",
       "      <td>255.0</td>\n",
       "      <td>0.0</td>\n",
       "    </tr>\n",
       "    <tr>\n",
       "      <td>7606</td>\n",
       "      <td>Brooklyn</td>\n",
       "      <td>98.0</td>\n",
       "      <td>99.0</td>\n",
       "      <td>1.0</td>\n",
       "    </tr>\n",
       "  </tbody>\n",
       "</table>\n",
       "<p>380 rows × 4 columns</p>\n",
       "</div>"
      ],
      "text/plain": [
       "       Hood_17  Price_17  Price_20  Price_Diff_17_20\n",
       "2        Bronx      48.0      45.0              -3.0\n",
       "6        Bronx      48.0      45.0              -3.0\n",
       "8        Bronx      45.0      45.0               0.0\n",
       "9       Queens      85.0      95.0              10.0\n",
       "18      Queens     120.0     179.0              59.0\n",
       "...        ...       ...       ...               ...\n",
       "7501  Brooklyn     185.0     185.0               0.0\n",
       "7537  Brooklyn      78.0     110.0              32.0\n",
       "7576  Brooklyn     140.0     250.0             110.0\n",
       "7593  Brooklyn     255.0     255.0               0.0\n",
       "7606  Brooklyn      98.0      99.0               1.0\n",
       "\n",
       "[380 rows x 4 columns]"
      ]
     },
     "execution_count": 61,
     "metadata": {},
     "output_type": "execute_result"
    }
   ],
   "source": [
    "#Displayingg the new Dataframe with the price change of listings that became Superhosts in 2018 and remained Superhost until 2020 (from 2017 to 2020)\n",
    "sh_2017until2020_price"
   ]
  },
  {
   "cell_type": "code",
   "execution_count": 62,
   "metadata": {},
   "outputs": [
    {
     "data": {
      "text/plain": [
       "array([-3.00e+00,  0.00e+00,  1.00e+01,  5.90e+01,  6.00e+01,  1.62e+03,\n",
       "       -1.30e+01, -7.50e+01,  2.20e+01,  4.81e+02,  2.00e+01,  9.00e+00,\n",
       "       -1.50e+01, -2.50e+01,  5.00e+00,  1.90e+01, -5.00e+00,  1.00e+02,\n",
       "        1.10e+01,  3.10e+01,  2.00e+00,  1.50e+01,  4.00e+01, -1.40e+01,\n",
       "        1.20e+01,  2.90e+01, -7.00e+01, -1.00e+01,  3.30e+01,  1.75e+02,\n",
       "       -7.00e+00, -3.40e+01,  6.00e+00, -1.00e+00, -3.60e+01,  1.70e+02,\n",
       "        3.50e+01, -2.10e+01,  5.00e+01,  2.40e+01, -9.00e+00,  3.00e+01,\n",
       "        2.70e+01, -2.90e+01,  7.00e+00, -4.00e+00,  2.50e+01, -5.00e+01,\n",
       "       -8.00e+00, -1.80e+01,  1.09e+02,  1.30e+01,  2.70e+02, -2.00e+01,\n",
       "        1.00e+00, -2.50e+02,  5.10e+01, -4.10e+01,  4.00e+00, -5.50e+01,\n",
       "       -1.90e+01, -1.10e+01,  1.40e+01, -1.40e+02,  3.40e+01,  3.60e+01,\n",
       "       -1.70e+01,  3.24e+02, -6.00e+00,  8.00e+00,  4.60e+01,  9.10e+01,\n",
       "       -1.60e+01, -4.90e+01, -2.90e+02, -2.80e+01, -4.00e+01, -3.30e+01,\n",
       "       -2.30e+01,  8.90e+01,  4.50e+01,  6.10e+01,  1.80e+01,  3.00e+00,\n",
       "        5.30e+01, -6.10e+01,  2.10e+01, -1.10e+02,  5.40e+01, -3.20e+01,\n",
       "       -5.60e+01,  1.03e+02,  3.80e+01,  3.20e+01,  1.10e+02])"
      ]
     },
     "execution_count": 62,
     "metadata": {},
     "output_type": "execute_result"
    }
   ],
   "source": [
    "#Printing out the unique values of the price changes\n",
    "sh_2017until2020_price_list = sh_2017until2020_price[\"Price_Diff_17_20\"].unique()\n",
    "sh_2017until2020_price_list"
   ]
  },
  {
   "cell_type": "code",
   "execution_count": 63,
   "metadata": {},
   "outputs": [
    {
     "data": {
      "text/plain": [
       "Hood_17\n",
       "Bronx            -1.5\n",
       "Brooklyn          0.0\n",
       "Manhattan         0.0\n",
       "Queens            0.0\n",
       "Staten Island    32.5\n",
       "Name: Price_Diff_17_20, dtype: float64"
      ]
     },
     "execution_count": 63,
     "metadata": {},
     "output_type": "execute_result"
    }
   ],
   "source": [
    "#Calculating the Median of the price changes\n",
    "price_change_1720_median = sh_2017until2020_price.groupby(\"Hood_17\").median()                                \n",
    "median_1720 = price_change_1720_median[\"Price_Diff_17_20\"]  \n",
    "median_1720"
   ]
  },
  {
   "cell_type": "code",
   "execution_count": 64,
   "metadata": {},
   "outputs": [
    {
     "data": {
      "text/plain": [
       "Text(0, 0.5, 'Price Change in $')"
      ]
     },
     "execution_count": 64,
     "metadata": {},
     "output_type": "execute_result"
    },
    {
     "data": {
      "image/png": "[encoded data removed]",
      "text/plain": [
       "<Figure size 432x288 with 1 Axes>"
      ]
     },
     "metadata": {
      "needs_background": "light"
     },
     "output_type": "display_data"
    }
   ],
   "source": [
    "#Plotting the Bar Graph\n",
    "boroughs = median_1720.keys()\n",
    "\n",
    "x_axis = np.arange(len(boroughs))\n",
    "plt.bar(x_axis, median_1720, color=\"b\", align=\"center\" )\n",
    "tick_locations = [value for value in x_axis]\n",
    "plt.xticks(tick_locations, boroughs, rotation=\"vertical\")\n",
    "plt.xlim(-0.75, len(x_axis)-0.25)\n",
    "plt.ylim(-35, max(median_2019)+35)\n",
    "plt.hlines(0, -0.75, 5, alpha=0.25)\n",
    "plt.title(\"Median Price Change after becoming a Superhost in 2017 to 2020\")\n",
    "\n",
    "plt.xlabel(\"Borough\")\n",
    "plt.ylabel(\"Price Change in $\")"
   ]
  },
  {
   "cell_type": "markdown",
   "metadata": {},
   "source": [
    "Explanation for comparing price changes from 2017 to 2020. We don't know when exactly the people that changed to a superhost status from year x to +1 did that change. Maybe they did not have time to adjust their prices. However, looking at Superhosts that have attained this status from 2018 and kept it until 2020, we can see that the median increase for most boroughs at 0. So from the Datapoints we have, the median superhost does not increase the price. "
   ]
  },
  {
   "cell_type": "code",
   "execution_count": 65,
   "metadata": {},
   "outputs": [],
   "source": [
    "#Pricing of Listings of Superhosts (943) in 2020 per borough\n",
    "price_df_small = price_df[[\"Hood_17\", \"Price_20\"]]\n",
    "price_per_burough = price_df_small.groupby(\"Hood_17\")\n",
    "price_per_burough_median = price_per_burough.median()"
   ]
  },
  {
   "cell_type": "code",
   "execution_count": 66,
   "metadata": {},
   "outputs": [
    {
     "data": {
      "text/html": [
       "<div>\n",
       "<style scoped>\n",
       "    .dataframe tbody tr th:only-of-type {\n",
       "        vertical-align: middle;\n",
       "    }\n",
       "\n",
       "    .dataframe tbody tr th {\n",
       "        vertical-align: top;\n",
       "    }\n",
       "\n",
       "    .dataframe thead th {\n",
       "        text-align: right;\n",
       "    }\n",
       "</style>\n",
       "<table border=\"1\" class=\"dataframe\">\n",
       "  <thead>\n",
       "    <tr style=\"text-align: right;\">\n",
       "      <th></th>\n",
       "      <th>Price_20</th>\n",
       "    </tr>\n",
       "    <tr>\n",
       "      <th>Hood_17</th>\n",
       "      <th></th>\n",
       "    </tr>\n",
       "  </thead>\n",
       "  <tbody>\n",
       "    <tr>\n",
       "      <td>Bronx</td>\n",
       "      <td>75.0</td>\n",
       "    </tr>\n",
       "    <tr>\n",
       "      <td>Brooklyn</td>\n",
       "      <td>120.0</td>\n",
       "    </tr>\n",
       "    <tr>\n",
       "      <td>Manhattan</td>\n",
       "      <td>130.0</td>\n",
       "    </tr>\n",
       "    <tr>\n",
       "      <td>Queens</td>\n",
       "      <td>85.0</td>\n",
       "    </tr>\n",
       "    <tr>\n",
       "      <td>Staten Island</td>\n",
       "      <td>59.5</td>\n",
       "    </tr>\n",
       "  </tbody>\n",
       "</table>\n",
       "</div>"
      ],
      "text/plain": [
       "               Price_20\n",
       "Hood_17                \n",
       "Bronx              75.0\n",
       "Brooklyn          120.0\n",
       "Manhattan         130.0\n",
       "Queens             85.0\n",
       "Staten Island      59.5"
      ]
     },
     "execution_count": 66,
     "metadata": {},
     "output_type": "execute_result"
    }
   ],
   "source": [
    "#Displying the Dataframe\n",
    "price_per_burough_median"
   ]
  },
  {
   "cell_type": "code",
   "execution_count": 67,
   "metadata": {},
   "outputs": [
    {
     "data": {
      "text/plain": [
       "Text(0, 0.5, 'Median Price in $')"
      ]
     },
     "execution_count": 67,
     "metadata": {},
     "output_type": "execute_result"
    },
    {
     "data": {
      "image/png": "[encoded data removed]",
      "text/plain": [
       "<Figure size 432x288 with 1 Axes>"
      ]
     },
     "metadata": {
      "needs_background": "light"
     },
     "output_type": "display_data"
    }
   ],
   "source": [
    "#Plotting the Bar Graph \n",
    "boroughs = median_1720.keys()\n",
    "price_median = price_per_burough_median[\"Price_20\"]\n",
    "\n",
    "x_axis = np.arange(len(boroughs))\n",
    "plt.bar(x_axis, price_median, color=\"b\", align=\"center\" )\n",
    "tick_locations = [value for value in x_axis]\n",
    "plt.xticks(tick_locations, boroughs, rotation=\"vertical\")\n",
    "plt.xlim(-0.75, len(x_axis)-0.25)\n",
    "plt.ylim(0, max(price_median)+35)\n",
    "\n",
    "plt.title(\"Median Price per Night charged by Superhosts 2020\")\n",
    "\n",
    "plt.xlabel(\"Borough\")\n",
    "plt.ylabel(\"Median Price in $\")"
   ]
  },
  {
   "cell_type": "code",
   "execution_count": 68,
   "metadata": {},
   "outputs": [],
   "source": [
    "#Calculating the price changes\n",
    "no_price_change_17 = price_df.loc[pd.to_numeric(price_df[\"Price_Diff_17_18\"]).astype(float) == 0]\n",
    "no_price_change_17 = no_price_change_17[\"Price_Diff_17_18\"].count()"
   ]
  },
  {
   "cell_type": "code",
   "execution_count": 69,
   "metadata": {},
   "outputs": [],
   "source": [
    "increase_price_17 = price_df.loc[pd.to_numeric(price_df[\"Price_Diff_17_18\"]).astype(float) > 0]\n",
    "increase_price_17 = increase_price_17[\"Price_Diff_17_18\"].count()"
   ]
  },
  {
   "cell_type": "code",
   "execution_count": 70,
   "metadata": {},
   "outputs": [],
   "source": [
    "decrease_price_17 = price_df.loc[pd.to_numeric(price_df[\"Price_Diff_17_18\"]).astype(float) < 0]\n",
    "decrease_price_17 = decrease_price_17[\"Price_Diff_17_18\"].count()"
   ]
  },
  {
   "cell_type": "code",
   "execution_count": 71,
   "metadata": {},
   "outputs": [],
   "source": [
    "merge_17_18 = pd.DataFrame({\"No Price Change\": [no_price_change_17], \"Price Increase\": [increase_price_17], \n",
    "                        \"Price Decrease\": [decrease_price_17]})\n",
    "merge_17_18 = merge_17_18.rename(index={0: \"2017-18\"})"
   ]
  },
  {
   "cell_type": "code",
   "execution_count": 72,
   "metadata": {},
   "outputs": [
    {
     "data": {
      "text/html": [
       "<div>\n",
       "<style scoped>\n",
       "    .dataframe tbody tr th:only-of-type {\n",
       "        vertical-align: middle;\n",
       "    }\n",
       "\n",
       "    .dataframe tbody tr th {\n",
       "        vertical-align: top;\n",
       "    }\n",
       "\n",
       "    .dataframe thead th {\n",
       "        text-align: right;\n",
       "    }\n",
       "</style>\n",
       "<table border=\"1\" class=\"dataframe\">\n",
       "  <thead>\n",
       "    <tr style=\"text-align: right;\">\n",
       "      <th></th>\n",
       "      <th>2017-18</th>\n",
       "    </tr>\n",
       "  </thead>\n",
       "  <tbody>\n",
       "    <tr>\n",
       "      <td>No Price Change</td>\n",
       "      <td>540</td>\n",
       "    </tr>\n",
       "    <tr>\n",
       "      <td>Price Increase</td>\n",
       "      <td>197</td>\n",
       "    </tr>\n",
       "    <tr>\n",
       "      <td>Price Decrease</td>\n",
       "      <td>206</td>\n",
       "    </tr>\n",
       "  </tbody>\n",
       "</table>\n",
       "</div>"
      ],
      "text/plain": [
       "                 2017-18\n",
       "No Price Change      540\n",
       "Price Increase       197\n",
       "Price Decrease       206"
      ]
     },
     "execution_count": 72,
     "metadata": {},
     "output_type": "execute_result"
    }
   ],
   "source": [
    "columntorow_17_18 = merge_17_18.T\n",
    "columntorow_17_18"
   ]
  },
  {
   "cell_type": "code",
   "execution_count": 73,
   "metadata": {},
   "outputs": [
    {
     "data": {
      "image/png": "[encoded data removed]",
      "text/plain": [
       "<Figure size 432x288 with 1 Axes>"
      ]
     },
     "metadata": {},
     "output_type": "display_data"
    }
   ],
   "source": [
    "change_pie17_18 = columntorow_17_18.plot(kind='pie', y=\"2017-18\", title=(\"Price Change 2017-2018\"), autopct=\"%1.1f%%\")\n",
    "plt.tight_layout()\n",
    "plt.ylabel('Price Change')\n",
    "plt.axis('equal')\n",
    "plt.show()"
   ]
  },
  {
   "cell_type": "code",
   "execution_count": 74,
   "metadata": {},
   "outputs": [],
   "source": [
    "no_price_change_18 = price_df.loc[pd.to_numeric(price_df[\"Price_Diff_18_19\"]).astype(float) == 0]\n",
    "no_price_change_18 = no_price_change_18[\"Price_Diff_18_19\"].count()"
   ]
  },
  {
   "cell_type": "code",
   "execution_count": 75,
   "metadata": {},
   "outputs": [],
   "source": [
    "increase_price_18 = price_df.loc[pd.to_numeric(price_df[\"Price_Diff_18_19\"]).astype(float) > 0]\n",
    "increase_price_18 = increase_price_18[\"Price_Diff_18_19\"].count()"
   ]
  },
  {
   "cell_type": "code",
   "execution_count": 76,
   "metadata": {},
   "outputs": [],
   "source": [
    "decrease_price_18 = price_df.loc[pd.to_numeric(price_df[\"Price_Diff_18_19\"]).astype(float) < 0]\n",
    "decrease_price_18 = decrease_price_18[\"Price_Diff_17_18\"].count()"
   ]
  },
  {
   "cell_type": "code",
   "execution_count": 77,
   "metadata": {},
   "outputs": [],
   "source": [
    "merge_18_19 = pd.DataFrame({\"No Price Change\": [no_price_change_18], \"Price Increase\": [increase_price_18], \n",
    "                        \"Price Decrease\": [decrease_price_18]})\n",
    "merge_18_19 = merge_18_19.rename(index={0: \"2018-19\"})"
   ]
  },
  {
   "cell_type": "code",
   "execution_count": 78,
   "metadata": {},
   "outputs": [
    {
     "data": {
      "text/html": [
       "<div>\n",
       "<style scoped>\n",
       "    .dataframe tbody tr th:only-of-type {\n",
       "        vertical-align: middle;\n",
       "    }\n",
       "\n",
       "    .dataframe tbody tr th {\n",
       "        vertical-align: top;\n",
       "    }\n",
       "\n",
       "    .dataframe thead th {\n",
       "        text-align: right;\n",
       "    }\n",
       "</style>\n",
       "<table border=\"1\" class=\"dataframe\">\n",
       "  <thead>\n",
       "    <tr style=\"text-align: right;\">\n",
       "      <th></th>\n",
       "      <th>2018-19</th>\n",
       "    </tr>\n",
       "  </thead>\n",
       "  <tbody>\n",
       "    <tr>\n",
       "      <td>No Price Change</td>\n",
       "      <td>651</td>\n",
       "    </tr>\n",
       "    <tr>\n",
       "      <td>Price Increase</td>\n",
       "      <td>169</td>\n",
       "    </tr>\n",
       "    <tr>\n",
       "      <td>Price Decrease</td>\n",
       "      <td>123</td>\n",
       "    </tr>\n",
       "  </tbody>\n",
       "</table>\n",
       "</div>"
      ],
      "text/plain": [
       "                 2018-19\n",
       "No Price Change      651\n",
       "Price Increase       169\n",
       "Price Decrease       123"
      ]
     },
     "execution_count": 78,
     "metadata": {},
     "output_type": "execute_result"
    }
   ],
   "source": [
    "columntorow_18_19 = merge_18_19.T\n",
    "columntorow_18_19"
   ]
  },
  {
   "cell_type": "code",
   "execution_count": 79,
   "metadata": {},
   "outputs": [
    {
     "data": {
      "image/png": "[encoded data removed]",
      "text/plain": [
       "<Figure size 432x288 with 1 Axes>"
      ]
     },
     "metadata": {},
     "output_type": "display_data"
    }
   ],
   "source": [
    "change_pie18_19 = columntorow_18_19.plot(kind='pie', y=\"2018-19\", title=(\"Price Change 2018-2019\"), autopct=\"%1.1f%%\")\n",
    "plt.tight_layout()\n",
    "plt.ylabel('Price Change')\n",
    "plt.axis('equal')\n",
    "plt.show()"
   ]
  },
  {
   "cell_type": "code",
   "execution_count": 80,
   "metadata": {},
   "outputs": [],
   "source": [
    "no_price_change_19 = price_df.loc[pd.to_numeric(price_df[\"Price_Diff_19_20\"]).astype(float) == 0]\n",
    "no_price_change_19 = no_price_change_19[\"Price_Diff_19_20\"].count()"
   ]
  },
  {
   "cell_type": "code",
   "execution_count": 81,
   "metadata": {},
   "outputs": [],
   "source": [
    "increase_price_19 = price_df.loc[pd.to_numeric(price_df[\"Price_Diff_19_20\"]).astype(float) > 0]\n",
    "increase_price_19 = increase_price_19[\"Price_Diff_19_20\"].count()"
   ]
  },
  {
   "cell_type": "code",
   "execution_count": 82,
   "metadata": {},
   "outputs": [],
   "source": [
    "decrease_price_19 = price_df.loc[pd.to_numeric(price_df[\"Price_Diff_19_20\"]).astype(float) < 0]\n",
    "decrease_price_19 = decrease_price_19[\"Price_Diff_19_20\"].count()"
   ]
  },
  {
   "cell_type": "code",
   "execution_count": 83,
   "metadata": {},
   "outputs": [],
   "source": [
    "merge_19_20 = pd.DataFrame({\"No Price Change\": [no_price_change_19], \"Price Increase\": [increase_price_19], \n",
    "                        \"Price Decrease\": [decrease_price_19]})\n",
    "merge_19_20 = merge_19_20.rename(index={0: \"2019-20\"})"
   ]
  },
  {
   "cell_type": "code",
   "execution_count": 84,
   "metadata": {},
   "outputs": [
    {
     "data": {
      "text/html": [
       "<div>\n",
       "<style scoped>\n",
       "    .dataframe tbody tr th:only-of-type {\n",
       "        vertical-align: middle;\n",
       "    }\n",
       "\n",
       "    .dataframe tbody tr th {\n",
       "        vertical-align: top;\n",
       "    }\n",
       "\n",
       "    .dataframe thead th {\n",
       "        text-align: right;\n",
       "    }\n",
       "</style>\n",
       "<table border=\"1\" class=\"dataframe\">\n",
       "  <thead>\n",
       "    <tr style=\"text-align: right;\">\n",
       "      <th></th>\n",
       "      <th>2019-20</th>\n",
       "    </tr>\n",
       "  </thead>\n",
       "  <tbody>\n",
       "    <tr>\n",
       "      <td>No Price Change</td>\n",
       "      <td>704</td>\n",
       "    </tr>\n",
       "    <tr>\n",
       "      <td>Price Increase</td>\n",
       "      <td>177</td>\n",
       "    </tr>\n",
       "    <tr>\n",
       "      <td>Price Decrease</td>\n",
       "      <td>62</td>\n",
       "    </tr>\n",
       "  </tbody>\n",
       "</table>\n",
       "</div>"
      ],
      "text/plain": [
       "                 2019-20\n",
       "No Price Change      704\n",
       "Price Increase       177\n",
       "Price Decrease        62"
      ]
     },
     "execution_count": 84,
     "metadata": {},
     "output_type": "execute_result"
    }
   ],
   "source": [
    "columntorow_19_20 = merge_19_20.T\n",
    "columntorow_19_20"
   ]
  },
  {
   "cell_type": "code",
   "execution_count": 85,
   "metadata": {},
   "outputs": [
    {
     "data": {
      "image/png": "[encoded data removed]",
      "text/plain": [
       "<Figure size 432x288 with 1 Axes>"
      ]
     },
     "metadata": {},
     "output_type": "display_data"
    }
   ],
   "source": [
    "columntorow_19_20 = columntorow_19_20.plot(kind='pie', y=\"2019-20\", title=(\"Price Change 2019-2020\"), autopct=\"%1.1f%%\")\n",
    "plt.tight_layout()\n",
    "plt.ylabel('Price Change')\n",
    "plt.axis('equal')\n",
    "plt.show()"
   ]
  },
  {
   "cell_type": "code",
   "execution_count": 86,
   "metadata": {},
   "outputs": [
    {
     "data": {
      "image/png": "[encoded data removed]",
      "text/plain": [
       "<Figure size 432x288 with 1 Axes>"
      ]
     },
     "metadata": {
      "needs_background": "light"
     },
     "output_type": "display_data"
    }
   ],
   "source": [
    "#Listings count per borough, throughout the years\n",
    "listings_count_2017 = [10101,9891,1592,278,94]\n",
    "listings_count_2018 = [10775,10050,1752,312,96]\n",
    "listings_count_2019 = [9404,8877,1568,282,89]\n",
    "listings_count_2020 = [8182,7465,1418,276,85]\n",
    "x=[\"2017\",\"2018\",\"2019\",\"2020\"]\n",
    "y1=[10101,10775,9404,8182]\n",
    "y2=[9891,10050,8877,7465]\n",
    "y3=[1592,1752,1568,1418]\n",
    "y4=[278,312,282,276]\n",
    "y5=[94,96,89,85]\n",
    "#Plot\n",
    "plt.stackplot(x,y1, y2, y3, y4, y5, labels=[\"Brooklyn\",\"Manhattan\",\"Queens\",\"Bronx\",\"Staten Island\"], colors=[\"blue\",\"green\",\"purple\",\"orange\",\"red\"])\n",
    "plt.legend(loc=\"upper right\")\n",
    "plt.show()"
   ]
  },
  {
   "cell_type": "code",
   "execution_count": 87,
   "metadata": {},
   "outputs": [
    {
     "data": {
      "text/plain": [
       "neighbourhood_group_cleansed\n",
       "Bronx              278\n",
       "Brooklyn          9891\n",
       "Manhattan        10101\n",
       "Queens            1592\n",
       "Staten Island       94\n",
       "Name: neighbourhood_group_cleansed, dtype: int64"
      ]
     },
     "execution_count": 87,
     "metadata": {},
     "output_type": "execute_result"
    }
   ],
   "source": [
    "# 2017 count\n",
    "borough_count_2017 = march_2017_small.groupby('neighbourhood_group_cleansed')\n",
    "\n",
    "# Count how many times each maker appears in our group\n",
    "mar_2017_count = borough_count_2017['neighbourhood_group_cleansed'].count()\n",
    "\n",
    "mar_2017_count"
   ]
  },
  {
   "cell_type": "code",
   "execution_count": 88,
   "metadata": {},
   "outputs": [],
   "source": [
    "boroughs = [ \"Manhattan\", \"Brooklyn\", \"Queens\", \"Bronx\", \"Staten Island\"]\n",
    "listings_count_2017 = [10101,9891,1592,278,94]\n",
    "colors = [\"lightblue\",\"green\",\"orange\",\"lightskyblue\",\"lightcoral\"]\n",
    "explode = (0.1,0.1,0.01,0.6,0.9)"
   ]
  },
  {
   "cell_type": "code",
   "execution_count": 89,
   "metadata": {},
   "outputs": [
    {
     "data": {
      "image/png": "[encoded data removed]",
      "text/plain": [
       "<Figure size 432x288 with 1 Axes>"
      ]
     },
     "metadata": {},
     "output_type": "display_data"
    }
   ],
   "source": [
    "# 2017 pie chart\n",
    "plt.pie(listings_count_2017, explode=explode, labels=boroughs, colors=colors,\n",
    "        autopct=\"%1.1f%%\", shadow=True, startangle=140)\n",
    "# Create axes which are equal so we have a perfect circle\n",
    "plt.axis()\n",
    "\n",
    "\n",
    "plt.show()"
   ]
  },
  {
   "cell_type": "code",
   "execution_count": 90,
   "metadata": {},
   "outputs": [
    {
     "data": {
      "text/plain": [
       "neighbourhood_group_cleansed\n",
       "Bronx              312\n",
       "Brooklyn         10775\n",
       "Manhattan        10050\n",
       "Queens            1752\n",
       "Staten Island       96\n",
       "Name: neighbourhood_group_cleansed, dtype: int64"
      ]
     },
     "execution_count": 90,
     "metadata": {},
     "output_type": "execute_result"
    }
   ],
   "source": [
    "# 2018 count\n",
    "borough_count_2018 = march_2018_small.groupby('neighbourhood_group_cleansed')\n",
    "\n",
    "# Count\n",
    "mar_2018_count = borough_count_2018['neighbourhood_group_cleansed'].count()\n",
    "\n",
    "mar_2018_count"
   ]
  },
  {
   "cell_type": "code",
   "execution_count": 91,
   "metadata": {},
   "outputs": [
    {
     "data": {
      "image/png": "[encoded data removed]",
      "text/plain": [
       "<Figure size 432x288 with 1 Axes>"
      ]
     },
     "metadata": {},
     "output_type": "display_data"
    }
   ],
   "source": [
    "# 2018 pie chart\n",
    "\n",
    "boroughs = [\"Brooklyn\", \"Manhattan\", \"Queens\", \"Bronx\", \"Staten Island\"]\n",
    "listings_count_2018 = [10775,10050,1752,312,96]\n",
    "colors = [\"green\",\"lightblue\",\"orange\",\"lightskyblue\",\"lightcoral\"]\n",
    "explode = (0.1,0.1,0.01,0.6,0.9)\n",
    "\n",
    "plt.pie(listings_count_2018, explode=explode, labels=boroughs, colors=colors,\n",
    "        autopct=\"%1.1f%%\", shadow=True, startangle=140)\n",
    "# Create axes which are equal so we have a perfect circle\n",
    "plt.axis()\n",
    "\n",
    "\n",
    "plt.show()"
   ]
  },
  {
   "cell_type": "code",
   "execution_count": 92,
   "metadata": {},
   "outputs": [
    {
     "data": {
      "text/plain": [
       "Hood_19\n",
       "Bronx             282\n",
       "Brooklyn         9404\n",
       "Manhattan        8877\n",
       "Queens           1568\n",
       "Staten Island      89\n",
       "Name: Hood_19, dtype: int64"
      ]
     },
     "execution_count": 92,
     "metadata": {},
     "output_type": "execute_result"
    }
   ],
   "source": [
    "# 2019 count\n",
    "borough_count_2019 = march_2019_small.groupby('Hood_19')\n",
    "\n",
    "# Count how many times each maker appears in our group\n",
    "mar_2019_count = borough_count_2019['Hood_19'].count()\n",
    "\n",
    "mar_2019_count"
   ]
  },
  {
   "cell_type": "code",
   "execution_count": 93,
   "metadata": {},
   "outputs": [
    {
     "data": {
      "image/png": "[encoded data removed]",
      "text/plain": [
       "<Figure size 432x288 with 1 Axes>"
      ]
     },
     "metadata": {},
     "output_type": "display_data"
    }
   ],
   "source": [
    "# 2019 pie chart\n",
    "boroughs = [\"Brooklyn\", \"Manhattan\", \"Queens\", \"The Bronx\", \"Staten Island\"]\n",
    "listings_count_2019 = [9404,8877,1568,282,89]\n",
    "\n",
    "# Tell matplotlib to create a pie chart based upon the above data\n",
    "plt.pie(listings_count_2019, explode=explode, labels=boroughs, colors=colors,\n",
    "        autopct=\"%1.1f%%\", shadow=True, startangle=140)\n",
    "# Create axes which are equal so we have a perfect circle\n",
    "plt.axis()\n",
    "\n",
    "\n",
    "plt.show()"
   ]
  },
  {
   "cell_type": "code",
   "execution_count": 94,
   "metadata": {},
   "outputs": [
    {
     "data": {
      "text/plain": [
       "Hood_20\n",
       "Bronx             276\n",
       "Brooklyn         8182\n",
       "Manhattan        7465\n",
       "Queens           1418\n",
       "Staten Island      85\n",
       "Name: Hood_20, dtype: int64"
      ]
     },
     "execution_count": 94,
     "metadata": {},
     "output_type": "execute_result"
    }
   ],
   "source": [
    "# 2020 count\n",
    "borough_count_2020 = march_2020_small.groupby('Hood_20')\n",
    "\n",
    "# Count how many times each maker appears in our group\n",
    "mar_2020_count = borough_count_2020['Hood_20'].count()\n",
    "\n",
    "mar_2020_count"
   ]
  },
  {
   "cell_type": "code",
   "execution_count": 95,
   "metadata": {},
   "outputs": [
    {
     "data": {
      "image/png": "[encoded data removed]",
      "text/plain": [
       "<Figure size 432x288 with 1 Axes>"
      ]
     },
     "metadata": {},
     "output_type": "display_data"
    }
   ],
   "source": [
    "# 2020 pie chart\n",
    "boroughs = [\"Brooklyn\", \"Manhattan\", \"Queens\", \"The Bronx\", \"Staten Island\"]\n",
    "listings_count_2020 = [8182,7465,1418,276,85]\n",
    "\n",
    "# Tell matplotlib to create a pie chart based upon the above data\n",
    "plt.pie(listings_count_2020, explode=explode, labels=boroughs, colors=colors,\n",
    "        autopct=\"%1.1f%%\", shadow=True, startangle=140)\n",
    "# Create axes which are equal so we have a perfect circle\n",
    "plt.axis()\n",
    "\n",
    "\n",
    "plt.show()"
   ]
  },
  {
   "cell_type": "code",
   "execution_count": 96,
   "metadata": {},
   "outputs": [
    {
     "data": {
      "text/plain": [
       "Ttest_relResult(statistic=-2.1513613547545436, pvalue=0.03170137822992948)"
      ]
     },
     "execution_count": 96,
     "metadata": {},
     "output_type": "execute_result"
    }
   ],
   "source": [
    "# paired t-test comparing price change as a proxy for hosts vs superhosts\n",
    "%matplotlib inline\n",
    "from matplotlib import pyplot as plt\n",
    "import numpy as np\n",
    "import scipy.stats as stats\n",
    "\n",
    "superhosts=dropped_col['Price_20']\n",
    "hosts=dropped_col['Price_17']\n",
    "\n",
    "stats.ttest_rel(hosts, superhosts) "
   ]
  },
  {
   "cell_type": "code",
   "execution_count": 97,
   "metadata": {},
   "outputs": [],
   "source": [
    "#APPENDIX - Nested Doughnut"
   ]
  },
  {
   "cell_type": "code",
   "execution_count": 98,
   "metadata": {},
   "outputs": [
    {
     "name": "stdout",
     "output_type": "stream",
     "text": [
      "1148\n",
      "38252\n",
      "36493\n",
      "6330\n",
      "364\n",
      "82587\n"
     ]
    }
   ],
   "source": [
    "bronx_sum = mar_2017_count['Bronx']+mar_2018_count['Bronx']+mar_2019_count['Bronx']+mar_2020_count['Bronx']\n",
    "print(bronx_sum)\n",
    "\n",
    "brooklyn_sum = mar_2017_count['Brooklyn']+mar_2018_count['Brooklyn']+mar_2019_count['Brooklyn']+mar_2020_count['Brooklyn']\n",
    "print(brooklyn_sum)\n",
    "\n",
    "manhattan_sum = mar_2017_count['Manhattan']+mar_2018_count['Manhattan']+mar_2019_count['Manhattan']+mar_2020_count['Manhattan']\n",
    "print(manhattan_sum)\n",
    "\n",
    "queens_sum = mar_2017_count['Queens']+mar_2018_count['Queens']+mar_2019_count['Queens']+mar_2020_count['Queens']\n",
    "print(queens_sum)\n",
    "\n",
    "staten_island_sum = mar_2017_count['Staten Island']+mar_2018_count['Staten Island']+mar_2019_count['Staten Island']+mar_2020_count['Staten Island']\n",
    "print(staten_island_sum)\n",
    "\n",
    "total_sum = bronx_sum+brooklyn_sum+manhattan_sum+queens_sum+staten_island_sum\n",
    "print(total_sum)"
   ]
  },
  {
   "cell_type": "code",
   "execution_count": 99,
   "metadata": {},
   "outputs": [
    {
     "data": {
      "image/png": "[encoded data removed]",
      "text/plain": [
       "<Figure size 432x288 with 1 Axes>"
      ]
     },
     "metadata": {},
     "output_type": "display_data"
    }
   ],
   "source": [
    "# Libraries\n",
    "import matplotlib.pyplot as plt\n",
    "\n",
    "# Make data: I have 5 groups and 20 subgroups\n",
    "group_names=['Bronx', 'Brooklyn', 'Manhattan', 'Queens', 'Staten Island']\n",
    "group_size=[bronx_sum/total_sum,brooklyn_sum/total_sum,manhattan_sum/total_sum,queens_sum/total_sum,staten_island_sum/total_sum]\n",
    "subgroup_names=['17', '18', '19', '20','17', '18', '19', '20',\n",
    "                '17', '18', '19', '20','17', '18', '19', '20',\n",
    "                '17', '18', '19', '20']\n",
    "subgroup_size=[mar_2017_count['Bronx'],mar_2018_count['Bronx'],mar_2019_count['Bronx'],mar_2020_count['Bronx'],\n",
    "               mar_2017_count['Brooklyn'],mar_2018_count['Brooklyn'],mar_2019_count['Brooklyn'],mar_2020_count['Brooklyn'],\n",
    "               mar_2017_count['Manhattan'],mar_2018_count['Manhattan'],mar_2019_count['Manhattan'],mar_2020_count['Manhattan'],\n",
    "               mar_2017_count['Queens'],mar_2018_count['Queens'],mar_2019_count['Queens'],mar_2020_count['Queens'],\n",
    "               mar_2017_count['Staten Island'],mar_2018_count['Staten Island'],mar_2019_count['Staten Island'],\n",
    "               mar_2020_count['Staten Island']]\n",
    "\n",
    "# Create colors\n",
    "a, b, c, d, e=[plt.cm.Oranges, plt.cm.Blues, plt.cm.Greens, plt.cm.Purples, plt.cm.Reds]\n",
    "\n",
    "# First Ring (outside)\n",
    "fig, ax = plt.subplots()\n",
    "ax.axis('equal')\n",
    "mypie, _ = ax.pie(group_size, radius=2.0, labels=group_names, colors=[a(0.6), b(0.6), c(0.6), d(0.6), e(0.6)] )\n",
    "plt.setp( mypie, width=0.6, edgecolor='white')\n",
    "\n",
    "# Second Ring (Inside)\n",
    "mypie2, _ = ax.pie(subgroup_size, radius=2.0-0.6, labels=subgroup_names, labeldistance=0.5, colors=[a(0.1), a(0.2), a(0.3), a(0.4), b(0.1), b(0.2), b(0.3), b(0.4), c(0.1),\n",
    "                                                                                                    c(0.2), c(0.3), c(0.4), d(0.1), d(0.2), d(0.3), d(0.4), e(0.1), e(0.2),\n",
    "                                                                                                    e(0.3), e(0.4)])\n",
    "plt.setp( mypie2, width=0.4, edgecolor='white')\n",
    "plt.margins(0,0)\n",
    "plt.legend(('Bronx',  'Brooklyn',  'Manhattan',   'Queens',   'Staten Island', '2017', '2018', '2019', '2020'),loc='upper right', bbox_to_anchor=(1.5, 1.5))\n",
    "\n",
    " \n",
    "# show it\n",
    "plt.show()"
   ]
  },
  {
   "cell_type": "code",
   "execution_count": null,
   "metadata": {},
   "outputs": [],
   "source": []
  }
 ],
 "metadata": {
  "kernelspec": {
   "display_name": "Python 3",
   "language": "python",
   "name": "python3"
  },
  "language_info": {
   "codemirror_mode": {
    "name": "ipython",
    "version": 3
   },
   "file_extension": ".py",
   "mimetype": "text/x-python",
   "name": "python",
   "nbconvert_exporter": "python",
   "pygments_lexer": "ipython3",
   "version": "3.7.4"
  }
 },
 "nbformat": 4,
 "nbformat_minor": 2
}
