{
 "cells": [
  {
   "cell_type": "code",
   "execution_count": null,
   "metadata": {},
   "outputs": [],
   "source": [
    "# Dependencies and Setup\n",
    "import pandas as pd\n",
    "import matplotlib.pyplot as plt\n",
    "import numpy as np\n",
    "\n",
    "# File to Load\n",
    "\n",
    "#2020\n",
    "mar_2020 = \"../data/feb_2020.csv\"\n",
    "feb_2020 = \"../data/feb_2020.csv\"\n",
    "jan_2020 = \"../data/jan_2020.csv\"\n",
    "\n",
    "#2019\n",
    "dec_2019 = \"../data/dec_2019.csv\"\n",
    "nov_2019 = \"../data/nov_2019.csv\"\n",
    "oct_2019 = \"../data/oct_2019.csv\"\n",
    "sep_2019 = \"../data/sep_2019.csv\"\n",
    "aug_2019 = \"../data/aug_2019.csv\"\n",
    "jul_2019 = \"../data/jul_2019.csv\"\n",
    "jun_2019 = \"../data/jun_2019.csv\"\n",
    "may_2019 = \"../data/may_2019.csv\"\n",
    "apr_2019 = \"../data/apr_2019.csv\"\n",
    "mar_2019 = \"../data/mar_2019.csv\"\n",
    "feb_2019 = \"../data/feb_2019.csv\"\n",
    "jan_2019 = \"../data/jan_2019.csv\"\n",
    "\n",
    "#2018\n",
    "dec_2018 = \"../data/dec_2018.csv\"\n",
    "nov_2018 = \"../data/nov_2018.csv\"\n",
    "oct_2018 = \"../data/oct_2018.csv\"\n",
    "sep_2018 = \"../data/sep_2018.csv\"\n",
    "aug_2018 = \"../data/aug_2018.csv\"\n",
    "jul_2018 = \"../data/jul_2018.csv\"\n",
    "jun_2018 = \"../data/jun_2018.csv\"\n",
    "may_2018 = \"../data/may_2018.csv\"\n",
    "apr_2018 = \"../data/apr_2018.csv\"\n",
    "mar_2018 = \"../data/mar_2018.csv\"\n",
    "feb_2018 = \"../data/feb_2018.csv\"\n",
    "jan_2018 = \"../data/jan_2018.csv\"\n",
    "\n",
    "#2017\n",
    "dec_2017 = \"../data/dec_2017.csv\"\n",
    "nov_2017 = \"../data/nov_2017.csv\"\n",
    "oct_2017 = \"../data/oct_2017.csv\"\n",
    "sep_2017 = \"../data/sep_2017.csv\"\n",
    "aug_2017 = \"../data/aug_2017.csv\"\n",
    "jul_2017 = \"../data/jul_2017.csv\"\n",
    "jun_2017 = \"../data/jun_2017.csv\"\n",
    "may_2017 = \"../data/may_2017.csv\"\n",
    "apr_2017 = \"../data/apr_2017.csv\"\n",
    "mar_2017 = \"../data/mar_2017.csv\"\n",
    "\n",
    "# Read Purchasing File and store into Pandas data frame\n",
    "mar_2017 = pd.read_csv(raw_purchase_data)\n",
    "purchase_data\n",
    "\n"
   ]
  }
 ],
 "metadata": {
  "kernelspec": {
   "display_name": "Python 3.7.4 64-bit",
   "language": "python",
   "name": "python37464bit427e03a5bfb642b6a5576b76ad6c9e93"
  },
  "language_info": {
   "codemirror_mode": {
    "name": "ipython",
    "version": 3
   },
   "file_extension": ".py",
   "mimetype": "text/x-python",
   "name": "python",
   "nbconvert_exporter": "python",
   "pygments_lexer": "ipython3",
   "version": "3.7.4"
  }
 },
 "nbformat": 4,
 "nbformat_minor": 4
}
